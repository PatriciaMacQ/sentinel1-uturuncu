{
 "cells": [
  {
   "cell_type": "markdown",
   "metadata": {},
   "source": [
    "# Step 1: Query the ASF Database\n",
    "This notebook uses the dinosar python package to search on the ASF (Alaksa Satellite Facility) for Sentinel 1-A/B SAR data convering the APMB (Altiplano-Puna Magma Body) for all times."
   ]
  },
  {
   "cell_type": "markdown",
   "metadata": {},
   "source": [
    "## 1.1: Import Python Modules\n",
    "Import the python modules you need (and install dinosar if necessary)"
   ]
  },
  {
   "cell_type": "code",
   "execution_count": null,
   "metadata": {},
   "outputs": [],
   "source": [
    "# if dinosar library not in base environment uncomment below (run just once)\n",
    "#!pip install --no-cache git+https://github.com/scottyhq/dinosar.git@master"
   ]
  },
  {
   "cell_type": "code",
   "execution_count": 3,
   "metadata": {},
   "outputs": [],
   "source": [
    "import geopandas as gpd\n",
    "import pandas as pd\n",
    "import geoviews as gv\n",
    "import hvplot.pandas\n",
    "import dinosar"
   ]
  },
  {
   "cell_type": "markdown",
   "metadata": {},
   "source": [
    "## 1.2: Load and plot area of interest\n",
    "\n",
    "Load the file \"apmb.geojson\" that contains the bounding coordinates for the APMB, our area of interest (AOI).  Make a plot to confirm everything worked."
   ]
  },
  {
   "cell_type": "code",
   "execution_count": 4,
   "metadata": {},
   "outputs": [
    {
     "data": {
      "text/plain": [
       "[-23.68699916256815,\n",
       " -21.29081519506481,\n",
       " -68.46349117379683,\n",
       " -65.27091018760244]"
      ]
     },
     "execution_count": 4,
     "metadata": {},
     "output_type": "execute_result"
    }
   ],
   "source": [
    "gf = gpd.read_file('apmb.geojson') #load file with apmb coordinates\n",
    "snwe = dinosar.archive.asf.ogr2snwe('apmb.geojson') #grad the lat/lon extent of the apmb\n",
    "snwe #print out the lat/lon extent"
   ]
  },
  {
   "cell_type": "code",
   "execution_count": 7,
   "metadata": {},
   "outputs": [
    {
     "name": "stderr",
     "output_type": "stream",
     "text": [
      "WARNING:param.GeoOverlayPlot04287: title_format is deprecated. Please use title instead\n",
      "WARNING:param.GeoOverlayPlot04287: title_format is deprecated. Please use title instead\n"
     ]
    },
    {
     "data": {},
     "metadata": {},
     "output_type": "display_data"
    },
    {
     "data": {
      "application/vnd.holoviews_exec.v0+json": "",
      "text/html": [
       "<div id='1347'>\n",
       "\n",
       "\n",
       "\n",
       "\n",
       "\n",
       "  <div class=\"bk-root\" id=\"750dce28-80b1-44f2-a32b-869adeaf768e\" data-root-id=\"1347\"></div>\n",
       "</div>\n",
       "<script type=\"application/javascript\">(function(root) {\n",
       "  function embed_document(root) {\n",
       "  var docs_json = {\"f65c9981-190f-4dd3-bde6-dc6c339b9dfb\":{\"roots\":{\"references\":[{\"attributes\":{},\"id\":\"1386\",\"type\":\"ResetTool\"},{\"attributes\":{\"axis\":{\"id\":\"1376\"},\"grid_line_color\":null,\"ticker\":null},\"id\":\"1379\",\"type\":\"Grid\"},{\"attributes\":{\"align\":null,\"below\":[{\"id\":\"1376\"}],\"center\":[{\"id\":\"1379\"},{\"id\":\"1383\"}],\"frame_height\":500,\"frame_width\":700,\"left\":[{\"id\":\"1380\"}],\"margin\":null,\"match_aspect\":true,\"min_border_bottom\":10,\"min_border_left\":10,\"min_border_right\":10,\"min_border_top\":10,\"plot_height\":500,\"plot_width\":700,\"renderers\":[{\"id\":\"1419\"},{\"id\":\"1429\"},{\"id\":\"1437\"}],\"sizing_mode\":\"fixed\",\"title\":{\"id\":\"1368\"},\"toolbar\":{\"id\":\"1388\"},\"x_range\":{\"id\":\"1357\"},\"x_scale\":{\"id\":\"1372\"},\"y_range\":{\"id\":\"1358\"},\"y_scale\":{\"id\":\"1374\"}},\"id\":\"1367\",\"subtype\":\"Figure\",\"type\":\"Plot\"},{\"attributes\":{\"data\":{\"x\":{\"__ndarray__\":\"9jQO2SqHXME=\",\"dtype\":\"float64\",\"shape\":[1]},\"y\":{\"__ndarray__\":\"JckWfbJoQ8E=\",\"dtype\":\"float64\",\"shape\":[1]}},\"selected\":{\"id\":\"1432\"},\"selection_policy\":{\"id\":\"1442\"}},\"id\":\"1431\",\"type\":\"ColumnDataSource\"},{\"attributes\":{\"fill_alpha\":{\"value\":0.2},\"fill_color\":{\"value\":\"#ff0000\"},\"line_alpha\":{\"value\":0.2},\"line_color\":{\"value\":\"#ff0000\"},\"marker\":{\"value\":\"triangle\"},\"size\":{\"units\":\"screen\",\"value\":10},\"x\":{\"field\":\"x\"},\"y\":{\"field\":\"y\"}},\"id\":\"1436\",\"type\":\"Scatter\"},{\"attributes\":{\"attribution\":\"&copy; <a href=\\\"https://www.openstreetmap.org/copyright\\\">OpenStreetMap</a> contributors, &copy; <a href=\\\"https://cartodb.com/attributions\\\">CartoDB</a>\",\"url\":\"http://3.api.cartocdn.com/base-eco/{Z}/{X}/{Y}.png\"},\"id\":\"1416\",\"type\":\"WMTSTileSource\"},{\"attributes\":{\"fill_color\":{\"value\":\"#ff0000\"},\"line_color\":{\"value\":\"#ff0000\"},\"marker\":{\"value\":\"triangle\"},\"size\":{\"units\":\"screen\",\"value\":10},\"x\":{\"field\":\"x\"},\"y\":{\"field\":\"y\"}},\"id\":\"1434\",\"type\":\"Scatter\"},{\"attributes\":{},\"id\":\"1442\",\"type\":\"UnionRenderers\"},{\"attributes\":{\"dimension\":\"lon\"},\"id\":\"1397\",\"type\":\"MercatorTickFormatter\"},{\"attributes\":{\"active_drag\":\"auto\",\"active_inspect\":\"auto\",\"active_multi\":null,\"active_scroll\":\"auto\",\"active_tap\":\"auto\",\"tools\":[{\"id\":\"1359\"},{\"id\":\"1360\"},{\"id\":\"1385\"},{\"id\":\"1386\"}]},\"id\":\"1388\",\"type\":\"Toolbar\"},{\"attributes\":{\"fill_color\":{\"value\":null},\"line_color\":{\"value\":\"orange\"},\"xs\":{\"field\":\"xs\"},\"ys\":{\"field\":\"ys\"}},\"id\":\"1426\",\"type\":\"MultiPolygons\"},{\"attributes\":{\"fill_alpha\":{\"value\":0.2},\"fill_color\":{\"value\":null},\"line_alpha\":{\"value\":0.2},\"line_color\":{\"value\":\"orange\"},\"xs\":{\"field\":\"xs\"},\"ys\":{\"field\":\"ys\"}},\"id\":\"1428\",\"type\":\"MultiPolygons\"},{\"attributes\":{\"axis\":{\"id\":\"1380\"},\"dimension\":1,\"grid_line_color\":null,\"ticker\":null},\"id\":\"1383\",\"type\":\"Grid\"},{\"attributes\":{\"end\":-2273031.045451419,\"min_interval\":5,\"reset_end\":-2273031.045451419,\"reset_start\":-2875744.5015247753,\"start\":-2875744.5015247753,\"tags\":[[[\"Latitude\",\"Latitude\",null]]]},\"id\":\"1358\",\"type\":\"Range1d\"},{\"attributes\":{\"source\":{\"id\":\"1423\"}},\"id\":\"1430\",\"type\":\"CDSView\"},{\"attributes\":{},\"id\":\"1374\",\"type\":\"LinearScale\"},{\"attributes\":{\"dimension\":\"lon\"},\"id\":\"1396\",\"type\":\"MercatorTicker\"},{\"attributes\":{\"level\":\"underlay\",\"tile_source\":{\"id\":\"1416\"}},\"id\":\"1419\",\"type\":\"TileRenderer\"},{\"attributes\":{\"match_aspect\":true,\"overlay\":{\"id\":\"1387\"}},\"id\":\"1360\",\"type\":\"BoxZoomTool\"},{\"attributes\":{},\"id\":\"1372\",\"type\":\"LinearScale\"},{\"attributes\":{\"dimension\":\"lat\"},\"id\":\"1398\",\"type\":\"MercatorTicker\"},{\"attributes\":{\"source\":{\"id\":\"1431\"}},\"id\":\"1438\",\"type\":\"CDSView\"},{\"attributes\":{\"zoom_on_axis\":false},\"id\":\"1359\",\"type\":\"WheelZoomTool\"},{\"attributes\":{\"bottom_units\":\"screen\",\"fill_alpha\":0.5,\"fill_color\":\"lightgrey\",\"left_units\":\"screen\",\"level\":\"overlay\",\"line_alpha\":1.0,\"line_color\":\"black\",\"line_dash\":[4,4],\"line_width\":2,\"render_mode\":\"css\",\"right_units\":\"screen\",\"top_units\":\"screen\"},\"id\":\"1387\",\"type\":\"BoxAnnotation\"},{\"attributes\":{\"end\":-7203485.70008789,\"min_interval\":5,\"reset_end\":-7203485.70008789,\"reset_start\":-8047284.538590589,\"start\":-8047284.538590589,\"tags\":[[[\"Longitude\",\"Longitude\",null]]]},\"id\":\"1357\",\"type\":\"Range1d\"},{\"attributes\":{},\"id\":\"1385\",\"type\":\"PanTool\"},{\"attributes\":{\"children\":[{\"id\":\"1348\"},{\"id\":\"1367\"},{\"id\":\"1487\"}],\"margin\":[0,0,0,0],\"name\":\"Row04233\",\"tags\":[\"embedded\"]},\"id\":\"1347\",\"type\":\"Row\"},{\"attributes\":{},\"id\":\"1424\",\"type\":\"Selection\"},{\"attributes\":{\"margin\":[5,5,5,5],\"name\":\"HSpacer04238\",\"sizing_mode\":\"stretch_width\"},\"id\":\"1487\",\"type\":\"Spacer\"},{\"attributes\":{\"margin\":[5,5,5,5],\"name\":\"HSpacer04237\",\"sizing_mode\":\"stretch_width\"},\"id\":\"1348\",\"type\":\"Spacer\"},{\"attributes\":{\"data_source\":{\"id\":\"1431\"},\"glyph\":{\"id\":\"1434\"},\"hover_glyph\":null,\"muted_glyph\":{\"id\":\"1436\"},\"nonselection_glyph\":{\"id\":\"1435\"},\"selection_glyph\":null,\"view\":{\"id\":\"1438\"}},\"id\":\"1437\",\"type\":\"GlyphRenderer\"},{\"attributes\":{\"axis_label\":\"Latitude\",\"bounds\":\"auto\",\"formatter\":{\"id\":\"1399\"},\"major_label_orientation\":\"horizontal\",\"ticker\":{\"id\":\"1398\"}},\"id\":\"1380\",\"type\":\"LinearAxis\"},{\"attributes\":{\"fill_alpha\":{\"value\":0.1},\"fill_color\":{\"value\":\"#ff0000\"},\"line_alpha\":{\"value\":0.1},\"line_color\":{\"value\":\"#ff0000\"},\"marker\":{\"value\":\"triangle\"},\"size\":{\"units\":\"screen\",\"value\":10},\"x\":{\"field\":\"x\"},\"y\":{\"field\":\"y\"}},\"id\":\"1435\",\"type\":\"Scatter\"},{\"attributes\":{\"text\":\"Sentinel-1 Area of Interest\",\"text_color\":{\"value\":\"black\"},\"text_font_size\":{\"value\":\"12pt\"}},\"id\":\"1368\",\"type\":\"Title\"},{\"attributes\":{},\"id\":\"1440\",\"type\":\"UnionRenderers\"},{\"attributes\":{\"dimension\":\"lat\"},\"id\":\"1399\",\"type\":\"MercatorTickFormatter\"},{\"attributes\":{\"axis_label\":\"Longitude\",\"bounds\":\"auto\",\"formatter\":{\"id\":\"1397\"},\"major_label_orientation\":\"horizontal\",\"ticker\":{\"id\":\"1396\"}},\"id\":\"1376\",\"type\":\"LinearAxis\"},{\"attributes\":{\"data\":{\"xs\":[[[{\"__ndarray__\":\"ggZXhqB8XMHtRu90HYdcwZAq53OMlVzB0JW63jmhXMHkt8LMI9VcwUkI95Kt3FzBgl3aEJbwXMG0T+LnoAZdwe8m/FLMEF3B4OZsPrISXcHl7mKwKA1dwc3oPAYB9VzBfUw6+2AmXMF0KP0cKhZcwRzr7pNmAVzBgaGLQgTqW8HKznQxiNxbwVeI5UcH0VvBk9Xwpta/W8GIqhUfobdbwXr9ppDgwFvBC3shZcgdXMH68iRbnzlcwdOUe2luW1zBggZXhqB8XME=\",\"dtype\":\"float64\",\"shape\":[25]}]]],\"ys\":[[[{\"__ndarray__\":\"ZRlgwJFJRMHoU+nNgDNEwZjjGnjNJUTB/pTqjrEsRMGy4PQFNDlEwYbcqRi8C0TBn2QV0Pm/Q8GkLQfrBoZDwRRB8wT2E0PBhOzMi77BQsG9ARjJBJZCwXk3a5Vug0LB3C8vz+YbQ8Ge49Q5uSxDweVpXbxSNkPBE50Kp/NKQ8FbWu4URIJDwRoeZvmuuEPBNIMrSgHtQ8FYWFRMvh5EwUZ6NwkyWETBLBj+GJd6RMECz2PbWLdEwXAxEEW4jkTBZRlgwJFJRME=\",\"dtype\":\"float64\",\"shape\":[25]}]]]},\"selected\":{\"id\":\"1424\"},\"selection_policy\":{\"id\":\"1440\"}},\"id\":\"1423\",\"type\":\"ColumnDataSource\"},{\"attributes\":{},\"id\":\"1432\",\"type\":\"Selection\"},{\"attributes\":{\"fill_alpha\":{\"value\":0.1},\"fill_color\":{\"value\":null},\"line_alpha\":{\"value\":0.1},\"line_color\":{\"value\":\"orange\"},\"xs\":{\"field\":\"xs\"},\"ys\":{\"field\":\"ys\"}},\"id\":\"1427\",\"type\":\"MultiPolygons\"},{\"attributes\":{\"data_source\":{\"id\":\"1423\"},\"glyph\":{\"id\":\"1426\"},\"hover_glyph\":null,\"muted_glyph\":{\"id\":\"1428\"},\"nonselection_glyph\":{\"id\":\"1427\"},\"selection_glyph\":null,\"view\":{\"id\":\"1430\"}},\"id\":\"1429\",\"type\":\"GlyphRenderer\"}],\"root_ids\":[\"1347\"]},\"title\":\"Bokeh Application\",\"version\":\"2.0.1\"}};\n",
       "  var render_items = [{\"docid\":\"f65c9981-190f-4dd3-bde6-dc6c339b9dfb\",\"root_ids\":[\"1347\"],\"roots\":{\"1347\":\"750dce28-80b1-44f2-a32b-869adeaf768e\"}}];\n",
       "  root.Bokeh.embed.embed_items_notebook(docs_json, render_items);\n",
       "  }\n",
       "if (root.Bokeh !== undefined) {\n",
       "    embed_document(root);\n",
       "  } else {\n",
       "    var attempts = 0;\n",
       "    var timer = setInterval(function(root) {\n",
       "      if (root.Bokeh !== undefined) {\n",
       "        clearInterval(timer);\n",
       "        embed_document(root);\n",
       "      } else if (document.readyState == \"complete\") {\n",
       "        attempts++;\n",
       "        if (attempts > 100) {\n",
       "          clearInterval(timer);\n",
       "          console.log(\"Bokeh: ERROR: Unable to run BokehJS code because BokehJS library is missing\");\n",
       "        }\n",
       "      }\n",
       "    }, 10, root)\n",
       "  }\n",
       "})(window);</script>"
      ],
      "text/plain": [
       ":Overlay\n",
       "   .WMTS.I     :WMTS   [Longitude,Latitude]\n",
       "   .Polygons.I :Polygons   [Longitude,Latitude]\n",
       "   .Points.I   :Points   [x,y]"
      ]
     },
     "execution_count": 7,
     "metadata": {
      "application/vnd.holoviews_exec.v0+json": {
       "id": "1347"
      }
     },
     "output_type": "execute_result"
    }
   ],
   "source": [
    "# Plot the area of interest on a map\n",
    "\n",
    "S,N,W,E = [-25, -20, -72, -65] #set map extent\n",
    "\n",
    "# set up plot elements\n",
    "tiles = gv.tile_sources.CartoEco.options(width=700, height=500).redim.range(Latitude=(S, N), Longitude=(W, E)) \n",
    "aoi = gf.hvplot(geo=True, fill_color=None, line_color='orange', title='Sentinel-1 Area of Interest', hover=False)\n",
    "utur = gv.Points([(-67.18, -22.27)]).opts(color='r', marker='^', size=10)\n",
    "\n",
    "tiles * aoi * utur #This line actually displays the plot"
   ]
  },
  {
   "cell_type": "markdown",
   "metadata": {},
   "source": [
    "## 1.3: Query the ASF database and plot results\n",
    "Search for Sentinel 1-A/B data on ASF that falls within the lat/lon extents defined by our apmb.geojson file.  Plot the results of the search."
   ]
  },
  {
   "cell_type": "code",
   "execution_count": 8,
   "metadata": {},
   "outputs": [],
   "source": [
    "# Define a function that queries the ASF database for both SA and SB results, \n",
    "# and merges search results into one file (\"query.geojson\").\n",
    "# If \"query.geojson\" already exists, this function will overwrite it with a new file \n",
    "# with updated search results.\n",
    "def refresh_inventory(snwe):\n",
    "    dinosar.archive.asf.query_asf(snwe, 'SA') #creates the file \"query_SA.json\"\n",
    "    dinosar.archive.asf.query_asf(snwe, 'SB') #creates the file \"query_SB.json\"\n",
    "    gf = dinosar.archive.asf.merge_inventories('query_SA.json', 'query_SB.json')#merge the results \n",
    "    dinosar.archive.asf.save_inventory(gf)#creates the merged file \"query.geojson\""
   ]
  },
  {
   "cell_type": "code",
   "execution_count": 12,
   "metadata": {},
   "outputs": [
    {
     "name": "stdout",
     "output_type": "stream",
     "text": [
      "Querying ASF Vertex for SA...\n",
      "https://api.daac.asf.alaska.edu/services/search/param?intersectsWith=POLYGON+%28%28-65.27091018760244+-23.68699916256815%2C+-65.27091018760244+-21.29081519506481%2C+-68.46349117379683+-21.29081519506481%2C+-68.46349117379683+-23.68699916256815%2C+-65.27091018760244+-23.68699916256815%29%29&platform=SA&processingLevel=SLC&beamMode=IW&output=json\n",
      "Querying ASF Vertex for SB...\n",
      "https://api.daac.asf.alaska.edu/services/search/param?intersectsWith=POLYGON+%28%28-65.27091018760244+-23.68699916256815%2C+-65.27091018760244+-21.29081519506481%2C+-68.46349117379683+-21.29081519506481%2C+-68.46349117379683+-23.68699916256815%2C+-65.27091018760244+-23.68699916256815%29%29&platform=SB&processingLevel=SLC&beamMode=IW&output=json\n",
      "Merging S1A and S1B inventories\n",
      "Saved inventory:  query.geojson\n"
     ]
    }
   ],
   "source": [
    "refresh_inventory(snwe) #refresh existing file or create a new one"
   ]
  },
  {
   "cell_type": "code",
   "execution_count": 29,
   "metadata": {},
   "outputs": [],
   "source": [
    "#load the search results\n",
    "gf = dinosar.archive.asf.load_inventory('query.geojson')"
   ]
  },
  {
   "cell_type": "code",
   "execution_count": 30,
   "metadata": {},
   "outputs": [
    {
     "data": {
      "text/plain": [
       "array([  3,  10,  76,  83, 149, 156])"
      ]
     },
     "execution_count": 30,
     "metadata": {},
     "output_type": "execute_result"
    }
   ],
   "source": [
    "# print the track/orbit numbers in the search data\n",
    "gf.relativeOrbit.unique()"
   ]
  },
  {
   "cell_type": "code",
   "execution_count": 31,
   "metadata": {},
   "outputs": [
    {
     "data": {
      "text/html": [
       "<div>\n",
       "<style scoped>\n",
       "    .dataframe tbody tr th:only-of-type {\n",
       "        vertical-align: middle;\n",
       "    }\n",
       "\n",
       "    .dataframe tbody tr th {\n",
       "        vertical-align: top;\n",
       "    }\n",
       "\n",
       "    .dataframe thead th {\n",
       "        text-align: right;\n",
       "    }\n",
       "</style>\n",
       "<table border=\"1\" class=\"dataframe\">\n",
       "  <thead>\n",
       "    <tr style=\"text-align: right;\">\n",
       "      <th></th>\n",
       "      <th>relativeOrbit</th>\n",
       "      <th>geometry</th>\n",
       "      <th>code</th>\n",
       "    </tr>\n",
       "  </thead>\n",
       "  <tbody>\n",
       "    <tr>\n",
       "      <th>0</th>\n",
       "      <td>3</td>\n",
       "      <td>POLYGON ((-64.90315 -24.27005, -64.90522 -24.2...</td>\n",
       "      <td>0</td>\n",
       "    </tr>\n",
       "    <tr>\n",
       "      <th>1</th>\n",
       "      <td>10</td>\n",
       "      <td>POLYGON ((-66.22261 -25.02893, -66.19150 -24.9...</td>\n",
       "      <td>1</td>\n",
       "    </tr>\n",
       "    <tr>\n",
       "      <th>2</th>\n",
       "      <td>76</td>\n",
       "      <td>POLYGON ((-66.50769 -25.52393, -66.50785 -25.5...</td>\n",
       "      <td>2</td>\n",
       "    </tr>\n",
       "    <tr>\n",
       "      <th>3</th>\n",
       "      <td>83</td>\n",
       "      <td>POLYGON ((-65.40583 -24.03589, -65.40540 -24.0...</td>\n",
       "      <td>3</td>\n",
       "    </tr>\n",
       "    <tr>\n",
       "      <th>4</th>\n",
       "      <td>149</td>\n",
       "      <td>POLYGON ((-66.14912 -24.84245, -66.14906 -24.8...</td>\n",
       "      <td>4</td>\n",
       "    </tr>\n",
       "  </tbody>\n",
       "</table>\n",
       "</div>"
      ],
      "text/plain": [
       "   relativeOrbit                                           geometry  code\n",
       "0              3  POLYGON ((-64.90315 -24.27005, -64.90522 -24.2...     0\n",
       "1             10  POLYGON ((-66.22261 -25.02893, -66.19150 -24.9...     1\n",
       "2             76  POLYGON ((-66.50769 -25.52393, -66.50785 -25.5...     2\n",
       "3             83  POLYGON ((-65.40583 -24.03589, -65.40540 -24.0...     3\n",
       "4            149  POLYGON ((-66.14912 -24.84245, -66.14906 -24.8...     4"
      ]
     },
     "execution_count": 31,
     "metadata": {},
     "output_type": "execute_result"
    }
   ],
   "source": [
    "# display a table summarizing the geometries of the different orbits\n",
    "gft = gf[['relativeOrbit','geometry']].dissolve(by='relativeOrbit').reset_index()\n",
    "gft['code'] = gft.relativeOrbit.astype('category').cat.codes # sets a code for orbits\n",
    "gft.head()"
   ]
  },
  {
   "cell_type": "code",
   "execution_count": 32,
   "metadata": {},
   "outputs": [],
   "source": [
    "# get geometry of frames from just one month to get an idea of which tracks cover what area\n",
    "gf['code'] = gf.relativeOrbit.astype('category').cat.codes\n",
    "# Extract frames from particular month to get a feel for where frames are\n",
    "start = '09/01/2019'\n",
    "end = '09/30/2019'\n",
    "gdf = gf.query('dateStamp > @start & dateStamp < @end')"
   ]
  },
  {
   "cell_type": "code",
   "execution_count": 33,
   "metadata": {},
   "outputs": [
    {
     "name": "stderr",
     "output_type": "stream",
     "text": [
      "WARNING:param.GeoOverlayPlot06525: title_format is deprecated. Please use title instead\n",
      "WARNING:param.GeoOverlayPlot06525: title_format is deprecated. Please use title instead\n"
     ]
    },
    {
     "data": {},
     "metadata": {},
     "output_type": "display_data"
    },
    {
     "data": {
      "application/vnd.holoviews_exec.v0+json": "",
      "text/html": [
       "<div id='1957'>\n",
       "\n",
       "\n",
       "\n",
       "\n",
       "\n",
       "  <div class=\"bk-root\" id=\"78b53bd3-65da-432e-bdc2-5f9193a513e2\" data-root-id=\"1957\"></div>\n",
       "</div>\n",
       "<script type=\"application/javascript\">(function(root) {\n",
       "  function embed_document(root) {\n",
       "  var docs_json = {\"7e7c2cee-c6f1-4c37-9d76-16d22aea6bae\":{\"roots\":{\"references\":[{\"attributes\":{},\"id\":\"2075\",\"type\":\"UnionRenderers\"},{\"attributes\":{\"margin\":[5,5,5,5],\"name\":\"HSpacer06466\",\"sizing_mode\":\"stretch_width\"},\"id\":\"2134\",\"type\":\"Spacer\"},{\"attributes\":{\"fill_color\":{\"value\":\"#ff0000\"},\"line_color\":{\"value\":\"#ff0000\"},\"marker\":{\"value\":\"triangle\"},\"size\":{\"units\":\"screen\",\"value\":10},\"x\":{\"field\":\"x\"},\"y\":{\"field\":\"y\"}},\"id\":\"2065\",\"type\":\"Scatter\"},{\"attributes\":{\"dimension\":\"lat\"},\"id\":\"2015\",\"type\":\"MercatorTickFormatter\"},{\"attributes\":{\"text\":\"Sentinel-1 Tracks\",\"text_color\":{\"value\":\"black\"},\"text_font_size\":{\"value\":\"12pt\"}},\"id\":\"1983\",\"type\":\"Title\"},{\"attributes\":{\"data_source\":{\"id\":\"2062\"},\"glyph\":{\"id\":\"2065\"},\"hover_glyph\":null,\"muted_glyph\":{\"id\":\"2067\"},\"nonselection_glyph\":{\"id\":\"2066\"},\"selection_glyph\":null,\"view\":{\"id\":\"2069\"}},\"id\":\"2068\",\"type\":\"GlyphRenderer\"},{\"attributes\":{},\"id\":\"2055\",\"type\":\"Selection\"},{\"attributes\":{\"fill_alpha\":{\"value\":0.1},\"fill_color\":{\"value\":\"#ff0000\"},\"line_alpha\":{\"value\":0.1},\"line_color\":{\"value\":\"#ff0000\"},\"marker\":{\"value\":\"triangle\"},\"size\":{\"units\":\"screen\",\"value\":10},\"x\":{\"field\":\"x\"},\"y\":{\"field\":\"y\"}},\"id\":\"2066\",\"type\":\"Scatter\"},{\"attributes\":{\"fill_alpha\":{\"value\":0.2},\"fill_color\":{\"value\":null},\"line_alpha\":{\"value\":0.2},\"line_color\":{\"value\":\"orange\"},\"xs\":{\"field\":\"xs\"},\"ys\":{\"field\":\"ys\"}},\"id\":\"2059\",\"type\":\"MultiPolygons\"},{\"attributes\":{\"source\":{\"id\":\"2054\"}},\"id\":\"2061\",\"type\":\"CDSView\"},{\"attributes\":{\"fill_alpha\":{\"value\":0.2},\"fill_color\":{\"value\":\"#ff0000\"},\"line_alpha\":{\"value\":0.2},\"line_color\":{\"value\":\"#ff0000\"},\"marker\":{\"value\":\"triangle\"},\"size\":{\"units\":\"screen\",\"value\":10},\"x\":{\"field\":\"x\"},\"y\":{\"field\":\"y\"}},\"id\":\"2067\",\"type\":\"Scatter\"},{\"attributes\":{\"callback\":null,\"renderers\":[{\"id\":\"2046\"}],\"tags\":[\"hv_created\"],\"tooltips\":[[\"code\",\"@{code}\"],[\"relativeOrbit\",\"@{relativeOrbit}\"]]},\"id\":\"1975\",\"type\":\"HoverTool\"},{\"attributes\":{},\"id\":\"1989\",\"type\":\"LinearScale\"},{\"attributes\":{},\"id\":\"2071\",\"type\":\"UnionRenderers\"},{\"attributes\":{\"axis\":{\"id\":\"1991\"},\"grid_line_color\":null,\"ticker\":null},\"id\":\"1994\",\"type\":\"Grid\"},{\"attributes\":{},\"id\":\"2063\",\"type\":\"Selection\"},{\"attributes\":{\"end\":-2273031.045451419,\"min_interval\":5,\"reset_end\":-2273031.045451419,\"reset_start\":-2875744.5015247753,\"start\":-2875744.5015247753,\"tags\":[[[\"Latitude\",\"Latitude\",null]]]},\"id\":\"1970\",\"type\":\"Range1d\"},{\"attributes\":{\"axis\":{\"id\":\"1995\"},\"dimension\":1,\"grid_line_color\":null,\"ticker\":null},\"id\":\"1998\",\"type\":\"Grid\"},{\"attributes\":{\"axis_label\":\"Longitude\",\"bounds\":\"auto\",\"formatter\":{\"id\":\"2013\"},\"major_label_orientation\":\"horizontal\",\"ticker\":{\"id\":\"2012\"}},\"id\":\"1991\",\"type\":\"LinearAxis\"},{\"attributes\":{},\"id\":\"2001\",\"type\":\"ResetTool\"},{\"attributes\":{},\"id\":\"2000\",\"type\":\"PanTool\"},{\"attributes\":{\"end\":-7203485.70008789,\"min_interval\":5,\"reset_end\":-7203485.70008789,\"reset_start\":-8047284.538590589,\"start\":-8047284.538590589,\"tags\":[[[\"Longitude\",\"Longitude\",null]]]},\"id\":\"1969\",\"type\":\"Range1d\"},{\"attributes\":{\"fill_color\":{\"value\":null},\"line_color\":{\"value\":\"orange\"},\"xs\":{\"field\":\"xs\"},\"ys\":{\"field\":\"ys\"}},\"id\":\"2057\",\"type\":\"MultiPolygons\"},{\"attributes\":{\"align\":null,\"below\":[{\"id\":\"1991\"}],\"center\":[{\"id\":\"1994\"},{\"id\":\"1998\"}],\"frame_height\":500,\"frame_width\":700,\"left\":[{\"id\":\"1995\"}],\"margin\":null,\"match_aspect\":true,\"min_border_bottom\":10,\"min_border_left\":10,\"min_border_right\":10,\"min_border_top\":10,\"plot_height\":500,\"plot_width\":700,\"renderers\":[{\"id\":\"2035\"},{\"id\":\"2046\"},{\"id\":\"2060\"},{\"id\":\"2068\"}],\"right\":[{\"id\":\"2050\"}],\"sizing_mode\":\"fixed\",\"title\":{\"id\":\"1983\"},\"toolbar\":{\"id\":\"2003\"},\"x_range\":{\"id\":\"1969\"},\"x_scale\":{\"id\":\"1987\"},\"y_range\":{\"id\":\"1970\"},\"y_scale\":{\"id\":\"1989\"}},\"id\":\"1982\",\"subtype\":\"Figure\",\"type\":\"Plot\"},{\"attributes\":{\"data\":{\"x\":{\"__ndarray__\":\"9jQO2SqHXME=\",\"dtype\":\"float64\",\"shape\":[1]},\"y\":{\"__ndarray__\":\"JckWfbJoQ8E=\",\"dtype\":\"float64\",\"shape\":[1]}},\"selected\":{\"id\":\"2063\"},\"selection_policy\":{\"id\":\"2075\"}},\"id\":\"2062\",\"type\":\"ColumnDataSource\"},{\"attributes\":{},\"id\":\"2073\",\"type\":\"UnionRenderers\"},{\"attributes\":{\"source\":{\"id\":\"2062\"}},\"id\":\"2069\",\"type\":\"CDSView\"},{\"attributes\":{\"active_drag\":\"auto\",\"active_inspect\":\"auto\",\"active_multi\":null,\"active_scroll\":\"auto\",\"active_tap\":\"auto\",\"tools\":[{\"id\":\"1971\"},{\"id\":\"1972\"},{\"id\":\"1975\"},{\"id\":\"2000\"},{\"id\":\"2001\"}]},\"id\":\"2003\",\"type\":\"Toolbar\"},{\"attributes\":{\"zoom_on_axis\":false},\"id\":\"1971\",\"type\":\"WheelZoomTool\"},{\"attributes\":{\"axis_label\":\"Latitude\",\"bounds\":\"auto\",\"formatter\":{\"id\":\"2015\"},\"major_label_orientation\":\"horizontal\",\"ticker\":{\"id\":\"2014\"}},\"id\":\"1995\",\"type\":\"LinearAxis\"},{\"attributes\":{\"children\":[{\"id\":\"1958\"},{\"id\":\"1982\"},{\"id\":\"2134\"}],\"margin\":[0,0,0,0],\"name\":\"Row06461\",\"tags\":[\"embedded\"]},\"id\":\"1957\",\"type\":\"Row\"},{\"attributes\":{\"fill_alpha\":{\"value\":0.3},\"fill_color\":{\"field\":\"code\",\"transform\":{\"id\":\"2039\"}},\"line_alpha\":{\"value\":0.3},\"xs\":{\"field\":\"xs\"},\"ys\":{\"field\":\"ys\"}},\"id\":\"2044\",\"type\":\"MultiPolygons\"},{\"attributes\":{\"data_source\":{\"id\":\"2054\"},\"glyph\":{\"id\":\"2057\"},\"hover_glyph\":null,\"muted_glyph\":{\"id\":\"2059\"},\"nonselection_glyph\":{\"id\":\"2058\"},\"selection_glyph\":null,\"view\":{\"id\":\"2061\"}},\"id\":\"2060\",\"type\":\"GlyphRenderer\"},{\"attributes\":{\"level\":\"underlay\",\"tile_source\":{\"id\":\"2032\"}},\"id\":\"2035\",\"type\":\"TileRenderer\"},{\"attributes\":{\"margin\":[5,5,5,5],\"name\":\"HSpacer06465\",\"sizing_mode\":\"stretch_width\"},\"id\":\"1958\",\"type\":\"Spacer\"},{\"attributes\":{\"data\":{\"code\":[0,0,0,0,0,0,1,1,1,1,1,1,2,2,2,2,2,2,2,2,2,2,2,2,2,2,2,3,3,3,3,3,3,4,4,4,4,4,4,4,4,4,5,5,5,5,5,5,5,5,5,5,5,5,5],\"relativeOrbit\":[3,3,3,3,3,3,10,10,10,10,10,10,76,76,76,76,76,76,76,76,76,76,76,76,76,76,76,83,83,83,83,83,83,149,149,149,149,149,149,149,149,149,156,156,156,156,156,156,156,156,156,156,156,156,156],\"xs\":[[[{\"__ndarray__\":\"Ho57ToLgWsHiE6V2YLBawftxH6AruFvB3ozKMjDlW8EejntOguBawQ==\",\"dtype\":\"float64\",\"shape\":[5]}]],[[{\"__ndarray__\":\"Qw4sTI20WsFuasNCNINawQQiIYVjjlvBMirV2lu8W8FDDixMjbRawQ==\",\"dtype\":\"float64\",\"shape\":[5]}]],[[{\"__ndarray__\":\"J7cHcGDgWsGxLEkuQLBawYPvNiKUuVvBA22DI5LmW8EntwdwYOBawQ==\",\"dtype\":\"float64\",\"shape\":[5]}]],[[{\"__ndarray__\":\"N5ZPIG20WsGWIEPXFINawf32tdjSj1vBTGTqzsS9W8E3lk8gbbRawQ==\",\"dtype\":\"float64\",\"shape\":[5]}]],[[{\"__ndarray__\":\"sKCzY2TgWsFfijKiRLBawdTI+quZuVvBeqtKApfmW8GwoLNjZOBawQ==\",\"dtype\":\"float64\",\"shape\":[5]}]],[[{\"__ndarray__\":\"iG8TqnK0WsHr25IKGINawaxUn0zXj1vBqwFJYMu9W8GIbxOqcrRawQ==\",\"dtype\":\"float64\",\"shape\":[5]}]],[[{\"__ndarray__\":\"nI3jU44OXMGEjG4LlNxbwXvbZs/ozVrBJIlSZlr8WsGcjeNTjg5cwQ==\",\"dtype\":\"float64\",\"shape\":[5]}]],[[{\"__ndarray__\":\"t6LeHBXgW8EyNBXpX69bwabliUhdo1rBeIBVx8zQWsG3ot4cFeBbwQ==\",\"dtype\":\"float64\",\"shape\":[5]}]],[[{\"__ndarray__\":\"C17NgnkOXMEtfHrPftxbwcc3E37TzVrBS3s9XEX8WsELXs2CeQ5cwQ==\",\"dtype\":\"float64\",\"shape\":[5]}]],[[{\"__ndarray__\":\"zdAuC//fW8GiBP8XS69bwRW2c3dIo1rBRNCmfLbQWsHN0C4L/99bwQ==\",\"dtype\":\"float64\",\"shape\":[5]}]],[[{\"__ndarray__\":\"l3SqrIYOXMEi7w96jdxbwS7uqrbhzVrBMiC8N1L8WsGXdKqshg5cwQ==\",\"dtype\":\"float64\",\"shape\":[5]}]],[[{\"__ndarray__\":\"fGXFfA3gW8HhWlFfWq9bwcJKCulWo1rBPjnAX8TQWsF8ZcV8DeBbwQ==\",\"dtype\":\"float64\",\"shape\":[5]}]],[[{\"__ndarray__\":\"p1Yz2WLdW8ELx3RXEq5bwXd+7ljurlzBkKLHXV/bXMGnVjPZYt1bwQ==\",\"dtype\":\"float64\",\"shape\":[5]}]],[[{\"__ndarray__\":\"dYf36HTdW8F+Wl2KI65bwTu07Rf7rlzB5ZmC8mzbXMF1h/fodN1bwQ==\",\"dtype\":\"float64\",\"shape\":[5]}]],[[{\"__ndarray__\":\"RYJvFrexW8FkagUAgn9bwVF0K9c1g1zBMyCAKDCyXMFFgm8Wt7FbwQ==\",\"dtype\":\"float64\",\"shape\":[5]}]],[[{\"__ndarray__\":\"iBr/kx6FW8Fce2J69U1bwUfara1aVlzBsRbmKLuJXMGIGv+THoVbwQ==\",\"dtype\":\"float64\",\"shape\":[5]}]],[[{\"__ndarray__\":\"dt0xjFbdW8F/sJctBa5bwVqmVVngrlzBA4zqM1LbXMF23TGMVt1bwQ==\",\"dtype\":\"float64\",\"shape\":[5]}]],[[{\"__ndarray__\":\"H3hkyJmxW8FAYPqxZH9bwZLkTGAcg1zBLLKieBayXMEfeGTImbFbwQ==\",\"dtype\":\"float64\",\"shape\":[5]}]],[[{\"__ndarray__\":\"AOatEw+FW8H7plbr5E1bwd1BistOVlzBjmF/46+JXMEA5q0TD4VbwQ==\",\"dtype\":\"float64\",\"shape\":[5]}]],[[{\"__ndarray__\":\"HM2FHKaxW8GEmNiicX9bwTC6Bi4qg1zBbeqAaSOyXMEczYUcprFbwQ==\",\"dtype\":\"float64\",\"shape\":[5]}]],[[{\"__ndarray__\":\"PbCuVAKFW8Gnr5tW101bwfaN0cRAVlzBA0uiuaKJXME9sK5UAoVbwQ==\",\"dtype\":\"float64\",\"shape\":[5]}]],[[{\"__ndarray__\":\"6sZUYkndW8Exd4PkQ6xbwfN8jMCDsVzBzACe4ILfXMHqxlRiSd1bwQ==\",\"dtype\":\"float64\",\"shape\":[5]}]],[[{\"__ndarray__\":\"/5lawdyvW8EijR8WV39bwYsJr1djh1zBiIcroby0XMH/mVrB3K9bwQ==\",\"dtype\":\"float64\",\"shape\":[5]}]],[[{\"__ndarray__\":\"j7IuofODW8H3y7jiK1JbweRyUYb5XVzBDJfKSE+MXMGPsi6h84NbwQ==\",\"dtype\":\"float64\",\"shape\":[5]}]],[[{\"__ndarray__\":\"IFmPVl3dW8HWRwIDV6xbwW4LOkSasVzBjnIIAZrfXMEgWY9WXd1bwQ==\",\"dtype\":\"float64\",\"shape\":[5]}]],[[{\"__ndarray__\":\"Kk9Eu+2vW8Gm3+TsaH9bweYZo5N4h1zBT9ZjB9G0XMEqT0S77a9bwQ==\",\"dtype\":\"float64\",\"shape\":[5]}]],[[{\"__ndarray__\":\"eYTesgmEW8EH/q3lQFJbwZ4gpFMVXlzBH+L48muMXMF5hN6yCYRbwQ==\",\"dtype\":\"float64\",\"shape\":[5]}]],[[{\"__ndarray__\":\"VBSTSxWtXMGEiBr54HxcwYjQr+BAc1vBaiIIcU+gW8FUFJNLFa1cwQ==\",\"dtype\":\"float64\",\"shape\":[5]}]],[[{\"__ndarray__\":\"Jgqke1PbXMHepSEJ4KlcwR9Cc0/knVvBFJ4db/HLW8EmCqR7U9tcwQ==\",\"dtype\":\"float64\",\"shape\":[5]}]],[[{\"__ndarray__\":\"Wir73YMJXcGXnYimv9ZcwTdyDVIvx1vBCuvWBUX2W8FaKvvdgwldwQ==\",\"dtype\":\"float64\",\"shape\":[5]}]],[[{\"__ndarray__\":\"o51wMAmtXMGssbLs1Xxcwfy50rYzc1vBzUxOo0GgW8GjnXAwCa1cwQ==\",\"dtype\":\"float64\",\"shape\":[5]}]],[[{\"__ndarray__\":\"+XIu2ETbXMErL//t06lcwTqOukjWnVvBtckR4ODLW8H5ci7YRNtcwQ==\",\"dtype\":\"float64\",\"shape\":[5]}]],[[{\"__ndarray__\":\"ixerJHQJXcFoBhMDsdZcwdWdAcMex1vBGVUPoTP2W8GLF6skdAldwQ==\",\"dtype\":\"float64\",\"shape\":[5]}]],[[{\"__ndarray__\":\"oDExeaS4XMG4NyK4N4lcwQ9uVqy8iV3BZh8v9ka2XcGgMTF5pLhcwQ==\",\"dtype\":\"float64\",\"shape\":[5]}]],[[{\"__ndarray__\":\"mitQCr9fXMGAJGq6FSxcwVpN/sxbMl3BQj50C4RiXcGaK1AKv19cwQ==\",\"dtype\":\"float64\",\"shape\":[5]}]],[[{\"__ndarray__\":\"VorfPa64XMGAT60gQolcweRiMg/KiV3BdDMt7lO2XcFWit89rrhcwQ==\",\"dtype\":\"float64\",\"shape\":[5]}]],[[{\"__ndarray__\":\"0kD7tUWMXMHmAcsHq1tcwVVjJ2+EXl3BfuZzVwCMXcHSQPu1RYxcwQ==\",\"dtype\":\"float64\",\"shape\":[5]}]],[[{\"__ndarray__\":\"GWXcOclfXMGzmK2jISxcwVLAk3dqMl3BhXZS/JBiXcEZZdw5yV9cwQ==\",\"dtype\":\"float64\",\"shape\":[5]}]],[[{\"__ndarray__\":\"jSaRGzuMXMGMKITJn1tcwfCsjzZ2Xl3B4RC6ifKLXcGNJpEbO4xcwQ==\",\"dtype\":\"float64\",\"shape\":[5]}]],[[{\"__ndarray__\":\"NgEbybxTXMHASieXiSFcwd0Aw/4yMV3B4k+yO9ZfXcE2ARvJvFNcwQ==\",\"dtype\":\"float64\",\"shape\":[5]}]],[[{\"__ndarray__\":\"ZDl1ekCAXMGgk+akU09cwZr4Qp1MW13B1gIpke+IXcFkOXV6QIBcwQ==\",\"dtype\":\"float64\",\"shape\":[5]}]],[[{\"__ndarray__\":\"skmFNLGuXMHjPANISn1cwYI+Wdzhhl3BYBG7BiO1XcGySYU0sa5cwQ==\",\"dtype\":\"float64\",\"shape\":[5]}]],[[{\"__ndarray__\":\"tnh7eESwXcEEt6rq/35dwQd3tPHye1zBRz5F6+upXMG2eHt4RLBdwQ==\",\"dtype\":\"float64\",\"shape\":[5]}]],[[{\"__ndarray__\":\"s75dw8eDXcE/mH21ulNdwa2NGWMuVFzBZkh/BDSBXMGzvl3Dx4NdwQ==\",\"dtype\":\"float64\",\"shape\":[5]}]],[[{\"__ndarray__\":\"wpE31FGwXcFpbUIjDn9dwehI4U4DfFzBT3V1nfupXMHCkTfUUbBdwQ==\",\"dtype\":\"float64\",\"shape\":[5]}]],[[{\"__ndarray__\":\"KTTSn9aDXcGTjzhKyFNdwfuiSE4+VFzBWtmIBUWBXMEpNNKf1oNdwQ==\",\"dtype\":\"float64\",\"shape\":[5]}]],[[{\"__ndarray__\":\"6zpcyOOuXcG9Av4Ou31dwYhKlFMncVzBRBWaGfCeXMHrOlzI465dwQ==\",\"dtype\":\"float64\",\"shape\":[5]}]],[[{\"__ndarray__\":\"EfEjKSmDXcHfOc8JM1NdwfROMtCxSlzBU6T/LJB3XMER8SMpKYNdwQ==\",\"dtype\":\"float64\",\"shape\":[5]}]],[[{\"__ndarray__\":\"r1SymO7cXcGN7Ek5eqpdwedYLY9ymlzBCwdJbj/JXMGvVLKY7txdwQ==\",\"dtype\":\"float64\",\"shape\":[5]}]],[[{\"__ndarray__\":\"GuzoeS6DXcF59k8wOVNdwZ7Kj5q4SlzB7GCAU5Z3XMEa7Oh5LoNdwQ==\",\"dtype\":\"float64\",\"shape\":[5]}]],[[{\"__ndarray__\":\"PBQgUumuXcEN3MGYwH1dwejn8uQtcVzBprL4qvaeXME8FCBS6a5dwQ==\",\"dtype\":\"float64\",\"shape\":[5]}]],[[{\"__ndarray__\":\"NlJWG/TcXcFcyOz0f6pdwRLSqyd5mlzBtYKmOEbJXME2UlYb9NxdwQ==\",\"dtype\":\"float64\",\"shape\":[5]}]],[[{\"__ndarray__\":\"oq4OnPXcXcEMJtZohKpdwZ7+fHQZm1zB+8u66OXJXMGirg6c9dxdwQ==\",\"dtype\":\"float64\",\"shape\":[5]}]],[[{\"__ndarray__\":\"hffc7umuXcHS2hNaw31dwSU2QkTIcVzBYgMnPJGfXMGF99zu6a5dwQ==\",\"dtype\":\"float64\",\"shape\":[5]}]],[[{\"__ndarray__\":\"l5kjoxyDXcGFYIjLJ1NdwdhV4PUsS1zBSGqK9gt4XMGXmSOjHINdwQ==\",\"dtype\":\"float64\",\"shape\":[5]}]]],\"ys\":[[[{\"__ndarray__\":\"zUVoJg7gQcG4RDJhZVhDwRIWD+NB30PBjVNFxGRjQsHNRWgmDuBBwQ==\",\"dtype\":\"float64\",\"shape\":[5]}]],[[{\"__ndarray__\":\"renZrNk6Q8GQcrsEtrZEwfEwQBMyQUXBHZQAcIvBQ8Gt6dms2TpDwQ==\",\"dtype\":\"float64\",\"shape\":[5]}]],[[{\"__ndarray__\":\"T1vc7iXgQcFwpLcYblhDwV2+8QsO4EPBC2E1NDtkQsFPW9zuJeBBwQ==\",\"dtype\":\"float64\",\"shape\":[5]}]],[[{\"__ndarray__\":\"s+9gYuI6Q8EtAXK/trZEwTppwK37QUXB8un5tVfCQ8Gz72Bi4jpDwQ==\",\"dtype\":\"float64\",\"shape\":[5]}]],[[{\"__ndarray__\":\"9xa6bC3gQcGQD/D5bVhDwU4ENK0P4EPBMtf5kkRkQsH3FrpsLeBBwQ==\",\"dtype\":\"float64\",\"shape\":[5]}]],[[{\"__ndarray__\":\"N4e/79o6Q8Hw8lbMvbZEwUJMZ6cEQkXBh/0x+1HCQ8E3h7/v2jpDwQ==\",\"dtype\":\"float64\",\"shape\":[5]}]],[[{\"__ndarray__\":\"2pjb8tctRcGi9fYwYbBDwTZiXTB9O0TBhoiXKfK8RcHamNvy1y1FwQ==\",\"dtype\":\"float64\",\"shape\":[5]}]],[[{\"__ndarray__\":\"DwqKM+XOQ8GEjw/sEFVCweWfSTLr3ELBxTYzRndaRMEPCooz5c5DwQ==\",\"dtype\":\"float64\",\"shape\":[5]}]],[[{\"__ndarray__\":\"kv8QddItRcGivOABXLBDwcI7cwp6O0TB6sosCe+8RcGS/xB10i1FwQ==\",\"dtype\":\"float64\",\"shape\":[5]}]],[[{\"__ndarray__\":\"ETzsh9jOQ8HugvFOE1VCwZeJQbDv3ELBnzjXumxaRMERPOyH2M5DwQ==\",\"dtype\":\"float64\",\"shape\":[5]}]],[[{\"__ndarray__\":\"hqyLEa8tRcGBYpMdSLBDwahIc9FnO0TBakkqIs28RcGGrIsRry1FwQ==\",\"dtype\":\"float64\",\"shape\":[5]}]],[[{\"__ndarray__\":\"VXq2vcTOQ8H14/xBB1VCwUb6/mLl3ELBnm9LnFpaRMFVera9xM5DwQ==\",\"dtype\":\"float64\",\"shape\":[5]}]],[[{\"__ndarray__\":\"Z/Ry71PwQMEGnRo6JmZCwa/fdJBY6ELBZ55k4TtvQcFn9HLvU/BAwQ==\",\"dtype\":\"float64\",\"shape\":[5]}]],[[{\"__ndarray__\":\"bO8yUT7wQMFv4fRRGGZCwckWcIxH6ELBd5n6GiNvQcFs7zJRPvBAwQ==\",\"dtype\":\"float64\",\"shape\":[5]}]],[[{\"__ndarray__\":\"Hvx3ooxIQsFhbkAnBM9DwUThVFSJVETBJruP7mfKQsEe/HeijEhCwQ==\",\"dtype\":\"float64\",\"shape\":[5]}]],[[{\"__ndarray__\":\"aF9wLYWwQ8HQ6wIkclZFwX0qZ4lx4EXB6pm/cUQ2RMFoX3AthbBDwQ==\",\"dtype\":\"float64\",\"shape\":[5]}]],[[{\"__ndarray__\":\"q5QYz1HwQMHhdP2JK2ZCwaeHI/Bc6ELB2oIJrjhvQcGrlBjPUfBAwQ==\",\"dtype\":\"float64\",\"shape\":[5]}]],[[{\"__ndarray__\":\"89HHj5hIQsGgsPedD89DwesSRjSXVETBnvrS/3XKQsHz0cePmEhCwQ==\",\"dtype\":\"float64\",\"shape\":[5]}]],[[{\"__ndarray__\":\"tyTLjIOwQ8FcwY8md1ZFwcWv1QF64EXBXMck9UU2RMG3JMuMg7BDwQ==\",\"dtype\":\"float64\",\"shape\":[5]}]],[[{\"__ndarray__\":\"dA7YlppIQsEcgWQgCs9DwXOu84mSVETB8Pi57njKQsF0DtiWmkhCwQ==\",\"dtype\":\"float64\",\"shape\":[5]}]],[[{\"__ndarray__\":\"HSozVomwQ8FJ+nnGhFZFwagGxqaG4EXBOxLPzEo2RMEdKjNWibBDwQ==\",\"dtype\":\"float64\",\"shape\":[5]}]],[[{\"__ndarray__\":\"DLznLxbiQMEJAta3T2VCwattcpa56ULBjLXmfwljQcEMvOcvFuJAwQ==\",\"dtype\":\"float64\",\"shape\":[5]}]],[[{\"__ndarray__\":\"e1A1wqdHQsEg1CvZ7cBDwQVRo/maSETBNNnIMLzLQsF7UDXCp0dCwQ==\",\"dtype\":\"float64\",\"shape\":[5]}]],[[{\"__ndarray__\":\"mL4+zGyjQ8ExAfLsdCBFwT63Rpf4q0XBg4cYiBArRMGYvj7MbKNDwQ==\",\"dtype\":\"float64\",\"shape\":[5]}]],[[{\"__ndarray__\":\"QEq0+v3hQMHIuuf9PWVCwSJtr7Wp6ULBtMgB/PJiQcFASrT6/eFAwQ==\",\"dtype\":\"float64\",\"shape\":[5]}]],[[{\"__ndarray__\":\"cSYamaRHQsEtHe+w4sBDwZaEatSRSETBGw717rrLQsFxJhqZpEdCwQ==\",\"dtype\":\"float64\",\"shape\":[5]}]],[[{\"__ndarray__\":\"o+PB8GOjQ8FkGhraciBFwW50ug/6q0XBps50JQsrRMGj48HwY6NDwQ==\",\"dtype\":\"float64\",\"shape\":[5]}]],[[{\"__ndarray__\":\"/PStPww+Q8EX7MJKusVBwf5jtmSpS0LBuAAFGpPHQ8H89K0/DD5DwQ==\",\"dtype\":\"float64\",\"shape\":[5]}]],[[{\"__ndarray__\":\"qgXWFX6bRMG2sExllB9DwRKt6oqSqEPBrpYUqVcoRcGqBdYVfptEwQ==\",\"dtype\":\"float64\",\"shape\":[5]}]],[[{\"__ndarray__\":\"ndy24Cb9RcEouDJyYX1EwY8S2wgfCkXBgQeE2QuORsGd3LbgJv1FwQ==\",\"dtype\":\"float64\",\"shape\":[5]}]],[[{\"__ndarray__\":\"RhE4JxA+Q8EMYK7gxcVBwW5I+uq1S0LBrXhn7ZfHQ8FGETgnED5DwQ==\",\"dtype\":\"float64\",\"shape\":[5]}]],[[{\"__ndarray__\":\"8HFHcWubRMESMI88mB9Dwai6Hl2XqEPBsKULqkUoRcHwcUdxa5tEwQ==\",\"dtype\":\"float64\",\"shape\":[5]}]],[[{\"__ndarray__\":\"xkXMJgz9RcFyeT3STn1EwfPKx/4MCkXBTPFQq/GNRsHGRcwmDP1FwQ==\",\"dtype\":\"float64\",\"shape\":[5]}]],[[{\"__ndarray__\":\"Y5UiOsALQcF0jlN34oFCwa4uHuIWBEPBUpHOZKaKQcFjlSI6wAtBwQ==\",\"dtype\":\"float64\",\"shape\":[5]}]],[[{\"__ndarray__\":\"hlRHi7u/Q8EJho6XgEpFwZUBqmN700XBqkmRc8FERMGGVEeLu79DwQ==\",\"dtype\":\"float64\",\"shape\":[5]}]],[[{\"__ndarray__\":\"OXhhO8ELQcH2J8GY24FCwaWxQ84SBEPBDELRP6qKQcE5eGE7wQtBwQ==\",\"dtype\":\"float64\",\"shape\":[5]}]],[[{\"__ndarray__\":\"8UjJYO1jQsGx91xsYN1DweiXcKKdYkTByB1ltZ7lQsHxSMlg7WNCwQ==\",\"dtype\":\"float64\",\"shape\":[5]}]],[[{\"__ndarray__\":\"cWMF8rO/Q8Hv3B5DaUpFwcvEU8Zm00XB3jDYybxERMFxYwXys79DwQ==\",\"dtype\":\"float64\",\"shape\":[5]}]],[[{\"__ndarray__\":\"AVr+D/RjQsHS671Fb91Dwc6c7KKpYkTBGKVKmqLlQsEBWv4P9GNCwQ==\",\"dtype\":\"float64\",\"shape\":[5]}]],[[{\"__ndarray__\":\"zcAVzZcMRMFFOZ7rvYpFwThi2fHmGEbBEtu+er+WRMHNwBXNlwxEwQ==\",\"dtype\":\"float64\",\"shape\":[5]}]],[[{\"__ndarray__\":\"06OR5eKvQsHKzaWpTipEwWqvjX2WtETBsPZtfnI2Q8HTo5Hl4q9CwQ==\",\"dtype\":\"float64\",\"shape\":[5]}]],[[{\"__ndarray__\":\"tMOWbqZJQcE3d9Iu+s1CwaC9RbcdVUPBfdwm9jPNQcG0w5ZupklBwQ==\",\"dtype\":\"float64\",\"shape\":[5]}]],[[{\"__ndarray__\":\"Xdz8Uo2dRMGvnxcS7CFDwRcOHLQkpkPBUnBlMXwlRcFd3PxSjZ1EwQ==\",\"dtype\":\"float64\",\"shape\":[5]}]],[[{\"__ndarray__\":\"mVliIB8/Q8FgK6odHcdBwfosjuXYR0LB4ggShUzDQ8GZWWIgHz9DwQ==\",\"dtype\":\"float64\",\"shape\":[5]}]],[[{\"__ndarray__\":\"pUc1BIudRMFWQobA8CFDwQd/OIYppkPBX4TFwHklRcGlRzUEi51EwQ==\",\"dtype\":\"float64\",\"shape\":[5]}]],[[{\"__ndarray__\":\"qfCAYSs/Q8GRUKihIcdBwQyKUozdR0LBW0TE8VjDQ8Gp8IBhKz9DwQ==\",\"dtype\":\"float64\",\"shape\":[5]}]],[[{\"__ndarray__\":\"Mldqo3JZRMH0tEJCQd5CwYnn0K0OZ0PBNzP2DxDmRMEyV2qjcllEwQ==\",\"dtype\":\"float64\",\"shape\":[5]}]],[[{\"__ndarray__\":\"qjbUB3n7QsEB0IUQ04NBwYGI4CnUCELB7QuR3AKEQ8GqNtQHeftCwQ==\",\"dtype\":\"float64\",\"shape\":[5]}]],[[{\"__ndarray__\":\"vfyP81W6RcGMDeQTWDtEwf5UcFfOx0TB1iK7GudKRsG9/I/zVbpFwQ==\",\"dtype\":\"float64\",\"shape\":[5]}]],[[{\"__ndarray__\":\"Qm/OaHr7QsGFFImL24NBwYbBGjPcCELB0GS4wwOEQ8FCb85oevtCwQ==\",\"dtype\":\"float64\",\"shape\":[5]}]],[[{\"__ndarray__\":\"Ipow6XNZRMFgsUOEQt5CwXrHYjgPZ0PBJMNguxDmRMEimjDpc1lEwQ==\",\"dtype\":\"float64\",\"shape\":[5]}]],[[{\"__ndarray__\":\"gNKAXFe6RcHL3lpZWTtEwbnerwLPx0TB8rY0yOdKRsGA0oBcV7pFwQ==\",\"dtype\":\"float64\",\"shape\":[5]}]],[[{\"__ndarray__\":\"/Iw8nFq6RcHZHKXlcjtEwT882uuZx0TBceJ26plKRsH8jDycWrpFwQ==\",\"dtype\":\"float64\",\"shape\":[5]}]],[[{\"__ndarray__\":\"eU66qn9ZRMHzxwXfXN5Cwdf/K+fdZkPBw8hnkM7lRMF5Trqqf1lEwQ==\",\"dtype\":\"float64\",\"shape\":[5]}]],[[{\"__ndarray__\":\"8q5355f7QsEda6+a+INBwX1yAoW2CELBkDKsk9yDQ8Hyrnfnl/tCwQ==\",\"dtype\":\"float64\",\"shape\":[5]}]]]},\"selected\":{\"id\":\"2041\"},\"selection_policy\":{\"id\":\"2071\"}},\"id\":\"2040\",\"type\":\"ColumnDataSource\"},{\"attributes\":{\"fill_alpha\":{\"value\":0.3},\"fill_color\":{\"field\":\"code\",\"transform\":{\"id\":\"2039\"}},\"line_alpha\":{\"value\":0.3},\"xs\":{\"field\":\"xs\"},\"ys\":{\"field\":\"ys\"}},\"id\":\"2043\",\"type\":\"MultiPolygons\"},{\"attributes\":{\"data\":{\"xs\":[[[{\"__ndarray__\":\"ggZXhqB8XMHtRu90HYdcwZAq53OMlVzB0JW63jmhXMHkt8LMI9VcwUkI95Kt3FzBgl3aEJbwXMG0T+LnoAZdwe8m/FLMEF3B4OZsPrISXcHl7mKwKA1dwc3oPAYB9VzBfUw6+2AmXMF0KP0cKhZcwRzr7pNmAVzBgaGLQgTqW8HKznQxiNxbwVeI5UcH0VvBk9Xwpta/W8GIqhUfobdbwXr9ppDgwFvBC3shZcgdXMH68iRbnzlcwdOUe2luW1zBggZXhqB8XME=\",\"dtype\":\"float64\",\"shape\":[25]}]]],\"ys\":[[[{\"__ndarray__\":\"ZRlgwJFJRMHoU+nNgDNEwZjjGnjNJUTB/pTqjrEsRMGy4PQFNDlEwYbcqRi8C0TBn2QV0Pm/Q8GkLQfrBoZDwRRB8wT2E0PBhOzMi77BQsG9ARjJBJZCwXk3a5Vug0LB3C8vz+YbQ8Ge49Q5uSxDweVpXbxSNkPBE50Kp/NKQ8FbWu4URIJDwRoeZvmuuEPBNIMrSgHtQ8FYWFRMvh5EwUZ6NwkyWETBLBj+GJd6RMECz2PbWLdEwXAxEEW4jkTBZRlgwJFJRME=\",\"dtype\":\"float64\",\"shape\":[25]}]]]},\"selected\":{\"id\":\"2055\"},\"selection_policy\":{\"id\":\"2073\"}},\"id\":\"2054\",\"type\":\"ColumnDataSource\"},{\"attributes\":{\"fill_alpha\":{\"value\":0.1},\"fill_color\":{\"value\":null},\"line_alpha\":{\"value\":0.1},\"line_color\":{\"value\":\"orange\"},\"xs\":{\"field\":\"xs\"},\"ys\":{\"field\":\"ys\"}},\"id\":\"2058\",\"type\":\"MultiPolygons\"},{\"attributes\":{\"dimension\":\"lon\"},\"id\":\"2013\",\"type\":\"MercatorTickFormatter\"},{\"attributes\":{\"match_aspect\":true,\"overlay\":{\"id\":\"2002\"}},\"id\":\"1972\",\"type\":\"BoxZoomTool\"},{\"attributes\":{\"dimension\":\"lat\"},\"id\":\"2014\",\"type\":\"MercatorTicker\"},{\"attributes\":{\"fill_alpha\":{\"value\":0.2},\"fill_color\":{\"field\":\"code\",\"transform\":{\"id\":\"2039\"}},\"line_alpha\":{\"value\":0.2},\"xs\":{\"field\":\"xs\"},\"ys\":{\"field\":\"ys\"}},\"id\":\"2045\",\"type\":\"MultiPolygons\"},{\"attributes\":{\"high\":5.0,\"low\":0.0,\"palette\":[\"#1f77b4\",\"#1f77b4\",\"#1f77b4\",\"#1f77b4\",\"#1f77b4\",\"#1f77b4\",\"#1f77b4\",\"#1f77b4\",\"#1f77b4\",\"#1f77b4\",\"#1f77b4\",\"#1f77b4\",\"#1f77b4\",\"#1f77b4\",\"#1f77b4\",\"#1f77b4\",\"#1f77b4\",\"#1f77b4\",\"#1f77b4\",\"#1f77b4\",\"#1f77b4\",\"#1f77b4\",\"#1f77b4\",\"#1f77b4\",\"#1f77b4\",\"#1f77b4\",\"#ff7f0e\",\"#ff7f0e\",\"#ff7f0e\",\"#ff7f0e\",\"#ff7f0e\",\"#ff7f0e\",\"#ff7f0e\",\"#ff7f0e\",\"#ff7f0e\",\"#ff7f0e\",\"#ff7f0e\",\"#ff7f0e\",\"#ff7f0e\",\"#ff7f0e\",\"#ff7f0e\",\"#ff7f0e\",\"#ff7f0e\",\"#ff7f0e\",\"#ff7f0e\",\"#ff7f0e\",\"#ff7f0e\",\"#ff7f0e\",\"#ff7f0e\",\"#ff7f0e\",\"#ff7f0e\",\"#ff7f0e\",\"#2ca02c\",\"#2ca02c\",\"#2ca02c\",\"#2ca02c\",\"#2ca02c\",\"#2ca02c\",\"#2ca02c\",\"#2ca02c\",\"#2ca02c\",\"#2ca02c\",\"#2ca02c\",\"#2ca02c\",\"#2ca02c\",\"#2ca02c\",\"#2ca02c\",\"#2ca02c\",\"#2ca02c\",\"#2ca02c\",\"#2ca02c\",\"#2ca02c\",\"#2ca02c\",\"#2ca02c\",\"#2ca02c\",\"#2ca02c\",\"#2ca02c\",\"#d62728\",\"#d62728\",\"#d62728\",\"#d62728\",\"#d62728\",\"#d62728\",\"#d62728\",\"#d62728\",\"#d62728\",\"#d62728\",\"#d62728\",\"#d62728\",\"#d62728\",\"#d62728\",\"#d62728\",\"#d62728\",\"#d62728\",\"#d62728\",\"#d62728\",\"#d62728\",\"#d62728\",\"#d62728\",\"#d62728\",\"#d62728\",\"#d62728\",\"#d62728\",\"#9467bd\",\"#9467bd\",\"#9467bd\",\"#9467bd\",\"#9467bd\",\"#9467bd\",\"#9467bd\",\"#9467bd\",\"#9467bd\",\"#9467bd\",\"#9467bd\",\"#9467bd\",\"#9467bd\",\"#9467bd\",\"#9467bd\",\"#9467bd\",\"#9467bd\",\"#9467bd\",\"#9467bd\",\"#9467bd\",\"#9467bd\",\"#9467bd\",\"#9467bd\",\"#9467bd\",\"#9467bd\",\"#8c564b\",\"#8c564b\",\"#8c564b\",\"#8c564b\",\"#8c564b\",\"#8c564b\",\"#8c564b\",\"#8c564b\",\"#8c564b\",\"#8c564b\",\"#8c564b\",\"#8c564b\",\"#8c564b\",\"#8c564b\",\"#8c564b\",\"#8c564b\",\"#8c564b\",\"#8c564b\",\"#8c564b\",\"#8c564b\",\"#8c564b\",\"#8c564b\",\"#8c564b\",\"#8c564b\",\"#8c564b\",\"#8c564b\",\"#e377c2\",\"#e377c2\",\"#e377c2\",\"#e377c2\",\"#e377c2\",\"#e377c2\",\"#e377c2\",\"#e377c2\",\"#e377c2\",\"#e377c2\",\"#e377c2\",\"#e377c2\",\"#e377c2\",\"#e377c2\",\"#e377c2\",\"#e377c2\",\"#e377c2\",\"#e377c2\",\"#e377c2\",\"#e377c2\",\"#e377c2\",\"#e377c2\",\"#e377c2\",\"#e377c2\",\"#e377c2\",\"#7f7f7f\",\"#7f7f7f\",\"#7f7f7f\",\"#7f7f7f\",\"#7f7f7f\",\"#7f7f7f\",\"#7f7f7f\",\"#7f7f7f\",\"#7f7f7f\",\"#7f7f7f\",\"#7f7f7f\",\"#7f7f7f\",\"#7f7f7f\",\"#7f7f7f\",\"#7f7f7f\",\"#7f7f7f\",\"#7f7f7f\",\"#7f7f7f\",\"#7f7f7f\",\"#7f7f7f\",\"#7f7f7f\",\"#7f7f7f\",\"#7f7f7f\",\"#7f7f7f\",\"#7f7f7f\",\"#7f7f7f\",\"#bcbd22\",\"#bcbd22\",\"#bcbd22\",\"#bcbd22\",\"#bcbd22\",\"#bcbd22\",\"#bcbd22\",\"#bcbd22\",\"#bcbd22\",\"#bcbd22\",\"#bcbd22\",\"#bcbd22\",\"#bcbd22\",\"#bcbd22\",\"#bcbd22\",\"#bcbd22\",\"#bcbd22\",\"#bcbd22\",\"#bcbd22\",\"#bcbd22\",\"#bcbd22\",\"#bcbd22\",\"#bcbd22\",\"#bcbd22\",\"#bcbd22\",\"#17becf\",\"#17becf\",\"#17becf\",\"#17becf\",\"#17becf\",\"#17becf\",\"#17becf\",\"#17becf\",\"#17becf\",\"#17becf\",\"#17becf\",\"#17becf\",\"#17becf\",\"#17becf\",\"#17becf\",\"#17becf\",\"#17becf\",\"#17becf\",\"#17becf\",\"#17becf\",\"#17becf\",\"#17becf\",\"#17becf\",\"#17becf\",\"#17becf\",\"#17becf\"]},\"id\":\"2039\",\"type\":\"LinearColorMapper\"},{\"attributes\":{},\"id\":\"1987\",\"type\":\"LinearScale\"},{\"attributes\":{\"source\":{\"id\":\"2040\"}},\"id\":\"2047\",\"type\":\"CDSView\"},{\"attributes\":{\"label\":{\"field\":\"code\"},\"renderers\":[{\"id\":\"2046\"}]},\"id\":\"2051\",\"type\":\"LegendItem\"},{\"attributes\":{\"bottom_units\":\"screen\",\"fill_alpha\":0.5,\"fill_color\":\"lightgrey\",\"left_units\":\"screen\",\"level\":\"overlay\",\"line_alpha\":1.0,\"line_color\":\"black\",\"line_dash\":[4,4],\"line_width\":2,\"render_mode\":\"css\",\"right_units\":\"screen\",\"top_units\":\"screen\"},\"id\":\"2002\",\"type\":\"BoxAnnotation\"},{\"attributes\":{\"click_policy\":\"mute\",\"items\":[{\"id\":\"2051\"}],\"location\":[0,0]},\"id\":\"2050\",\"type\":\"Legend\"},{\"attributes\":{\"dimension\":\"lon\"},\"id\":\"2012\",\"type\":\"MercatorTicker\"},{\"attributes\":{\"attribution\":\"&copy; <a href=\\\"https://www.openstreetmap.org/copyright\\\">OpenStreetMap</a> contributors, &copy; <a href=\\\"https://cartodb.com/attributions\\\">CartoDB</a>\",\"url\":\"http://3.api.cartocdn.com/base-eco/{Z}/{X}/{Y}.png\"},\"id\":\"2032\",\"type\":\"WMTSTileSource\"},{\"attributes\":{\"data_source\":{\"id\":\"2040\"},\"glyph\":{\"id\":\"2043\"},\"hover_glyph\":null,\"muted_glyph\":{\"id\":\"2045\"},\"nonselection_glyph\":{\"id\":\"2044\"},\"selection_glyph\":null,\"view\":{\"id\":\"2047\"}},\"id\":\"2046\",\"type\":\"GlyphRenderer\"},{\"attributes\":{},\"id\":\"2041\",\"type\":\"Selection\"}],\"root_ids\":[\"1957\"]},\"title\":\"Bokeh Application\",\"version\":\"2.0.1\"}};\n",
       "  var render_items = [{\"docid\":\"7e7c2cee-c6f1-4c37-9d76-16d22aea6bae\",\"root_ids\":[\"1957\"],\"roots\":{\"1957\":\"78b53bd3-65da-432e-bdc2-5f9193a513e2\"}}];\n",
       "  root.Bokeh.embed.embed_items_notebook(docs_json, render_items);\n",
       "  }\n",
       "if (root.Bokeh !== undefined) {\n",
       "    embed_document(root);\n",
       "  } else {\n",
       "    var attempts = 0;\n",
       "    var timer = setInterval(function(root) {\n",
       "      if (root.Bokeh !== undefined) {\n",
       "        clearInterval(timer);\n",
       "        embed_document(root);\n",
       "      } else if (document.readyState == \"complete\") {\n",
       "        attempts++;\n",
       "        if (attempts > 100) {\n",
       "          clearInterval(timer);\n",
       "          console.log(\"Bokeh: ERROR: Unable to run BokehJS code because BokehJS library is missing\");\n",
       "        }\n",
       "      }\n",
       "    }, 10, root)\n",
       "  }\n",
       "})(window);</script>"
      ],
      "text/plain": [
       ":Overlay\n",
       "   .WMTS.I      :WMTS   [Longitude,Latitude]\n",
       "   .Polygons.I  :Polygons   [Longitude,Latitude]   (code,relativeOrbit)\n",
       "   .Polygons.II :Polygons   [Longitude,Latitude]\n",
       "   .Points.I    :Points   [x,y]"
      ]
     },
     "execution_count": 33,
     "metadata": {
      "application/vnd.holoviews_exec.v0+json": {
       "id": "1957"
      }
     },
     "output_type": "execute_result"
    }
   ],
   "source": [
    "# plot the tracks on our map from before\n",
    "footprints = gdf.hvplot.polygons(geo=True, hover_cols=['code','relativeOrbit'], cmap='Category10',  \n",
    "                                 alpha=0.3, legend=True, colorbar=False, title='Sentinel-1 Tracks') #color=hv.Cycle('Category20')\n",
    "tiles * footprints * aoi * utur "
   ]
  },
  {
   "cell_type": "markdown",
   "metadata": {},
   "source": [
    "If you hover over the tracks, a pop-up box displays the orbit/track number.  It looks like tracks 3 and 10 are too far east to be useful, so let's re-make that plot without those tracks."
   ]
  },
  {
   "cell_type": "code",
   "execution_count": 36,
   "metadata": {},
   "outputs": [
    {
     "data": {
      "text/html": [
       "<div>\n",
       "<style scoped>\n",
       "    .dataframe tbody tr th:only-of-type {\n",
       "        vertical-align: middle;\n",
       "    }\n",
       "\n",
       "    .dataframe tbody tr th {\n",
       "        vertical-align: top;\n",
       "    }\n",
       "\n",
       "    .dataframe thead th {\n",
       "        text-align: right;\n",
       "    }\n",
       "</style>\n",
       "<table border=\"1\" class=\"dataframe\">\n",
       "  <thead>\n",
       "    <tr style=\"text-align: right;\">\n",
       "      <th></th>\n",
       "      <th>relativeOrbit</th>\n",
       "      <th>geometry</th>\n",
       "      <th>code</th>\n",
       "    </tr>\n",
       "  </thead>\n",
       "  <tbody>\n",
       "    <tr>\n",
       "      <th>0</th>\n",
       "      <td>76</td>\n",
       "      <td>POLYGON ((-66.50769 -25.52393, -66.50785 -25.5...</td>\n",
       "      <td>0</td>\n",
       "    </tr>\n",
       "    <tr>\n",
       "      <th>1</th>\n",
       "      <td>83</td>\n",
       "      <td>POLYGON ((-65.40583 -24.03589, -65.40540 -24.0...</td>\n",
       "      <td>1</td>\n",
       "    </tr>\n",
       "    <tr>\n",
       "      <th>2</th>\n",
       "      <td>149</td>\n",
       "      <td>POLYGON ((-66.14912 -24.84245, -66.14906 -24.8...</td>\n",
       "      <td>2</td>\n",
       "    </tr>\n",
       "    <tr>\n",
       "      <th>3</th>\n",
       "      <td>156</td>\n",
       "      <td>POLYGON ((-70.35007 -24.88129, -70.34990 -24.8...</td>\n",
       "      <td>3</td>\n",
       "    </tr>\n",
       "  </tbody>\n",
       "</table>\n",
       "</div>"
      ],
      "text/plain": [
       "   relativeOrbit                                           geometry  code\n",
       "0             76  POLYGON ((-66.50769 -25.52393, -66.50785 -25.5...     0\n",
       "1             83  POLYGON ((-65.40583 -24.03589, -65.40540 -24.0...     1\n",
       "2            149  POLYGON ((-66.14912 -24.84245, -66.14906 -24.8...     2\n",
       "3            156  POLYGON ((-70.35007 -24.88129, -70.34990 -24.8...     3"
      ]
     },
     "execution_count": 36,
     "metadata": {},
     "output_type": "execute_result"
    }
   ],
   "source": [
    "tracks = [76,83,149,156] #specify tracks to include\n",
    "gf = gf[gf.relativeOrbit.isin(tracks)]  #now gf does not include tracks 3 and 10\n",
    "\n",
    "# display a table summarizing the geometries of the different orbits in gf - now without 3 and 10\n",
    "gft = gf[['relativeOrbit','geometry']].dissolve(by='relativeOrbit').reset_index()\n",
    "gft['code'] = gft.relativeOrbit.astype('category').cat.codes # sets a code for orbits\n",
    "gft.head()"
   ]
  },
  {
   "cell_type": "code",
   "execution_count": 37,
   "metadata": {},
   "outputs": [
    {
     "name": "stderr",
     "output_type": "stream",
     "text": [
      "WARNING:param.GeoOverlayPlot07331: title_format is deprecated. Please use title instead\n",
      "WARNING:param.GeoOverlayPlot07331: title_format is deprecated. Please use title instead\n"
     ]
    },
    {
     "data": {},
     "metadata": {},
     "output_type": "display_data"
    },
    {
     "data": {
      "application/vnd.holoviews_exec.v0+json": "",
      "text/html": [
       "<div id='2176'>\n",
       "\n",
       "\n",
       "\n",
       "\n",
       "\n",
       "  <div class=\"bk-root\" id=\"a76ce828-10a1-4aad-8094-5c6373abcf2e\" data-root-id=\"2176\"></div>\n",
       "</div>\n",
       "<script type=\"application/javascript\">(function(root) {\n",
       "  function embed_document(root) {\n",
       "  var docs_json = {\"5c4c9770-2a5f-4d13-ac28-babb82d5eded\":{\"roots\":{\"references\":[{\"attributes\":{\"end\":-7203485.70008789,\"min_interval\":5,\"reset_end\":-7203485.70008789,\"reset_start\":-8047284.538590589,\"start\":-8047284.538590589,\"tags\":[[[\"Longitude\",\"Longitude\",null]]]},\"id\":\"2188\",\"type\":\"Range1d\"},{\"attributes\":{\"fill_alpha\":{\"value\":0.1},\"fill_color\":{\"value\":\"#ff0000\"},\"line_alpha\":{\"value\":0.1},\"line_color\":{\"value\":\"#ff0000\"},\"marker\":{\"value\":\"triangle\"},\"size\":{\"units\":\"screen\",\"value\":10},\"x\":{\"field\":\"x\"},\"y\":{\"field\":\"y\"}},\"id\":\"2285\",\"type\":\"Scatter\"},{\"attributes\":{\"zoom_on_axis\":false},\"id\":\"2190\",\"type\":\"WheelZoomTool\"},{\"attributes\":{\"fill_alpha\":{\"value\":0.1},\"fill_color\":{\"value\":null},\"line_alpha\":{\"value\":0.1},\"line_color\":{\"value\":\"orange\"},\"xs\":{\"field\":\"xs\"},\"ys\":{\"field\":\"ys\"}},\"id\":\"2277\",\"type\":\"MultiPolygons\"},{\"attributes\":{\"attribution\":\"&copy; <a href=\\\"https://www.openstreetmap.org/copyright\\\">OpenStreetMap</a> contributors, &copy; <a href=\\\"https://cartodb.com/attributions\\\">CartoDB</a>\",\"url\":\"http://3.api.cartocdn.com/base-eco/{Z}/{X}/{Y}.png\"},\"id\":\"2251\",\"type\":\"WMTSTileSource\"},{\"attributes\":{\"axis\":{\"id\":\"2214\"},\"dimension\":1,\"grid_line_color\":null,\"ticker\":null},\"id\":\"2217\",\"type\":\"Grid\"},{\"attributes\":{\"fill_alpha\":{\"value\":0.2},\"fill_color\":{\"value\":null},\"line_alpha\":{\"value\":0.2},\"line_color\":{\"value\":\"orange\"},\"xs\":{\"field\":\"xs\"},\"ys\":{\"field\":\"ys\"}},\"id\":\"2278\",\"type\":\"MultiPolygons\"},{\"attributes\":{},\"id\":\"2206\",\"type\":\"LinearScale\"},{\"attributes\":{\"dimension\":\"lat\"},\"id\":\"2234\",\"type\":\"MercatorTickFormatter\"},{\"attributes\":{},\"id\":\"2219\",\"type\":\"PanTool\"},{\"attributes\":{},\"id\":\"2208\",\"type\":\"LinearScale\"},{\"attributes\":{},\"id\":\"2290\",\"type\":\"UnionRenderers\"},{\"attributes\":{\"end\":-2273031.045451419,\"min_interval\":5,\"reset_end\":-2273031.045451419,\"reset_start\":-2875744.5015247753,\"start\":-2875744.5015247753,\"tags\":[[[\"Latitude\",\"Latitude\",null]]]},\"id\":\"2189\",\"type\":\"Range1d\"},{\"attributes\":{\"text\":\"Sentinel-1 Tracks\",\"text_color\":{\"value\":\"black\"},\"text_font_size\":{\"value\":\"12pt\"}},\"id\":\"2202\",\"type\":\"Title\"},{\"attributes\":{\"axis\":{\"id\":\"2210\"},\"grid_line_color\":null,\"ticker\":null},\"id\":\"2213\",\"type\":\"Grid\"},{\"attributes\":{\"fill_alpha\":{\"value\":0.3},\"fill_color\":{\"field\":\"code\",\"transform\":{\"id\":\"2258\"}},\"line_alpha\":{\"value\":0.3},\"xs\":{\"field\":\"xs\"},\"ys\":{\"field\":\"ys\"}},\"id\":\"2263\",\"type\":\"MultiPolygons\"},{\"attributes\":{},\"id\":\"2220\",\"type\":\"ResetTool\"},{\"attributes\":{\"dimension\":\"lon\"},\"id\":\"2232\",\"type\":\"MercatorTickFormatter\"},{\"attributes\":{\"match_aspect\":true,\"overlay\":{\"id\":\"2221\"}},\"id\":\"2191\",\"type\":\"BoxZoomTool\"},{\"attributes\":{\"high\":3.0,\"low\":0.0,\"palette\":[\"#1f77b4\",\"#1f77b4\",\"#1f77b4\",\"#1f77b4\",\"#1f77b4\",\"#1f77b4\",\"#1f77b4\",\"#1f77b4\",\"#1f77b4\",\"#1f77b4\",\"#1f77b4\",\"#1f77b4\",\"#1f77b4\",\"#1f77b4\",\"#1f77b4\",\"#1f77b4\",\"#1f77b4\",\"#1f77b4\",\"#1f77b4\",\"#1f77b4\",\"#1f77b4\",\"#1f77b4\",\"#1f77b4\",\"#1f77b4\",\"#1f77b4\",\"#1f77b4\",\"#ff7f0e\",\"#ff7f0e\",\"#ff7f0e\",\"#ff7f0e\",\"#ff7f0e\",\"#ff7f0e\",\"#ff7f0e\",\"#ff7f0e\",\"#ff7f0e\",\"#ff7f0e\",\"#ff7f0e\",\"#ff7f0e\",\"#ff7f0e\",\"#ff7f0e\",\"#ff7f0e\",\"#ff7f0e\",\"#ff7f0e\",\"#ff7f0e\",\"#ff7f0e\",\"#ff7f0e\",\"#ff7f0e\",\"#ff7f0e\",\"#ff7f0e\",\"#ff7f0e\",\"#ff7f0e\",\"#ff7f0e\",\"#2ca02c\",\"#2ca02c\",\"#2ca02c\",\"#2ca02c\",\"#2ca02c\",\"#2ca02c\",\"#2ca02c\",\"#2ca02c\",\"#2ca02c\",\"#2ca02c\",\"#2ca02c\",\"#2ca02c\",\"#2ca02c\",\"#2ca02c\",\"#2ca02c\",\"#2ca02c\",\"#2ca02c\",\"#2ca02c\",\"#2ca02c\",\"#2ca02c\",\"#2ca02c\",\"#2ca02c\",\"#2ca02c\",\"#2ca02c\",\"#2ca02c\",\"#d62728\",\"#d62728\",\"#d62728\",\"#d62728\",\"#d62728\",\"#d62728\",\"#d62728\",\"#d62728\",\"#d62728\",\"#d62728\",\"#d62728\",\"#d62728\",\"#d62728\",\"#d62728\",\"#d62728\",\"#d62728\",\"#d62728\",\"#d62728\",\"#d62728\",\"#d62728\",\"#d62728\",\"#d62728\",\"#d62728\",\"#d62728\",\"#d62728\",\"#d62728\",\"#9467bd\",\"#9467bd\",\"#9467bd\",\"#9467bd\",\"#9467bd\",\"#9467bd\",\"#9467bd\",\"#9467bd\",\"#9467bd\",\"#9467bd\",\"#9467bd\",\"#9467bd\",\"#9467bd\",\"#9467bd\",\"#9467bd\",\"#9467bd\",\"#9467bd\",\"#9467bd\",\"#9467bd\",\"#9467bd\",\"#9467bd\",\"#9467bd\",\"#9467bd\",\"#9467bd\",\"#9467bd\",\"#8c564b\",\"#8c564b\",\"#8c564b\",\"#8c564b\",\"#8c564b\",\"#8c564b\",\"#8c564b\",\"#8c564b\",\"#8c564b\",\"#8c564b\",\"#8c564b\",\"#8c564b\",\"#8c564b\",\"#8c564b\",\"#8c564b\",\"#8c564b\",\"#8c564b\",\"#8c564b\",\"#8c564b\",\"#8c564b\",\"#8c564b\",\"#8c564b\",\"#8c564b\",\"#8c564b\",\"#8c564b\",\"#8c564b\",\"#e377c2\",\"#e377c2\",\"#e377c2\",\"#e377c2\",\"#e377c2\",\"#e377c2\",\"#e377c2\",\"#e377c2\",\"#e377c2\",\"#e377c2\",\"#e377c2\",\"#e377c2\",\"#e377c2\",\"#e377c2\",\"#e377c2\",\"#e377c2\",\"#e377c2\",\"#e377c2\",\"#e377c2\",\"#e377c2\",\"#e377c2\",\"#e377c2\",\"#e377c2\",\"#e377c2\",\"#e377c2\",\"#7f7f7f\",\"#7f7f7f\",\"#7f7f7f\",\"#7f7f7f\",\"#7f7f7f\",\"#7f7f7f\",\"#7f7f7f\",\"#7f7f7f\",\"#7f7f7f\",\"#7f7f7f\",\"#7f7f7f\",\"#7f7f7f\",\"#7f7f7f\",\"#7f7f7f\",\"#7f7f7f\",\"#7f7f7f\",\"#7f7f7f\",\"#7f7f7f\",\"#7f7f7f\",\"#7f7f7f\",\"#7f7f7f\",\"#7f7f7f\",\"#7f7f7f\",\"#7f7f7f\",\"#7f7f7f\",\"#7f7f7f\",\"#bcbd22\",\"#bcbd22\",\"#bcbd22\",\"#bcbd22\",\"#bcbd22\",\"#bcbd22\",\"#bcbd22\",\"#bcbd22\",\"#bcbd22\",\"#bcbd22\",\"#bcbd22\",\"#bcbd22\",\"#bcbd22\",\"#bcbd22\",\"#bcbd22\",\"#bcbd22\",\"#bcbd22\",\"#bcbd22\",\"#bcbd22\",\"#bcbd22\",\"#bcbd22\",\"#bcbd22\",\"#bcbd22\",\"#bcbd22\",\"#bcbd22\",\"#17becf\",\"#17becf\",\"#17becf\",\"#17becf\",\"#17becf\",\"#17becf\",\"#17becf\",\"#17becf\",\"#17becf\",\"#17becf\",\"#17becf\",\"#17becf\",\"#17becf\",\"#17becf\",\"#17becf\",\"#17becf\",\"#17becf\",\"#17becf\",\"#17becf\",\"#17becf\",\"#17becf\",\"#17becf\",\"#17becf\",\"#17becf\",\"#17becf\",\"#17becf\"]},\"id\":\"2258\",\"type\":\"LinearColorMapper\"},{\"attributes\":{\"align\":null,\"below\":[{\"id\":\"2210\"}],\"center\":[{\"id\":\"2213\"},{\"id\":\"2217\"}],\"frame_height\":500,\"frame_width\":700,\"left\":[{\"id\":\"2214\"}],\"margin\":null,\"match_aspect\":true,\"min_border_bottom\":10,\"min_border_left\":10,\"min_border_right\":10,\"min_border_top\":10,\"plot_height\":500,\"plot_width\":700,\"renderers\":[{\"id\":\"2254\"},{\"id\":\"2265\"},{\"id\":\"2279\"},{\"id\":\"2287\"}],\"right\":[{\"id\":\"2269\"}],\"sizing_mode\":\"fixed\",\"title\":{\"id\":\"2202\"},\"toolbar\":{\"id\":\"2222\"},\"x_range\":{\"id\":\"2188\"},\"x_scale\":{\"id\":\"2206\"},\"y_range\":{\"id\":\"2189\"},\"y_scale\":{\"id\":\"2208\"}},\"id\":\"2201\",\"subtype\":\"Figure\",\"type\":\"Plot\"},{\"attributes\":{\"fill_color\":{\"value\":\"#ff0000\"},\"line_color\":{\"value\":\"#ff0000\"},\"marker\":{\"value\":\"triangle\"},\"size\":{\"units\":\"screen\",\"value\":10},\"x\":{\"field\":\"x\"},\"y\":{\"field\":\"y\"}},\"id\":\"2284\",\"type\":\"Scatter\"},{\"attributes\":{},\"id\":\"2294\",\"type\":\"UnionRenderers\"},{\"attributes\":{\"children\":[{\"id\":\"2177\"},{\"id\":\"2201\"},{\"id\":\"2353\"}],\"margin\":[0,0,0,0],\"name\":\"Row07267\",\"tags\":[\"embedded\"]},\"id\":\"2176\",\"type\":\"Row\"},{\"attributes\":{\"data\":{\"xs\":[[[{\"__ndarray__\":\"ggZXhqB8XMHtRu90HYdcwZAq53OMlVzB0JW63jmhXMHkt8LMI9VcwUkI95Kt3FzBgl3aEJbwXMG0T+LnoAZdwe8m/FLMEF3B4OZsPrISXcHl7mKwKA1dwc3oPAYB9VzBfUw6+2AmXMF0KP0cKhZcwRzr7pNmAVzBgaGLQgTqW8HKznQxiNxbwVeI5UcH0VvBk9Xwpta/W8GIqhUfobdbwXr9ppDgwFvBC3shZcgdXMH68iRbnzlcwdOUe2luW1zBggZXhqB8XME=\",\"dtype\":\"float64\",\"shape\":[25]}]]],\"ys\":[[[{\"__ndarray__\":\"ZRlgwJFJRMHoU+nNgDNEwZjjGnjNJUTB/pTqjrEsRMGy4PQFNDlEwYbcqRi8C0TBn2QV0Pm/Q8GkLQfrBoZDwRRB8wT2E0PBhOzMi77BQsG9ARjJBJZCwXk3a5Vug0LB3C8vz+YbQ8Ge49Q5uSxDweVpXbxSNkPBE50Kp/NKQ8FbWu4URIJDwRoeZvmuuEPBNIMrSgHtQ8FYWFRMvh5EwUZ6NwkyWETBLBj+GJd6RMECz2PbWLdEwXAxEEW4jkTBZRlgwJFJRME=\",\"dtype\":\"float64\",\"shape\":[25]}]]]},\"selected\":{\"id\":\"2274\"},\"selection_policy\":{\"id\":\"2292\"}},\"id\":\"2273\",\"type\":\"ColumnDataSource\"},{\"attributes\":{\"label\":{\"field\":\"code\"},\"renderers\":[{\"id\":\"2265\"}]},\"id\":\"2270\",\"type\":\"LegendItem\"},{\"attributes\":{\"fill_alpha\":{\"value\":0.2},\"fill_color\":{\"value\":\"#ff0000\"},\"line_alpha\":{\"value\":0.2},\"line_color\":{\"value\":\"#ff0000\"},\"marker\":{\"value\":\"triangle\"},\"size\":{\"units\":\"screen\",\"value\":10},\"x\":{\"field\":\"x\"},\"y\":{\"field\":\"y\"}},\"id\":\"2286\",\"type\":\"Scatter\"},{\"attributes\":{\"margin\":[5,5,5,5],\"name\":\"HSpacer07272\",\"sizing_mode\":\"stretch_width\"},\"id\":\"2353\",\"type\":\"Spacer\"},{\"attributes\":{\"data\":{\"x\":{\"__ndarray__\":\"9jQO2SqHXME=\",\"dtype\":\"float64\",\"shape\":[1]},\"y\":{\"__ndarray__\":\"JckWfbJoQ8E=\",\"dtype\":\"float64\",\"shape\":[1]}},\"selected\":{\"id\":\"2282\"},\"selection_policy\":{\"id\":\"2294\"}},\"id\":\"2281\",\"type\":\"ColumnDataSource\"},{\"attributes\":{\"dimension\":\"lon\"},\"id\":\"2231\",\"type\":\"MercatorTicker\"},{\"attributes\":{\"source\":{\"id\":\"2281\"}},\"id\":\"2288\",\"type\":\"CDSView\"},{\"attributes\":{\"dimension\":\"lat\"},\"id\":\"2233\",\"type\":\"MercatorTicker\"},{\"attributes\":{},\"id\":\"2282\",\"type\":\"Selection\"},{\"attributes\":{\"active_drag\":\"auto\",\"active_inspect\":\"auto\",\"active_multi\":null,\"active_scroll\":\"auto\",\"active_tap\":\"auto\",\"tools\":[{\"id\":\"2190\"},{\"id\":\"2191\"},{\"id\":\"2194\"},{\"id\":\"2219\"},{\"id\":\"2220\"}]},\"id\":\"2222\",\"type\":\"Toolbar\"},{\"attributes\":{\"fill_alpha\":{\"value\":0.2},\"fill_color\":{\"field\":\"code\",\"transform\":{\"id\":\"2258\"}},\"line_alpha\":{\"value\":0.2},\"xs\":{\"field\":\"xs\"},\"ys\":{\"field\":\"ys\"}},\"id\":\"2264\",\"type\":\"MultiPolygons\"},{\"attributes\":{\"fill_alpha\":{\"value\":0.3},\"fill_color\":{\"field\":\"code\",\"transform\":{\"id\":\"2258\"}},\"line_alpha\":{\"value\":0.3},\"xs\":{\"field\":\"xs\"},\"ys\":{\"field\":\"ys\"}},\"id\":\"2262\",\"type\":\"MultiPolygons\"},{\"attributes\":{},\"id\":\"2292\",\"type\":\"UnionRenderers\"},{\"attributes\":{\"data\":{\"code\":[0,0,0,0,0,0,0,0,0,0,0,0,0,0,0,1,1,1,1,1,1,2,2,2,2,2,2,2,2,2,3,3,3,3,3,3,3,3,3,3,3,3,3],\"relativeOrbit\":[76,76,76,76,76,76,76,76,76,76,76,76,76,76,76,83,83,83,83,83,83,149,149,149,149,149,149,149,149,149,156,156,156,156,156,156,156,156,156,156,156,156,156],\"xs\":[[[{\"__ndarray__\":\"p1Yz2WLdW8ELx3RXEq5bwXd+7ljurlzBkKLHXV/bXMGnVjPZYt1bwQ==\",\"dtype\":\"float64\",\"shape\":[5]}]],[[{\"__ndarray__\":\"dYf36HTdW8F+Wl2KI65bwTu07Rf7rlzB5ZmC8mzbXMF1h/fodN1bwQ==\",\"dtype\":\"float64\",\"shape\":[5]}]],[[{\"__ndarray__\":\"RYJvFrexW8FkagUAgn9bwVF0K9c1g1zBMyCAKDCyXMFFgm8Wt7FbwQ==\",\"dtype\":\"float64\",\"shape\":[5]}]],[[{\"__ndarray__\":\"iBr/kx6FW8Fce2J69U1bwUfara1aVlzBsRbmKLuJXMGIGv+THoVbwQ==\",\"dtype\":\"float64\",\"shape\":[5]}]],[[{\"__ndarray__\":\"dt0xjFbdW8F/sJctBa5bwVqmVVngrlzBA4zqM1LbXMF23TGMVt1bwQ==\",\"dtype\":\"float64\",\"shape\":[5]}]],[[{\"__ndarray__\":\"H3hkyJmxW8FAYPqxZH9bwZLkTGAcg1zBLLKieBayXMEfeGTImbFbwQ==\",\"dtype\":\"float64\",\"shape\":[5]}]],[[{\"__ndarray__\":\"AOatEw+FW8H7plbr5E1bwd1BistOVlzBjmF/46+JXMEA5q0TD4VbwQ==\",\"dtype\":\"float64\",\"shape\":[5]}]],[[{\"__ndarray__\":\"HM2FHKaxW8GEmNiicX9bwTC6Bi4qg1zBbeqAaSOyXMEczYUcprFbwQ==\",\"dtype\":\"float64\",\"shape\":[5]}]],[[{\"__ndarray__\":\"PbCuVAKFW8Gnr5tW101bwfaN0cRAVlzBA0uiuaKJXME9sK5UAoVbwQ==\",\"dtype\":\"float64\",\"shape\":[5]}]],[[{\"__ndarray__\":\"6sZUYkndW8Exd4PkQ6xbwfN8jMCDsVzBzACe4ILfXMHqxlRiSd1bwQ==\",\"dtype\":\"float64\",\"shape\":[5]}]],[[{\"__ndarray__\":\"/5lawdyvW8EijR8WV39bwYsJr1djh1zBiIcroby0XMH/mVrB3K9bwQ==\",\"dtype\":\"float64\",\"shape\":[5]}]],[[{\"__ndarray__\":\"j7IuofODW8H3y7jiK1JbweRyUYb5XVzBDJfKSE+MXMGPsi6h84NbwQ==\",\"dtype\":\"float64\",\"shape\":[5]}]],[[{\"__ndarray__\":\"IFmPVl3dW8HWRwIDV6xbwW4LOkSasVzBjnIIAZrfXMEgWY9WXd1bwQ==\",\"dtype\":\"float64\",\"shape\":[5]}]],[[{\"__ndarray__\":\"Kk9Eu+2vW8Gm3+TsaH9bweYZo5N4h1zBT9ZjB9G0XMEqT0S77a9bwQ==\",\"dtype\":\"float64\",\"shape\":[5]}]],[[{\"__ndarray__\":\"eYTesgmEW8EH/q3lQFJbwZ4gpFMVXlzBH+L48muMXMF5hN6yCYRbwQ==\",\"dtype\":\"float64\",\"shape\":[5]}]],[[{\"__ndarray__\":\"VBSTSxWtXMGEiBr54HxcwYjQr+BAc1vBaiIIcU+gW8FUFJNLFa1cwQ==\",\"dtype\":\"float64\",\"shape\":[5]}]],[[{\"__ndarray__\":\"Jgqke1PbXMHepSEJ4KlcwR9Cc0/knVvBFJ4db/HLW8EmCqR7U9tcwQ==\",\"dtype\":\"float64\",\"shape\":[5]}]],[[{\"__ndarray__\":\"Wir73YMJXcGXnYimv9ZcwTdyDVIvx1vBCuvWBUX2W8FaKvvdgwldwQ==\",\"dtype\":\"float64\",\"shape\":[5]}]],[[{\"__ndarray__\":\"o51wMAmtXMGssbLs1Xxcwfy50rYzc1vBzUxOo0GgW8GjnXAwCa1cwQ==\",\"dtype\":\"float64\",\"shape\":[5]}]],[[{\"__ndarray__\":\"+XIu2ETbXMErL//t06lcwTqOukjWnVvBtckR4ODLW8H5ci7YRNtcwQ==\",\"dtype\":\"float64\",\"shape\":[5]}]],[[{\"__ndarray__\":\"ixerJHQJXcFoBhMDsdZcwdWdAcMex1vBGVUPoTP2W8GLF6skdAldwQ==\",\"dtype\":\"float64\",\"shape\":[5]}]],[[{\"__ndarray__\":\"oDExeaS4XMG4NyK4N4lcwQ9uVqy8iV3BZh8v9ka2XcGgMTF5pLhcwQ==\",\"dtype\":\"float64\",\"shape\":[5]}]],[[{\"__ndarray__\":\"mitQCr9fXMGAJGq6FSxcwVpN/sxbMl3BQj50C4RiXcGaK1AKv19cwQ==\",\"dtype\":\"float64\",\"shape\":[5]}]],[[{\"__ndarray__\":\"VorfPa64XMGAT60gQolcweRiMg/KiV3BdDMt7lO2XcFWit89rrhcwQ==\",\"dtype\":\"float64\",\"shape\":[5]}]],[[{\"__ndarray__\":\"0kD7tUWMXMHmAcsHq1tcwVVjJ2+EXl3BfuZzVwCMXcHSQPu1RYxcwQ==\",\"dtype\":\"float64\",\"shape\":[5]}]],[[{\"__ndarray__\":\"GWXcOclfXMGzmK2jISxcwVLAk3dqMl3BhXZS/JBiXcEZZdw5yV9cwQ==\",\"dtype\":\"float64\",\"shape\":[5]}]],[[{\"__ndarray__\":\"jSaRGzuMXMGMKITJn1tcwfCsjzZ2Xl3B4RC6ifKLXcGNJpEbO4xcwQ==\",\"dtype\":\"float64\",\"shape\":[5]}]],[[{\"__ndarray__\":\"NgEbybxTXMHASieXiSFcwd0Aw/4yMV3B4k+yO9ZfXcE2ARvJvFNcwQ==\",\"dtype\":\"float64\",\"shape\":[5]}]],[[{\"__ndarray__\":\"ZDl1ekCAXMGgk+akU09cwZr4Qp1MW13B1gIpke+IXcFkOXV6QIBcwQ==\",\"dtype\":\"float64\",\"shape\":[5]}]],[[{\"__ndarray__\":\"skmFNLGuXMHjPANISn1cwYI+Wdzhhl3BYBG7BiO1XcGySYU0sa5cwQ==\",\"dtype\":\"float64\",\"shape\":[5]}]],[[{\"__ndarray__\":\"tnh7eESwXcEEt6rq/35dwQd3tPHye1zBRz5F6+upXMG2eHt4RLBdwQ==\",\"dtype\":\"float64\",\"shape\":[5]}]],[[{\"__ndarray__\":\"s75dw8eDXcE/mH21ulNdwa2NGWMuVFzBZkh/BDSBXMGzvl3Dx4NdwQ==\",\"dtype\":\"float64\",\"shape\":[5]}]],[[{\"__ndarray__\":\"wpE31FGwXcFpbUIjDn9dwehI4U4DfFzBT3V1nfupXMHCkTfUUbBdwQ==\",\"dtype\":\"float64\",\"shape\":[5]}]],[[{\"__ndarray__\":\"KTTSn9aDXcGTjzhKyFNdwfuiSE4+VFzBWtmIBUWBXMEpNNKf1oNdwQ==\",\"dtype\":\"float64\",\"shape\":[5]}]],[[{\"__ndarray__\":\"6zpcyOOuXcG9Av4Ou31dwYhKlFMncVzBRBWaGfCeXMHrOlzI465dwQ==\",\"dtype\":\"float64\",\"shape\":[5]}]],[[{\"__ndarray__\":\"EfEjKSmDXcHfOc8JM1NdwfROMtCxSlzBU6T/LJB3XMER8SMpKYNdwQ==\",\"dtype\":\"float64\",\"shape\":[5]}]],[[{\"__ndarray__\":\"r1SymO7cXcGN7Ek5eqpdwedYLY9ymlzBCwdJbj/JXMGvVLKY7txdwQ==\",\"dtype\":\"float64\",\"shape\":[5]}]],[[{\"__ndarray__\":\"GuzoeS6DXcF59k8wOVNdwZ7Kj5q4SlzB7GCAU5Z3XMEa7Oh5LoNdwQ==\",\"dtype\":\"float64\",\"shape\":[5]}]],[[{\"__ndarray__\":\"PBQgUumuXcEN3MGYwH1dwejn8uQtcVzBprL4qvaeXME8FCBS6a5dwQ==\",\"dtype\":\"float64\",\"shape\":[5]}]],[[{\"__ndarray__\":\"NlJWG/TcXcFcyOz0f6pdwRLSqyd5mlzBtYKmOEbJXME2UlYb9NxdwQ==\",\"dtype\":\"float64\",\"shape\":[5]}]],[[{\"__ndarray__\":\"oq4OnPXcXcEMJtZohKpdwZ7+fHQZm1zB+8u66OXJXMGirg6c9dxdwQ==\",\"dtype\":\"float64\",\"shape\":[5]}]],[[{\"__ndarray__\":\"hffc7umuXcHS2hNaw31dwSU2QkTIcVzBYgMnPJGfXMGF99zu6a5dwQ==\",\"dtype\":\"float64\",\"shape\":[5]}]],[[{\"__ndarray__\":\"l5kjoxyDXcGFYIjLJ1NdwdhV4PUsS1zBSGqK9gt4XMGXmSOjHINdwQ==\",\"dtype\":\"float64\",\"shape\":[5]}]]],\"ys\":[[[{\"__ndarray__\":\"Z/Ry71PwQMEGnRo6JmZCwa/fdJBY6ELBZ55k4TtvQcFn9HLvU/BAwQ==\",\"dtype\":\"float64\",\"shape\":[5]}]],[[{\"__ndarray__\":\"bO8yUT7wQMFv4fRRGGZCwckWcIxH6ELBd5n6GiNvQcFs7zJRPvBAwQ==\",\"dtype\":\"float64\",\"shape\":[5]}]],[[{\"__ndarray__\":\"Hvx3ooxIQsFhbkAnBM9DwUThVFSJVETBJruP7mfKQsEe/HeijEhCwQ==\",\"dtype\":\"float64\",\"shape\":[5]}]],[[{\"__ndarray__\":\"aF9wLYWwQ8HQ6wIkclZFwX0qZ4lx4EXB6pm/cUQ2RMFoX3AthbBDwQ==\",\"dtype\":\"float64\",\"shape\":[5]}]],[[{\"__ndarray__\":\"q5QYz1HwQMHhdP2JK2ZCwaeHI/Bc6ELB2oIJrjhvQcGrlBjPUfBAwQ==\",\"dtype\":\"float64\",\"shape\":[5]}]],[[{\"__ndarray__\":\"89HHj5hIQsGgsPedD89DwesSRjSXVETBnvrS/3XKQsHz0cePmEhCwQ==\",\"dtype\":\"float64\",\"shape\":[5]}]],[[{\"__ndarray__\":\"tyTLjIOwQ8FcwY8md1ZFwcWv1QF64EXBXMck9UU2RMG3JMuMg7BDwQ==\",\"dtype\":\"float64\",\"shape\":[5]}]],[[{\"__ndarray__\":\"dA7YlppIQsEcgWQgCs9DwXOu84mSVETB8Pi57njKQsF0DtiWmkhCwQ==\",\"dtype\":\"float64\",\"shape\":[5]}]],[[{\"__ndarray__\":\"HSozVomwQ8FJ+nnGhFZFwagGxqaG4EXBOxLPzEo2RMEdKjNWibBDwQ==\",\"dtype\":\"float64\",\"shape\":[5]}]],[[{\"__ndarray__\":\"DLznLxbiQMEJAta3T2VCwattcpa56ULBjLXmfwljQcEMvOcvFuJAwQ==\",\"dtype\":\"float64\",\"shape\":[5]}]],[[{\"__ndarray__\":\"e1A1wqdHQsEg1CvZ7cBDwQVRo/maSETBNNnIMLzLQsF7UDXCp0dCwQ==\",\"dtype\":\"float64\",\"shape\":[5]}]],[[{\"__ndarray__\":\"mL4+zGyjQ8ExAfLsdCBFwT63Rpf4q0XBg4cYiBArRMGYvj7MbKNDwQ==\",\"dtype\":\"float64\",\"shape\":[5]}]],[[{\"__ndarray__\":\"QEq0+v3hQMHIuuf9PWVCwSJtr7Wp6ULBtMgB/PJiQcFASrT6/eFAwQ==\",\"dtype\":\"float64\",\"shape\":[5]}]],[[{\"__ndarray__\":\"cSYamaRHQsEtHe+w4sBDwZaEatSRSETBGw717rrLQsFxJhqZpEdCwQ==\",\"dtype\":\"float64\",\"shape\":[5]}]],[[{\"__ndarray__\":\"o+PB8GOjQ8FkGhraciBFwW50ug/6q0XBps50JQsrRMGj48HwY6NDwQ==\",\"dtype\":\"float64\",\"shape\":[5]}]],[[{\"__ndarray__\":\"/PStPww+Q8EX7MJKusVBwf5jtmSpS0LBuAAFGpPHQ8H89K0/DD5DwQ==\",\"dtype\":\"float64\",\"shape\":[5]}]],[[{\"__ndarray__\":\"qgXWFX6bRMG2sExllB9DwRKt6oqSqEPBrpYUqVcoRcGqBdYVfptEwQ==\",\"dtype\":\"float64\",\"shape\":[5]}]],[[{\"__ndarray__\":\"ndy24Cb9RcEouDJyYX1EwY8S2wgfCkXBgQeE2QuORsGd3LbgJv1FwQ==\",\"dtype\":\"float64\",\"shape\":[5]}]],[[{\"__ndarray__\":\"RhE4JxA+Q8EMYK7gxcVBwW5I+uq1S0LBrXhn7ZfHQ8FGETgnED5DwQ==\",\"dtype\":\"float64\",\"shape\":[5]}]],[[{\"__ndarray__\":\"8HFHcWubRMESMI88mB9Dwai6Hl2XqEPBsKULqkUoRcHwcUdxa5tEwQ==\",\"dtype\":\"float64\",\"shape\":[5]}]],[[{\"__ndarray__\":\"xkXMJgz9RcFyeT3STn1EwfPKx/4MCkXBTPFQq/GNRsHGRcwmDP1FwQ==\",\"dtype\":\"float64\",\"shape\":[5]}]],[[{\"__ndarray__\":\"Y5UiOsALQcF0jlN34oFCwa4uHuIWBEPBUpHOZKaKQcFjlSI6wAtBwQ==\",\"dtype\":\"float64\",\"shape\":[5]}]],[[{\"__ndarray__\":\"hlRHi7u/Q8EJho6XgEpFwZUBqmN700XBqkmRc8FERMGGVEeLu79DwQ==\",\"dtype\":\"float64\",\"shape\":[5]}]],[[{\"__ndarray__\":\"OXhhO8ELQcH2J8GY24FCwaWxQ84SBEPBDELRP6qKQcE5eGE7wQtBwQ==\",\"dtype\":\"float64\",\"shape\":[5]}]],[[{\"__ndarray__\":\"8UjJYO1jQsGx91xsYN1DweiXcKKdYkTByB1ltZ7lQsHxSMlg7WNCwQ==\",\"dtype\":\"float64\",\"shape\":[5]}]],[[{\"__ndarray__\":\"cWMF8rO/Q8Hv3B5DaUpFwcvEU8Zm00XB3jDYybxERMFxYwXys79DwQ==\",\"dtype\":\"float64\",\"shape\":[5]}]],[[{\"__ndarray__\":\"AVr+D/RjQsHS671Fb91Dwc6c7KKpYkTBGKVKmqLlQsEBWv4P9GNCwQ==\",\"dtype\":\"float64\",\"shape\":[5]}]],[[{\"__ndarray__\":\"zcAVzZcMRMFFOZ7rvYpFwThi2fHmGEbBEtu+er+WRMHNwBXNlwxEwQ==\",\"dtype\":\"float64\",\"shape\":[5]}]],[[{\"__ndarray__\":\"06OR5eKvQsHKzaWpTipEwWqvjX2WtETBsPZtfnI2Q8HTo5Hl4q9CwQ==\",\"dtype\":\"float64\",\"shape\":[5]}]],[[{\"__ndarray__\":\"tMOWbqZJQcE3d9Iu+s1CwaC9RbcdVUPBfdwm9jPNQcG0w5ZupklBwQ==\",\"dtype\":\"float64\",\"shape\":[5]}]],[[{\"__ndarray__\":\"Xdz8Uo2dRMGvnxcS7CFDwRcOHLQkpkPBUnBlMXwlRcFd3PxSjZ1EwQ==\",\"dtype\":\"float64\",\"shape\":[5]}]],[[{\"__ndarray__\":\"mVliIB8/Q8FgK6odHcdBwfosjuXYR0LB4ggShUzDQ8GZWWIgHz9DwQ==\",\"dtype\":\"float64\",\"shape\":[5]}]],[[{\"__ndarray__\":\"pUc1BIudRMFWQobA8CFDwQd/OIYppkPBX4TFwHklRcGlRzUEi51EwQ==\",\"dtype\":\"float64\",\"shape\":[5]}]],[[{\"__ndarray__\":\"qfCAYSs/Q8GRUKihIcdBwQyKUozdR0LBW0TE8VjDQ8Gp8IBhKz9DwQ==\",\"dtype\":\"float64\",\"shape\":[5]}]],[[{\"__ndarray__\":\"Mldqo3JZRMH0tEJCQd5CwYnn0K0OZ0PBNzP2DxDmRMEyV2qjcllEwQ==\",\"dtype\":\"float64\",\"shape\":[5]}]],[[{\"__ndarray__\":\"qjbUB3n7QsEB0IUQ04NBwYGI4CnUCELB7QuR3AKEQ8GqNtQHeftCwQ==\",\"dtype\":\"float64\",\"shape\":[5]}]],[[{\"__ndarray__\":\"vfyP81W6RcGMDeQTWDtEwf5UcFfOx0TB1iK7GudKRsG9/I/zVbpFwQ==\",\"dtype\":\"float64\",\"shape\":[5]}]],[[{\"__ndarray__\":\"Qm/OaHr7QsGFFImL24NBwYbBGjPcCELB0GS4wwOEQ8FCb85oevtCwQ==\",\"dtype\":\"float64\",\"shape\":[5]}]],[[{\"__ndarray__\":\"Ipow6XNZRMFgsUOEQt5CwXrHYjgPZ0PBJMNguxDmRMEimjDpc1lEwQ==\",\"dtype\":\"float64\",\"shape\":[5]}]],[[{\"__ndarray__\":\"gNKAXFe6RcHL3lpZWTtEwbnerwLPx0TB8rY0yOdKRsGA0oBcV7pFwQ==\",\"dtype\":\"float64\",\"shape\":[5]}]],[[{\"__ndarray__\":\"/Iw8nFq6RcHZHKXlcjtEwT882uuZx0TBceJ26plKRsH8jDycWrpFwQ==\",\"dtype\":\"float64\",\"shape\":[5]}]],[[{\"__ndarray__\":\"eU66qn9ZRMHzxwXfXN5Cwdf/K+fdZkPBw8hnkM7lRMF5Trqqf1lEwQ==\",\"dtype\":\"float64\",\"shape\":[5]}]],[[{\"__ndarray__\":\"8q5355f7QsEda6+a+INBwX1yAoW2CELBkDKsk9yDQ8Hyrnfnl/tCwQ==\",\"dtype\":\"float64\",\"shape\":[5]}]]]},\"selected\":{\"id\":\"2260\"},\"selection_policy\":{\"id\":\"2290\"}},\"id\":\"2259\",\"type\":\"ColumnDataSource\"},{\"attributes\":{\"click_policy\":\"mute\",\"items\":[{\"id\":\"2270\"}],\"location\":[0,0]},\"id\":\"2269\",\"type\":\"Legend\"},{\"attributes\":{\"axis_label\":\"Latitude\",\"bounds\":\"auto\",\"formatter\":{\"id\":\"2234\"},\"major_label_orientation\":\"horizontal\",\"ticker\":{\"id\":\"2233\"}},\"id\":\"2214\",\"type\":\"LinearAxis\"},{\"attributes\":{\"data_source\":{\"id\":\"2281\"},\"glyph\":{\"id\":\"2284\"},\"hover_glyph\":null,\"muted_glyph\":{\"id\":\"2286\"},\"nonselection_glyph\":{\"id\":\"2285\"},\"selection_glyph\":null,\"view\":{\"id\":\"2288\"}},\"id\":\"2287\",\"type\":\"GlyphRenderer\"},{\"attributes\":{},\"id\":\"2260\",\"type\":\"Selection\"},{\"attributes\":{\"margin\":[5,5,5,5],\"name\":\"HSpacer07271\",\"sizing_mode\":\"stretch_width\"},\"id\":\"2177\",\"type\":\"Spacer\"},{\"attributes\":{\"data_source\":{\"id\":\"2259\"},\"glyph\":{\"id\":\"2262\"},\"hover_glyph\":null,\"muted_glyph\":{\"id\":\"2264\"},\"nonselection_glyph\":{\"id\":\"2263\"},\"selection_glyph\":null,\"view\":{\"id\":\"2266\"}},\"id\":\"2265\",\"type\":\"GlyphRenderer\"},{\"attributes\":{\"source\":{\"id\":\"2273\"}},\"id\":\"2280\",\"type\":\"CDSView\"},{\"attributes\":{},\"id\":\"2274\",\"type\":\"Selection\"},{\"attributes\":{\"axis_label\":\"Longitude\",\"bounds\":\"auto\",\"formatter\":{\"id\":\"2232\"},\"major_label_orientation\":\"horizontal\",\"ticker\":{\"id\":\"2231\"}},\"id\":\"2210\",\"type\":\"LinearAxis\"},{\"attributes\":{\"source\":{\"id\":\"2259\"}},\"id\":\"2266\",\"type\":\"CDSView\"},{\"attributes\":{\"fill_color\":{\"value\":null},\"line_color\":{\"value\":\"orange\"},\"xs\":{\"field\":\"xs\"},\"ys\":{\"field\":\"ys\"}},\"id\":\"2276\",\"type\":\"MultiPolygons\"},{\"attributes\":{\"bottom_units\":\"screen\",\"fill_alpha\":0.5,\"fill_color\":\"lightgrey\",\"left_units\":\"screen\",\"level\":\"overlay\",\"line_alpha\":1.0,\"line_color\":\"black\",\"line_dash\":[4,4],\"line_width\":2,\"render_mode\":\"css\",\"right_units\":\"screen\",\"top_units\":\"screen\"},\"id\":\"2221\",\"type\":\"BoxAnnotation\"},{\"attributes\":{\"callback\":null,\"renderers\":[{\"id\":\"2265\"}],\"tags\":[\"hv_created\"],\"tooltips\":[[\"code\",\"@{code}\"],[\"relativeOrbit\",\"@{relativeOrbit}\"]]},\"id\":\"2194\",\"type\":\"HoverTool\"},{\"attributes\":{\"level\":\"underlay\",\"tile_source\":{\"id\":\"2251\"}},\"id\":\"2254\",\"type\":\"TileRenderer\"},{\"attributes\":{\"data_source\":{\"id\":\"2273\"},\"glyph\":{\"id\":\"2276\"},\"hover_glyph\":null,\"muted_glyph\":{\"id\":\"2278\"},\"nonselection_glyph\":{\"id\":\"2277\"},\"selection_glyph\":null,\"view\":{\"id\":\"2280\"}},\"id\":\"2279\",\"type\":\"GlyphRenderer\"}],\"root_ids\":[\"2176\"]},\"title\":\"Bokeh Application\",\"version\":\"2.0.1\"}};\n",
       "  var render_items = [{\"docid\":\"5c4c9770-2a5f-4d13-ac28-babb82d5eded\",\"root_ids\":[\"2176\"],\"roots\":{\"2176\":\"a76ce828-10a1-4aad-8094-5c6373abcf2e\"}}];\n",
       "  root.Bokeh.embed.embed_items_notebook(docs_json, render_items);\n",
       "  }\n",
       "if (root.Bokeh !== undefined) {\n",
       "    embed_document(root);\n",
       "  } else {\n",
       "    var attempts = 0;\n",
       "    var timer = setInterval(function(root) {\n",
       "      if (root.Bokeh !== undefined) {\n",
       "        clearInterval(timer);\n",
       "        embed_document(root);\n",
       "      } else if (document.readyState == \"complete\") {\n",
       "        attempts++;\n",
       "        if (attempts > 100) {\n",
       "          clearInterval(timer);\n",
       "          console.log(\"Bokeh: ERROR: Unable to run BokehJS code because BokehJS library is missing\");\n",
       "        }\n",
       "      }\n",
       "    }, 10, root)\n",
       "  }\n",
       "})(window);</script>"
      ],
      "text/plain": [
       ":Overlay\n",
       "   .WMTS.I      :WMTS   [Longitude,Latitude]\n",
       "   .Polygons.I  :Polygons   [Longitude,Latitude]   (code,relativeOrbit)\n",
       "   .Polygons.II :Polygons   [Longitude,Latitude]\n",
       "   .Points.I    :Points   [x,y]"
      ]
     },
     "execution_count": 37,
     "metadata": {
      "application/vnd.holoviews_exec.v0+json": {
       "id": "2176"
      }
     },
     "output_type": "execute_result"
    }
   ],
   "source": [
    "gf['code'] = gf.relativeOrbit.astype('category').cat.codes\n",
    "# Extract frames from particular month to get a feel for where frames are\n",
    "start = '09/01/2019'\n",
    "end = '09/30/2019'\n",
    "gdf = gf.query('dateStamp > @start & dateStamp < @end')\n",
    "# plot the tracks on our map from before\n",
    "footprints = gdf.hvplot.polygons(geo=True, hover_cols=['code','relativeOrbit'], cmap='Category10',  \n",
    "                                 alpha=0.3, legend=True, colorbar=False, title='Sentinel-1 Tracks') #color=hv.Cycle('Category20')\n",
    "tiles * footprints * aoi * utur "
   ]
  },
  {
   "cell_type": "markdown",
   "metadata": {},
   "source": [
    "Much better - now we won't be processing a ton of unnecessary data!\n",
    "\n",
    "Later in the processing we'll specify which sub-swaths of each track to process:\n",
    "\n",
    "\n",
    "* 156: 1,2\n",
    "* 149: 2,3\n",
    "* 76: 1,2\n",
    "* 83: 2,3"
   ]
  },
  {
   "cell_type": "markdown",
   "metadata": {},
   "source": [
    "We now have what we need for the next steps in processing:\n",
    "* \"query.geojson\" file with the results of the database search\n",
    "* \"apmb.geojson\" file with the bounds of the area of interest"
   ]
  }
 ],
 "metadata": {
  "kernelspec": {
   "display_name": "Python 3",
   "language": "python",
   "name": "python3"
  },
  "language_info": {
   "codemirror_mode": {
    "name": "ipython",
    "version": 3
   },
   "file_extension": ".py",
   "mimetype": "text/x-python",
   "name": "python",
   "nbconvert_exporter": "python",
   "pygments_lexer": "ipython3",
   "version": "3.8.2"
  }
 },
 "nbformat": 4,
 "nbformat_minor": 4
}

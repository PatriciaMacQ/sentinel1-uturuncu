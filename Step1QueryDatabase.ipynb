{
 "cells": [
  {
   "cell_type": "markdown",
   "metadata": {},
   "source": [
    "# Step 1: Query the ASF Database\n",
    "This notebook uses the dinosar python package to search on the ASF (Alaksa Satellite Facility) for Sentinel 1-A/B SAR data convering the APMB (Altiplano-Puna Magma Body) for all times."
   ]
  },
  {
   "cell_type": "markdown",
   "metadata": {},
   "source": [
    "## 1.1: Import Python Modules\n",
    "Import the python modules you need (and install dinosar if necessary)"
   ]
  },
  {
   "cell_type": "code",
   "execution_count": null,
   "metadata": {},
   "outputs": [],
   "source": [
    "# if dinosar library not in base environment uncomment below (run just once)\n",
    "#!pip install --no-cache git+https://github.com/scottyhq/dinosar.git@master"
   ]
  },
  {
   "cell_type": "code",
   "execution_count": null,
   "metadata": {},
   "outputs": [],
   "source": [
    "import geopandas as gpd\n",
    "import pandas as pd\n",
    "import geoviews as gv\n",
    "import hvplot.pandas\n",
    "import dinosar"
   ]
  },
  {
   "cell_type": "markdown",
   "metadata": {},
   "source": [
    "## 1.2: Load and plot area of interest\n",
    "\n",
    "Load the file \"apmb.geojson\" that contains the bounding coordinates for the APMB, our area of interest (AOI).  Make a plot to confirm everything worked."
   ]
  },
  {
   "cell_type": "code",
   "execution_count": null,
   "metadata": {},
   "outputs": [],
   "source": [
    "gf = gpd.read_file('apmb.geojson') #load file with apmb coordinates\n",
    "snwe = dinosar.archive.asf.ogr2snwe('apmb.geojson') #grad the lat/lon extent of the apmb\n",
    "snwe #print out the lat/lon extent"
   ]
  },
  {
   "cell_type": "code",
   "execution_count": null,
   "metadata": {},
   "outputs": [],
   "source": [
    "# Plot the area of interest on a map\n",
    "\n",
    "S,N,W,E = [-25, -20, -72, -65] #set map extent\n",
    "\n",
    "# set up plot elements\n",
    "tiles = gv.tile_sources.CartoEco.options(width=700, height=500).redim.range(Latitude=(S, N), Longitude=(W, E)) \n",
    "aoi = gf.hvplot(geo=True, fill_color=None, line_color='orange', title='Sentinel-1 Area of Interest', hover=False)\n",
    "utur = gv.Points([(-67.18, -22.27)]).opts(color='r', marker='^', size=10)\n",
    "\n",
    "tiles * aoi * utur #This line actually displays the plot"
   ]
  },
  {
   "cell_type": "markdown",
   "metadata": {},
   "source": [
    "## 1.3: Query the ASF database and plot results\n",
    "Search for Sentinel 1-A/B data on ASF that falls within the lat/lon extents defined by our apmb.geojson file.  Plot the results of the search."
   ]
  },
  {
   "cell_type": "code",
   "execution_count": null,
   "metadata": {},
   "outputs": [],
   "source": [
    "# Define a function that queries the ASF database for both SA and SB results, \n",
    "# and merges search results into one file (\"query.geojson\").\n",
    "# If \"query.geojson\" already exists, this function will overwrite it with a new file \n",
    "# with updated search results.\n",
    "def refresh_inventory(snwe):\n",
    "    dinosar.archive.asf.query_asf(snwe, 'SA') #creates the file \"query_SA.json\"\n",
    "    dinosar.archive.asf.query_asf(snwe, 'SB') #creates the file \"query_SB.json\"\n",
    "    gf = dinosar.archive.asf.merge_inventories('query_SA.json', 'query_SB.json')#merge the results \n",
    "    dinosar.archive.asf.save_inventory(gf)#creates the merged file \"query.geojson\""
   ]
  },
  {
   "cell_type": "code",
   "execution_count": null,
   "metadata": {},
   "outputs": [],
   "source": [
    "refresh_inventory(snwe) #refresh existing file or create a new one"
   ]
  },
  {
   "cell_type": "code",
   "execution_count": null,
   "metadata": {},
   "outputs": [],
   "source": [
    "#load the search results\n",
    "gf = dinosar.archive.asf.load_inventory('query.geojson')"
   ]
  },
  {
   "cell_type": "code",
   "execution_count": null,
   "metadata": {},
   "outputs": [],
   "source": [
    "# print the track/orbit numbers in the search data\n",
    "gf.relativeOrbit.unique()"
   ]
  },
  {
   "cell_type": "code",
   "execution_count": null,
   "metadata": {},
   "outputs": [],
   "source": [
    "# display a table summarizing the geometries of the different orbits\n",
    "gft = gf[['relativeOrbit','geometry']].dissolve(by='relativeOrbit').reset_index()\n",
    "gft['code'] = gft.relativeOrbit.astype('category').cat.codes # sets a code for orbits\n",
    "gft.head()"
   ]
  },
  {
   "cell_type": "code",
   "execution_count": null,
   "metadata": {},
   "outputs": [],
   "source": [
    "# get geometry of frames from just one month to get an idea of which tracks cover what area\n",
    "gf['code'] = gf.relativeOrbit.astype('category').cat.codes\n",
    "# Extract frames from particular month to get a feel for where frames are\n",
    "start = '09/01/2019'\n",
    "end = '09/30/2019'\n",
    "gdf = gf.query('dateStamp > @start & dateStamp < @end')"
   ]
  },
  {
   "cell_type": "code",
   "execution_count": null,
   "metadata": {},
   "outputs": [],
   "source": [
    "# plot the tracks on our map from before\n",
    "footprints = gdf.hvplot.polygons(geo=True, hover_cols=['code','relativeOrbit'], cmap='Category10',  \n",
    "                                 alpha=0.3, legend=True, colorbar=False, title='Sentinel-1 Tracks') #color=hv.Cycle('Category20')\n",
    "tiles * footprints * aoi * utur "
   ]
  },
  {
   "cell_type": "markdown",
   "metadata": {},
   "source": [
    "If you hover over the tracks, a pop-up box displays the orbit/track number.  It looks like tracks 3 and 10 are too far east to be useful, so let's re-make that plot without those tracks."
   ]
  },
  {
   "cell_type": "code",
   "execution_count": null,
   "metadata": {},
   "outputs": [],
   "source": [
    "tracks = [76,83,149,156] #specify tracks to include\n",
    "gf = gf[gf.relativeOrbit.isin(tracks)]  #now gf does not include tracks 3 and 10\n",
    "\n",
    "# display a table summarizing the geometries of the different orbits in gf - now without 3 and 10\n",
    "gft = gf[['relativeOrbit','geometry']].dissolve(by='relativeOrbit').reset_index()\n",
    "gft['code'] = gft.relativeOrbit.astype('category').cat.codes # sets a code for orbits\n",
    "gft.head()"
   ]
  },
  {
   "cell_type": "code",
   "execution_count": null,
   "metadata": {},
   "outputs": [],
   "source": [
    "gf['code'] = gf.relativeOrbit.astype('category').cat.codes\n",
    "# Extract frames from particular month to get a feel for where frames are\n",
    "start = '09/01/2019'\n",
    "end = '09/30/2019'\n",
    "gdf = gf.query('dateStamp > @start & dateStamp < @end')\n",
    "# plot the tracks on our map from before\n",
    "footprints = gdf.hvplot.polygons(geo=True, hover_cols=['code','relativeOrbit'], cmap='Category10',  \n",
    "                                 alpha=0.3, legend=True, colorbar=False, title='Sentinel-1 Tracks') #color=hv.Cycle('Category20')\n",
    "tiles * footprints * aoi * utur "
   ]
  },
  {
   "cell_type": "markdown",
   "metadata": {},
   "source": [
    "Much better - now we won't be processing a ton of unnecessary data!\n",
    "\n",
    "Later in the processing we'll specify which sub-swaths of each track to process:\n",
    "\n",
    "\n",
    "* 156: 1,2\n",
    "* 149: 2,3\n",
    "* 76: 1,2\n",
    "* 83: 2,3"
   ]
  },
  {
   "cell_type": "markdown",
   "metadata": {},
   "source": [
    "We now have what we need for the next steps in processing:\n",
    "* \"query.geojson\" file with the results of the database search\n",
    "* \"apmb.geojson\" file with the bounds of the area of interest"
   ]
  }
 ],
 "metadata": {
  "kernelspec": {
   "display_name": "Python 3",
   "language": "python",
   "name": "python3"
  },
  "language_info": {
   "codemirror_mode": {
    "name": "ipython",
    "version": 3
   },
   "file_extension": ".py",
   "mimetype": "text/x-python",
   "name": "python",
   "nbconvert_exporter": "python",
   "pygments_lexer": "ipython3",
   "version": "3.7.6"
  }
 },
 "nbformat": 4,
 "nbformat_minor": 4
}

{
 "cells": [
  {
   "cell_type": "markdown",
   "metadata": {},
   "source": [
    "# Step 2: Create and Push a Batch Run to AWS\n",
    "\n",
    "**WARNING**: Make sure everything is set correctly BEFORE running this notebook!  Since this notebook starts processing on the AWS servers, it has the potential  to consume a lot of resources, aka dollars...\n",
    "\n",
    "This notebook:\n",
    "* Imports the ASF database query file we created in step 1\n",
    "* chooses a set of interferograms to process\n",
    "* prepares the files needed to process those interferograms\n",
    "* uploads files to AWS servers and starts the processing\n",
    "\n",
    "Requires the following files to be in the folder where you run the code:\n",
    "* apmb.geojson (file with coordinates for APMB)\n",
    "* query.geojson (file with results of ASF database query)\n",
    "* template.yml (yaml file with ISCE processing parameters)"
   ]
  },
  {
   "cell_type": "markdown",
   "metadata": {},
   "source": [
    "## 2.1: Import Python packages\n",
    "\n",
    "Import the packages needed to run this notebook.  You may need to install the dinosar package first."
   ]
  },
  {
   "cell_type": "code",
   "execution_count": null,
   "metadata": {},
   "outputs": [],
   "source": [
    "# if dinosar library not in base environment uncomment below (run just once)\n",
    "#!pip install --no-cache git+https://github.com/scottyhq/dinosar.git@master"
   ]
  },
  {
   "cell_type": "code",
   "execution_count": 1,
   "metadata": {},
   "outputs": [],
   "source": [
    "import subprocess\n",
    "import os\n",
    "import dinosar\n",
    "import geopandas as gpd\n",
    "import getpass"
   ]
  },
  {
   "cell_type": "markdown",
   "metadata": {},
   "source": [
    "## 2.2: Choose processing parameters\n",
    "\n",
    "Make sure you have this section set the way you want it before running later cells!  \n",
    "\n",
    "In this section we'll set:\n",
    "* Which interferograms to make\n",
    "* ISCE processing parameters (swaths, filters, etc.)\n",
    "* AWS processing parameters (S3 bucket name, AWS job name)"
   ]
  },
  {
   "cell_type": "markdown",
   "metadata": {},
   "source": [
    "### 2.2.1 Choose which interferograms to process\n",
    "This section sets the track to process, and makes pairs from one date each month for all the data from that track."
   ]
  },
  {
   "cell_type": "markdown",
   "metadata": {},
   "source": [
    "Choose which track to process:"
   ]
  },
  {
   "cell_type": "code",
   "execution_count": 2,
   "metadata": {},
   "outputs": [],
   "source": [
    "# choose track to process\n",
    "track = 76\n",
    "# load the ASF search results that you generated in Step 1\n",
    "gf = dinosar.archive.asf.load_inventory('query.geojson')\n",
    "# create a new dataframe with only the track selected, in the date bounds selected\n",
    "gdf=gf.query('relativeOrbit == @track')"
   ]
  },
  {
   "cell_type": "markdown",
   "metadata": {},
   "source": [
    "This section is currently set up to then make sequential pairs with one date from each month.  However, that can be changed in future!"
   ]
  },
  {
   "cell_type": "code",
   "execution_count": 3,
   "metadata": {},
   "outputs": [
    {
     "data": {
      "text/html": [
       "<div>\n",
       "<style scoped>\n",
       "    .dataframe tbody tr th:only-of-type {\n",
       "        vertical-align: middle;\n",
       "    }\n",
       "\n",
       "    .dataframe tbody tr th {\n",
       "        vertical-align: top;\n",
       "    }\n",
       "\n",
       "    .dataframe thead th {\n",
       "        text-align: right;\n",
       "    }\n",
       "</style>\n",
       "<table border=\"1\" class=\"dataframe\">\n",
       "  <thead>\n",
       "    <tr style=\"text-align: right;\">\n",
       "      <th></th>\n",
       "      <th>frameNumber</th>\n",
       "      <th>dateStamp</th>\n",
       "      <th>relativeOrbit</th>\n",
       "    </tr>\n",
       "  </thead>\n",
       "  <tbody>\n",
       "    <tr>\n",
       "      <th>1072</th>\n",
       "      <td>1100</td>\n",
       "      <td>2014-11-03</td>\n",
       "      <td>76</td>\n",
       "    </tr>\n",
       "    <tr>\n",
       "      <th>1071</th>\n",
       "      <td>1105</td>\n",
       "      <td>2014-11-03</td>\n",
       "      <td>76</td>\n",
       "    </tr>\n",
       "    <tr>\n",
       "      <th>1070</th>\n",
       "      <td>1110</td>\n",
       "      <td>2014-11-03</td>\n",
       "      <td>76</td>\n",
       "    </tr>\n",
       "    <tr>\n",
       "      <th>1054</th>\n",
       "      <td>1105</td>\n",
       "      <td>2014-11-27</td>\n",
       "      <td>76</td>\n",
       "    </tr>\n",
       "    <tr>\n",
       "      <th>1055</th>\n",
       "      <td>1100</td>\n",
       "      <td>2014-11-27</td>\n",
       "      <td>76</td>\n",
       "    </tr>\n",
       "  </tbody>\n",
       "</table>\n",
       "</div>"
      ],
      "text/plain": [
       "     frameNumber  dateStamp  relativeOrbit\n",
       "1072        1100 2014-11-03             76\n",
       "1071        1105 2014-11-03             76\n",
       "1070        1110 2014-11-03             76\n",
       "1054        1105 2014-11-27             76\n",
       "1055        1100 2014-11-27             76"
      ]
     },
     "execution_count": 3,
     "metadata": {},
     "output_type": "execute_result"
    }
   ],
   "source": [
    "# create yet another dataframe with only some info so we can quickly check that we selected the data we actually want\n",
    "df = gdf.loc[:,['frameNumber','dateStamp','relativeOrbit']].sort_values(by='dateStamp')\n",
    "df.head()"
   ]
  },
  {
   "cell_type": "code",
   "execution_count": 4,
   "metadata": {},
   "outputs": [
    {
     "data": {
      "text/html": [
       "<div>\n",
       "<style scoped>\n",
       "    .dataframe tbody tr th:only-of-type {\n",
       "        vertical-align: middle;\n",
       "    }\n",
       "\n",
       "    .dataframe tbody tr th {\n",
       "        vertical-align: top;\n",
       "    }\n",
       "\n",
       "    .dataframe thead th {\n",
       "        text-align: right;\n",
       "    }\n",
       "</style>\n",
       "<table border=\"1\" class=\"dataframe\">\n",
       "  <thead>\n",
       "    <tr style=\"text-align: right;\">\n",
       "      <th></th>\n",
       "      <th>frameNumber</th>\n",
       "      <th>dateStamp</th>\n",
       "      <th>relativeOrbit</th>\n",
       "    </tr>\n",
       "    <tr>\n",
       "      <th>dateStamp</th>\n",
       "      <th></th>\n",
       "      <th></th>\n",
       "      <th></th>\n",
       "    </tr>\n",
       "  </thead>\n",
       "  <tbody>\n",
       "    <tr>\n",
       "      <th>2014-11-03</th>\n",
       "      <td>1100</td>\n",
       "      <td>2014-11-03</td>\n",
       "      <td>76</td>\n",
       "    </tr>\n",
       "    <tr>\n",
       "      <th>2014-11-27</th>\n",
       "      <td>1105</td>\n",
       "      <td>2014-11-27</td>\n",
       "      <td>76</td>\n",
       "    </tr>\n",
       "    <tr>\n",
       "      <th>2014-12-21</th>\n",
       "      <td>1100</td>\n",
       "      <td>2014-12-21</td>\n",
       "      <td>76</td>\n",
       "    </tr>\n",
       "    <tr>\n",
       "      <th>2015-01-14</th>\n",
       "      <td>1099</td>\n",
       "      <td>2015-01-14</td>\n",
       "      <td>76</td>\n",
       "    </tr>\n",
       "    <tr>\n",
       "      <th>2015-02-07</th>\n",
       "      <td>1105</td>\n",
       "      <td>2015-02-07</td>\n",
       "      <td>76</td>\n",
       "    </tr>\n",
       "  </tbody>\n",
       "</table>\n",
       "</div>"
      ],
      "text/plain": [
       "           frameNumber  dateStamp  relativeOrbit\n",
       "dateStamp                                       \n",
       "2014-11-03        1100 2014-11-03             76\n",
       "2014-11-27        1105 2014-11-27             76\n",
       "2014-12-21        1100 2014-12-21             76\n",
       "2015-01-14        1099 2015-01-14             76\n",
       "2015-02-07        1105 2015-02-07             76"
      ]
     },
     "execution_count": 4,
     "metadata": {},
     "output_type": "execute_result"
    }
   ],
   "source": [
    "# Take only unique dates and set DateTimeIndex\n",
    "df  = df.drop_duplicates('dateStamp').set_index('dateStamp', drop=False)\n",
    "df.head()"
   ]
  },
  {
   "cell_type": "code",
   "execution_count": 7,
   "metadata": {},
   "outputs": [],
   "source": [
    "# function that puts two dates in the correct format for an interferogram pair\n",
    "def dates_to_pairs(dates):\n",
    "    pairs = []\n",
    "    for i in range(len(dates)-1):\n",
    "        master = dates[i]\n",
    "        second = dates[i+1]\n",
    "        intdir = 'int-{0}-{1}'.format(master, second)\n",
    "        pairs.append(intdir)\n",
    "    \n",
    "    return pairs"
   ]
  },
  {
   "cell_type": "code",
   "execution_count": 8,
   "metadata": {},
   "outputs": [],
   "source": [
    "# function that creates pairs with one acquisition from each month\n",
    "def one_per_month(df):\n",
    "    # Single date per month\n",
    "    tmp = df.resample('M').first()\n",
    "    tmp1 = tmp.sort_index(ascending=False)\n",
    "    dates = tmp1.dateStamp.apply(lambda x: x.strftime('%Y%m%d')).to_list()\n",
    "    pairs = dates_to_pairs(dates)\n",
    "    \n",
    "    return pairs"
   ]
  },
  {
   "cell_type": "code",
   "execution_count": 9,
   "metadata": {},
   "outputs": [
    {
     "name": "stdout",
     "output_type": "stream",
     "text": [
      "66 Interferograms to generate:\n"
     ]
    },
    {
     "data": {
      "text/plain": [
       "['int-20200505-20200405',\n",
       " 'int-20200405-20200306',\n",
       " 'int-20200306-20200205',\n",
       " 'int-20200205-20200106',\n",
       " 'int-20200106-20191201',\n",
       " 'int-20191201-20191101',\n",
       " 'int-20191101-20191002',\n",
       " 'int-20191002-20190902',\n",
       " 'int-20190902-20190803',\n",
       " 'int-20190803-20190704',\n",
       " 'int-20190704-20190604',\n",
       " 'int-20190604-20190505',\n",
       " 'int-20190505-20190405',\n",
       " 'int-20190405-20190306',\n",
       " 'int-20190306-20190210',\n",
       " 'int-20190210-20190105',\n",
       " 'int-20190105-20181206',\n",
       " 'int-20181206-20181106',\n",
       " 'int-20181106-20181001',\n",
       " 'int-20181001-20180907',\n",
       " 'int-20180907-20180802',\n",
       " 'int-20180802-20180703',\n",
       " 'int-20180703-20180603',\n",
       " 'int-20180603-20180504',\n",
       " 'int-20180504-20180404',\n",
       " 'int-20180404-20180305',\n",
       " 'int-20180305-20180209',\n",
       " 'int-20180209-20180104',\n",
       " 'int-20180104-20171211',\n",
       " 'int-20171211-20171105',\n",
       " 'int-20171105-20171012',\n",
       " 'int-20171012-20170906',\n",
       " 'int-20170906-20170801',\n",
       " 'int-20170801-20170708',\n",
       " 'int-20170708-20170602',\n",
       " 'int-20170602-20170509',\n",
       " 'int-20170509-20170415',\n",
       " 'int-20170415-20170304',\n",
       " 'int-20170304-20170214',\n",
       " 'int-20170214-20170115',\n",
       " 'int-20170115-20161204',\n",
       " 'int-20161204-20161104',\n",
       " 'int-20161104-20161011',\n",
       " 'int-20161011-20160917',\n",
       " 'int-20160917-20160824',\n",
       " 'int-20160824-20160707',\n",
       " 'int-20160707-20160613',\n",
       " 'int-20160613-20160520',\n",
       " 'int-20160520-20160402',\n",
       " 'int-20160402-20160309',\n",
       " 'int-20160309-20160214',\n",
       " 'int-20160214-20160121',\n",
       " 'int-20160121-20151228',\n",
       " 'int-20151228-20151110',\n",
       " 'int-20151110-20151017',\n",
       " 'int-20151017-20150923',\n",
       " 'int-20150923-20150806',\n",
       " 'int-20150806-20150713',\n",
       " 'int-20150713-20150619',\n",
       " 'int-20150619-20150502',\n",
       " 'int-20150502-20150408',\n",
       " 'int-20150408-20150315',\n",
       " 'int-20150315-20150207',\n",
       " 'int-20150207-20150114',\n",
       " 'int-20150114-20141221',\n",
       " 'int-20141221-20141103']"
      ]
     },
     "execution_count": 9,
     "metadata": {},
     "output_type": "execute_result"
    }
   ],
   "source": [
    "# create the pairs\n",
    "pairs = one_per_month(df)\n",
    "# print the number of pairs and a list of the pairs\n",
    "print(f'{len(pairs)-1} Interferograms to generate:')\n",
    "pairs"
   ]
  },
  {
   "cell_type": "markdown",
   "metadata": {},
   "source": [
    "### 2.2.2: Set ISCE Processing Parameters\n",
    "\n",
    "1. Open the \"template.yml\" file and save a copy with a new name for this batch run (e.g., \"Template_83_JanFeb2019.yml\").\n",
    "2. In the new .yml file, change the swath numbers to match the track you want to process:\n",
    "  * 156: 1,2\n",
    "  * 149: 2,3\n",
    "  * 76: 1,2\n",
    "  * 83: 2,3\n",
    "3. Optional - change other ISCE processing parameters in the template as needed."
   ]
  },
  {
   "cell_type": "code",
   "execution_count": 10,
   "metadata": {},
   "outputs": [],
   "source": [
    "# enter the name of the .yml template file here\n",
    "template=\"templateA76_1month_All.yml\""
   ]
  },
  {
   "cell_type": "markdown",
   "metadata": {},
   "source": [
    "### 2.2.3: Set AWS parameters\n",
    "These are the parameters you need to set for each job you push to AWS:\n",
    "* Destination for processing files on AWS (folder name)\n",
    "* Job name - to track your job while it is processing\n",
    "\n",
    "Ideally, these names should tell you something about the processing job (i.e., \"Track83_2014-2020_1month\")"
   ]
  },
  {
   "cell_type": "code",
   "execution_count": 11,
   "metadata": {},
   "outputs": [],
   "source": [
    "# aws parameters:\n",
    "dirname = 'A76-1month-All-TEST' #name of the folder on AWS where your processing files will be\n",
    "jobname = 'A76-1month-All-TEST' #name for the job on AWS"
   ]
  },
  {
   "cell_type": "markdown",
   "metadata": {},
   "source": [
    "## 2.3: Create processing directories and push them to AWS\n",
    "\n",
    "Now that we've defined our processing parameters and chosen the interferograms to process, we'll create a processing directory for each interferogram, and then upload those directories to the AWS server (S3)."
   ]
  },
  {
   "cell_type": "code",
   "execution_count": 14,
   "metadata": {},
   "outputs": [
    {
     "name": "stdout",
     "output_type": "stream",
     "text": [
      "aws s3 cp pairs.txt s3://dinosar/processing/uturuncu/A76-1month-All-TEST/pairs.txt\n"
     ]
    },
    {
     "data": {
      "text/plain": [
       "0"
      ]
     },
     "execution_count": 14,
     "metadata": {},
     "output_type": "execute_result"
    }
   ],
   "source": [
    "# set full path to bucket on S3\n",
    "bucket = 's3://dinosar/processing/uturuncu/' + dirname\n",
    "# create a text file with the interferogram pairs to process\n",
    "pairsFile = 'pairs.txt'\n",
    "\n",
    "paths = [bucket+'/'+x for x in pairs]\n",
    "with open(pairsFile, 'w') as f:\n",
    "    f.write('\\n'.join(paths))\n",
    "\n",
    "cmd = f'aws s3 cp {pairsFile} {bucket}/{pairsFile}'#write the command to push pairs.txt to the AWS bucket\n",
    "\n",
    "print(cmd)\n",
    "\n",
    "subprocess.call(cmd, shell=True) # runs the command to push the files with pairs to process to the AWS bucket"
   ]
  },
  {
   "cell_type": "code",
   "execution_count": 15,
   "metadata": {},
   "outputs": [
    {
     "data": {
      "text/plain": [
       "{0: 's3://dinosar/processing/uturuncu/A76-1month-All-TEST/int-20200505-20200405',\n",
       " 1: 's3://dinosar/processing/uturuncu/A76-1month-All-TEST/int-20200405-20200306',\n",
       " 2: 's3://dinosar/processing/uturuncu/A76-1month-All-TEST/int-20200306-20200205',\n",
       " 3: 's3://dinosar/processing/uturuncu/A76-1month-All-TEST/int-20200205-20200106',\n",
       " 4: 's3://dinosar/processing/uturuncu/A76-1month-All-TEST/int-20200106-20191201',\n",
       " 5: 's3://dinosar/processing/uturuncu/A76-1month-All-TEST/int-20191201-20191101',\n",
       " 6: 's3://dinosar/processing/uturuncu/A76-1month-All-TEST/int-20191101-20191002',\n",
       " 7: 's3://dinosar/processing/uturuncu/A76-1month-All-TEST/int-20191002-20190902',\n",
       " 8: 's3://dinosar/processing/uturuncu/A76-1month-All-TEST/int-20190902-20190803',\n",
       " 9: 's3://dinosar/processing/uturuncu/A76-1month-All-TEST/int-20190803-20190704',\n",
       " 10: 's3://dinosar/processing/uturuncu/A76-1month-All-TEST/int-20190704-20190604',\n",
       " 11: 's3://dinosar/processing/uturuncu/A76-1month-All-TEST/int-20190604-20190505',\n",
       " 12: 's3://dinosar/processing/uturuncu/A76-1month-All-TEST/int-20190505-20190405',\n",
       " 13: 's3://dinosar/processing/uturuncu/A76-1month-All-TEST/int-20190405-20190306',\n",
       " 14: 's3://dinosar/processing/uturuncu/A76-1month-All-TEST/int-20190306-20190210',\n",
       " 15: 's3://dinosar/processing/uturuncu/A76-1month-All-TEST/int-20190210-20190105',\n",
       " 16: 's3://dinosar/processing/uturuncu/A76-1month-All-TEST/int-20190105-20181206',\n",
       " 17: 's3://dinosar/processing/uturuncu/A76-1month-All-TEST/int-20181206-20181106',\n",
       " 18: 's3://dinosar/processing/uturuncu/A76-1month-All-TEST/int-20181106-20181001',\n",
       " 19: 's3://dinosar/processing/uturuncu/A76-1month-All-TEST/int-20181001-20180907',\n",
       " 20: 's3://dinosar/processing/uturuncu/A76-1month-All-TEST/int-20180907-20180802',\n",
       " 21: 's3://dinosar/processing/uturuncu/A76-1month-All-TEST/int-20180802-20180703',\n",
       " 22: 's3://dinosar/processing/uturuncu/A76-1month-All-TEST/int-20180703-20180603',\n",
       " 23: 's3://dinosar/processing/uturuncu/A76-1month-All-TEST/int-20180603-20180504',\n",
       " 24: 's3://dinosar/processing/uturuncu/A76-1month-All-TEST/int-20180504-20180404',\n",
       " 25: 's3://dinosar/processing/uturuncu/A76-1month-All-TEST/int-20180404-20180305',\n",
       " 26: 's3://dinosar/processing/uturuncu/A76-1month-All-TEST/int-20180305-20180209',\n",
       " 27: 's3://dinosar/processing/uturuncu/A76-1month-All-TEST/int-20180209-20180104',\n",
       " 28: 's3://dinosar/processing/uturuncu/A76-1month-All-TEST/int-20180104-20171211',\n",
       " 29: 's3://dinosar/processing/uturuncu/A76-1month-All-TEST/int-20171211-20171105',\n",
       " 30: 's3://dinosar/processing/uturuncu/A76-1month-All-TEST/int-20171105-20171012',\n",
       " 31: 's3://dinosar/processing/uturuncu/A76-1month-All-TEST/int-20171012-20170906',\n",
       " 32: 's3://dinosar/processing/uturuncu/A76-1month-All-TEST/int-20170906-20170801',\n",
       " 33: 's3://dinosar/processing/uturuncu/A76-1month-All-TEST/int-20170801-20170708',\n",
       " 34: 's3://dinosar/processing/uturuncu/A76-1month-All-TEST/int-20170708-20170602',\n",
       " 35: 's3://dinosar/processing/uturuncu/A76-1month-All-TEST/int-20170602-20170509',\n",
       " 36: 's3://dinosar/processing/uturuncu/A76-1month-All-TEST/int-20170509-20170415',\n",
       " 37: 's3://dinosar/processing/uturuncu/A76-1month-All-TEST/int-20170415-20170304',\n",
       " 38: 's3://dinosar/processing/uturuncu/A76-1month-All-TEST/int-20170304-20170214',\n",
       " 39: 's3://dinosar/processing/uturuncu/A76-1month-All-TEST/int-20170214-20170115',\n",
       " 40: 's3://dinosar/processing/uturuncu/A76-1month-All-TEST/int-20170115-20161204',\n",
       " 41: 's3://dinosar/processing/uturuncu/A76-1month-All-TEST/int-20161204-20161104',\n",
       " 42: 's3://dinosar/processing/uturuncu/A76-1month-All-TEST/int-20161104-20161011',\n",
       " 43: 's3://dinosar/processing/uturuncu/A76-1month-All-TEST/int-20161011-20160917',\n",
       " 44: 's3://dinosar/processing/uturuncu/A76-1month-All-TEST/int-20160917-20160824',\n",
       " 45: 's3://dinosar/processing/uturuncu/A76-1month-All-TEST/int-20160824-20160707',\n",
       " 46: 's3://dinosar/processing/uturuncu/A76-1month-All-TEST/int-20160707-20160613',\n",
       " 47: 's3://dinosar/processing/uturuncu/A76-1month-All-TEST/int-20160613-20160520',\n",
       " 48: 's3://dinosar/processing/uturuncu/A76-1month-All-TEST/int-20160520-20160402',\n",
       " 49: 's3://dinosar/processing/uturuncu/A76-1month-All-TEST/int-20160402-20160309',\n",
       " 50: 's3://dinosar/processing/uturuncu/A76-1month-All-TEST/int-20160309-20160214',\n",
       " 51: 's3://dinosar/processing/uturuncu/A76-1month-All-TEST/int-20160214-20160121',\n",
       " 52: 's3://dinosar/processing/uturuncu/A76-1month-All-TEST/int-20160121-20151228',\n",
       " 53: 's3://dinosar/processing/uturuncu/A76-1month-All-TEST/int-20151228-20151110',\n",
       " 54: 's3://dinosar/processing/uturuncu/A76-1month-All-TEST/int-20151110-20151017',\n",
       " 55: 's3://dinosar/processing/uturuncu/A76-1month-All-TEST/int-20151017-20150923',\n",
       " 56: 's3://dinosar/processing/uturuncu/A76-1month-All-TEST/int-20150923-20150806',\n",
       " 57: 's3://dinosar/processing/uturuncu/A76-1month-All-TEST/int-20150806-20150713',\n",
       " 58: 's3://dinosar/processing/uturuncu/A76-1month-All-TEST/int-20150713-20150619',\n",
       " 59: 's3://dinosar/processing/uturuncu/A76-1month-All-TEST/int-20150619-20150502',\n",
       " 60: 's3://dinosar/processing/uturuncu/A76-1month-All-TEST/int-20150502-20150408',\n",
       " 61: 's3://dinosar/processing/uturuncu/A76-1month-All-TEST/int-20150408-20150315',\n",
       " 62: 's3://dinosar/processing/uturuncu/A76-1month-All-TEST/int-20150315-20150207',\n",
       " 63: 's3://dinosar/processing/uturuncu/A76-1month-All-TEST/int-20150207-20150114',\n",
       " 64: 's3://dinosar/processing/uturuncu/A76-1month-All-TEST/int-20150114-20141221',\n",
       " 65: 's3://dinosar/processing/uturuncu/A76-1month-All-TEST/int-20141221-20141103'}"
      ]
     },
     "execution_count": 15,
     "metadata": {},
     "output_type": "execute_result"
    }
   ],
   "source": [
    "with open(pairsFile) as f:\n",
    "    pairs = [line.rstrip() for line in f]\n",
    "    mapping = dict(enumerate(pairs))\n",
    "mapping"
   ]
  },
  {
   "cell_type": "code",
   "execution_count": 17,
   "metadata": {},
   "outputs": [
    {
     "name": "stdout",
     "output_type": "stream",
     "text": [
      "0 prep_topsApp_local -i query.geojson -m 20200505 -p 76 -s 20200405 -t templateA76_1month_All.yml\n",
      "1 prep_topsApp_local -i query.geojson -m 20200405 -p 76 -s 20200306 -t templateA76_1month_All.yml\n",
      "2 prep_topsApp_local -i query.geojson -m 20200306 -p 76 -s 20200205 -t templateA76_1month_All.yml\n",
      "3 prep_topsApp_local -i query.geojson -m 20200205 -p 76 -s 20200106 -t templateA76_1month_All.yml\n",
      "4 prep_topsApp_local -i query.geojson -m 20200106 -p 76 -s 20191201 -t templateA76_1month_All.yml\n",
      "5 prep_topsApp_local -i query.geojson -m 20191201 -p 76 -s 20191101 -t templateA76_1month_All.yml\n",
      "6 prep_topsApp_local -i query.geojson -m 20191101 -p 76 -s 20191002 -t templateA76_1month_All.yml\n",
      "7 prep_topsApp_local -i query.geojson -m 20191002 -p 76 -s 20190902 -t templateA76_1month_All.yml\n",
      "8 prep_topsApp_local -i query.geojson -m 20190902 -p 76 -s 20190803 -t templateA76_1month_All.yml\n",
      "9 prep_topsApp_local -i query.geojson -m 20190803 -p 76 -s 20190704 -t templateA76_1month_All.yml\n",
      "10 prep_topsApp_local -i query.geojson -m 20190704 -p 76 -s 20190604 -t templateA76_1month_All.yml\n",
      "11 prep_topsApp_local -i query.geojson -m 20190604 -p 76 -s 20190505 -t templateA76_1month_All.yml\n",
      "12 prep_topsApp_local -i query.geojson -m 20190505 -p 76 -s 20190405 -t templateA76_1month_All.yml\n",
      "13 prep_topsApp_local -i query.geojson -m 20190405 -p 76 -s 20190306 -t templateA76_1month_All.yml\n",
      "14 prep_topsApp_local -i query.geojson -m 20190306 -p 76 -s 20190210 -t templateA76_1month_All.yml\n",
      "15 prep_topsApp_local -i query.geojson -m 20190210 -p 76 -s 20190105 -t templateA76_1month_All.yml\n",
      "16 prep_topsApp_local -i query.geojson -m 20190105 -p 76 -s 20181206 -t templateA76_1month_All.yml\n",
      "17 prep_topsApp_local -i query.geojson -m 20181206 -p 76 -s 20181106 -t templateA76_1month_All.yml\n",
      "18 prep_topsApp_local -i query.geojson -m 20181106 -p 76 -s 20181001 -t templateA76_1month_All.yml\n",
      "19 prep_topsApp_local -i query.geojson -m 20181001 -p 76 -s 20180907 -t templateA76_1month_All.yml\n",
      "20 prep_topsApp_local -i query.geojson -m 20180907 -p 76 -s 20180802 -t templateA76_1month_All.yml\n",
      "21 prep_topsApp_local -i query.geojson -m 20180802 -p 76 -s 20180703 -t templateA76_1month_All.yml\n",
      "22 prep_topsApp_local -i query.geojson -m 20180703 -p 76 -s 20180603 -t templateA76_1month_All.yml\n",
      "23 prep_topsApp_local -i query.geojson -m 20180603 -p 76 -s 20180504 -t templateA76_1month_All.yml\n",
      "24 prep_topsApp_local -i query.geojson -m 20180504 -p 76 -s 20180404 -t templateA76_1month_All.yml\n",
      "25 prep_topsApp_local -i query.geojson -m 20180404 -p 76 -s 20180305 -t templateA76_1month_All.yml\n",
      "26 prep_topsApp_local -i query.geojson -m 20180305 -p 76 -s 20180209 -t templateA76_1month_All.yml\n",
      "27 prep_topsApp_local -i query.geojson -m 20180209 -p 76 -s 20180104 -t templateA76_1month_All.yml\n",
      "28 prep_topsApp_local -i query.geojson -m 20180104 -p 76 -s 20171211 -t templateA76_1month_All.yml\n",
      "29 prep_topsApp_local -i query.geojson -m 20171211 -p 76 -s 20171105 -t templateA76_1month_All.yml\n",
      "30 prep_topsApp_local -i query.geojson -m 20171105 -p 76 -s 20171012 -t templateA76_1month_All.yml\n",
      "31 prep_topsApp_local -i query.geojson -m 20171012 -p 76 -s 20170906 -t templateA76_1month_All.yml\n",
      "32 prep_topsApp_local -i query.geojson -m 20170906 -p 76 -s 20170801 -t templateA76_1month_All.yml\n",
      "33 prep_topsApp_local -i query.geojson -m 20170801 -p 76 -s 20170708 -t templateA76_1month_All.yml\n",
      "34 prep_topsApp_local -i query.geojson -m 20170708 -p 76 -s 20170602 -t templateA76_1month_All.yml\n",
      "35 prep_topsApp_local -i query.geojson -m 20170602 -p 76 -s 20170509 -t templateA76_1month_All.yml\n",
      "36 prep_topsApp_local -i query.geojson -m 20170509 -p 76 -s 20170415 -t templateA76_1month_All.yml\n",
      "37 prep_topsApp_local -i query.geojson -m 20170415 -p 76 -s 20170304 -t templateA76_1month_All.yml\n",
      "38 prep_topsApp_local -i query.geojson -m 20170304 -p 76 -s 20170214 -t templateA76_1month_All.yml\n",
      "39 prep_topsApp_local -i query.geojson -m 20170214 -p 76 -s 20170115 -t templateA76_1month_All.yml\n",
      "40 prep_topsApp_local -i query.geojson -m 20170115 -p 76 -s 20161204 -t templateA76_1month_All.yml\n",
      "41 prep_topsApp_local -i query.geojson -m 20161204 -p 76 -s 20161104 -t templateA76_1month_All.yml\n",
      "42 prep_topsApp_local -i query.geojson -m 20161104 -p 76 -s 20161011 -t templateA76_1month_All.yml\n",
      "43 prep_topsApp_local -i query.geojson -m 20161011 -p 76 -s 20160917 -t templateA76_1month_All.yml\n",
      "44 prep_topsApp_local -i query.geojson -m 20160917 -p 76 -s 20160824 -t templateA76_1month_All.yml\n",
      "45 prep_topsApp_local -i query.geojson -m 20160824 -p 76 -s 20160707 -t templateA76_1month_All.yml\n",
      "46 prep_topsApp_local -i query.geojson -m 20160707 -p 76 -s 20160613 -t templateA76_1month_All.yml\n",
      "47 prep_topsApp_local -i query.geojson -m 20160613 -p 76 -s 20160520 -t templateA76_1month_All.yml\n",
      "48 prep_topsApp_local -i query.geojson -m 20160520 -p 76 -s 20160402 -t templateA76_1month_All.yml\n",
      "49 prep_topsApp_local -i query.geojson -m 20160402 -p 76 -s 20160309 -t templateA76_1month_All.yml\n",
      "50 prep_topsApp_local -i query.geojson -m 20160309 -p 76 -s 20160214 -t templateA76_1month_All.yml\n",
      "51 prep_topsApp_local -i query.geojson -m 20160214 -p 76 -s 20160121 -t templateA76_1month_All.yml\n",
      "52 prep_topsApp_local -i query.geojson -m 20160121 -p 76 -s 20151228 -t templateA76_1month_All.yml\n",
      "53 prep_topsApp_local -i query.geojson -m 20151228 -p 76 -s 20151110 -t templateA76_1month_All.yml\n",
      "54 prep_topsApp_local -i query.geojson -m 20151110 -p 76 -s 20151017 -t templateA76_1month_All.yml\n",
      "55 prep_topsApp_local -i query.geojson -m 20151017 -p 76 -s 20150923 -t templateA76_1month_All.yml\n",
      "56 prep_topsApp_local -i query.geojson -m 20150923 -p 76 -s 20150806 -t templateA76_1month_All.yml\n",
      "57 prep_topsApp_local -i query.geojson -m 20150806 -p 76 -s 20150713 -t templateA76_1month_All.yml\n",
      "58 prep_topsApp_local -i query.geojson -m 20150713 -p 76 -s 20150619 -t templateA76_1month_All.yml\n",
      "59 prep_topsApp_local -i query.geojson -m 20150619 -p 76 -s 20150502 -t templateA76_1month_All.yml\n",
      "60 prep_topsApp_local -i query.geojson -m 20150502 -p 76 -s 20150408 -t templateA76_1month_All.yml\n",
      "61 prep_topsApp_local -i query.geojson -m 20150408 -p 76 -s 20150315 -t templateA76_1month_All.yml\n",
      "62 prep_topsApp_local -i query.geojson -m 20150315 -p 76 -s 20150207 -t templateA76_1month_All.yml\n",
      "63 prep_topsApp_local -i query.geojson -m 20150207 -p 76 -s 20150114 -t templateA76_1month_All.yml\n",
      "64 prep_topsApp_local -i query.geojson -m 20150114 -p 76 -s 20141221 -t templateA76_1month_All.yml\n",
      "65 prep_topsApp_local -i query.geojson -m 20141221 -p 76 -s 20141103 -t templateA76_1month_All.yml\n"
     ]
    }
   ],
   "source": [
    "script = 'prep_topsApp_local'\n",
    "for i,p in enumerate(pairs):\n",
    "    intname = os.path.basename(p)\n",
    "    junk,master,slave=intname.split('-')\n",
    "    intdir = f'int-{master}-{slave}'\n",
    "    cmd = f'{script} -i query.geojson -m {master} -p {track} -s {slave} -t {template}'\n",
    "    print(i, cmd)\n",
    "    subprocess.call(cmd, shell=True) # runs the command to make processing directories on the local system  "
   ]
  },
  {
   "cell_type": "markdown",
   "metadata": {},
   "source": [
    "Now we should have a processing directory for each interferogram in this directory.  Each processing directory should have two files:\n",
    "* topsApp.xml  = input file for ISCE processing\n",
    "* download-links.txt = text file with the links to download all the data we'll need for processing\n",
    "\n",
    "Now we push all those directories to the S3 cloud storage on AWS:"
   ]
  },
  {
   "cell_type": "code",
   "execution_count": null,
   "metadata": {},
   "outputs": [],
   "source": [
    "# Move these to cloud storage\n",
    "# Push folder of text files to S3\n",
    "for i,p in enumerate(pairs):\n",
    "    intname = os.path.basename(p)\n",
    "    junk,master,slave=intname.split('-')\n",
    "    intdir = f'int-{master}-{slave}'\n",
    "    cmd = f'aws s3 sync {intdir}/ {bucket}/{intdir}/'\n",
    "    print(cmd)\n",
    "    subprocess.call(cmd, shell=True)\n",
    "\n",
    "print(f'Moved files to {bucket}')"
   ]
  },
  {
   "cell_type": "markdown",
   "metadata": {},
   "source": [
    "## 2.4: Launch Processing on AWS (WARNING: can consume lots of AWS resources!!)\n",
    "Now that we have all the files we need for processing on the AWS servers, we can start processing!  Don't run these cells until you're *SURE* you've got the interferograms you want!"
   ]
  },
  {
   "cell_type": "code",
   "execution_count": null,
   "metadata": {},
   "outputs": [],
   "source": [
    "# Enter your NASA URS password to download SLCs\n",
    "nasauser = 'pmacqueen' # NASA EarthData username\n",
    "nasapass = getpass.getpass() # NASA EarthData password (will create an interactive textbox)"
   ]
  },
  {
   "cell_type": "code",
   "execution_count": null,
   "metadata": {},
   "outputs": [],
   "source": [
    "# don't change these:\n",
    "demDir = 's3://dinosar/processing/uturuncu/dem' #where the DEM is stored on AWS\n",
    "jobdef = 'uturuncu-array' # sets certain parameters on AWS\n",
    "jobqueue = 'uturuncu-queue' # sets certain parameters on AWS\n",
    "array_size = len(pairs)\n",
    "\n",
    "\n",
    "# NOTE: job-name, job-queue, and job-definition are JSON files that I've created for AWS Batch\n",
    "# The specify type of computers to use, etc\n",
    "cmd = f\"aws batch submit-job \\\n",
    "--job-name {jobname} \\\n",
    "--job-queue {jobqueue} \\\n",
    "--job-definition {jobdef} \\\n",
    "--array-properties size={array_size} \\\n",
    "--parameters 'S3_PAIRS={bucket}/{pairsFile},S3_DEM={demDir}' \\\n",
    "--container-overrides 'environment=[{{name=NASAUSER,value={nasauser}}},{{name=NASAPASS,value={nasapass}}}]' \\\n",
    "\"\n",
    "\n",
    "# WARNING: this prints your password as plain text, careful not to push to github\n",
    "# If you run the command in terminal sometimes the error messages are more helpful\n",
    "#print(cmd) # uncomment to print the command for debugging purposes."
   ]
  },
  {
   "cell_type": "code",
   "execution_count": null,
   "metadata": {},
   "outputs": [],
   "source": [
    "# Run this cell to start processing!\n",
    "aws_batchout = subprocess.check_output(cmd, shell=True) # runs the AWS command to start the batch job\n",
    "aws_batchout # prints out the job-id - make a note of the job id for finding the logs later!\n"
   ]
  },
  {
   "cell_type": "code",
   "execution_count": null,
   "metadata": {},
   "outputs": [],
   "source": [
    "# Write a text file with a summary of this job for reference later\n",
    "sumfilename = 'summary_' + jobname + '.txt'\n",
    "\n",
    "with open(sumfilename, 'w') as sf:\n",
    "    sf.write('track = '+ str(track) + '\\n')\n",
    "    sf.write('template file = '+ template + '\\n')\n",
    "    sf.write('S3 Bucket Name = ' + dirname + '\\n')\n",
    "    sf.write('Job Name = ' + jobname)\n",
    "    sf.write('Job Name and Job ID on AWS = ' + aws_batchout)"
   ]
  },
  {
   "cell_type": "markdown",
   "metadata": {},
   "source": [
    "## 2.5: Wait for the jobs to finish!\n",
    "\n",
    "* The end products will be in \"s3://dinosar/results/uturuncu/(dirname)/(int_dir)/merged\"\n",
    "* Check the file \"summary_(jobname).txt\" for a summary of the processing parameters you set in this script\n",
    "* You can monitor jobs here: https://us-west-2.console.aws.amazon.com/batch/home?region=us-west-2#/jobs/queue/arn:aws:batch:us-west-2:783380859522:job-queue~2Futuruncu-queue?state=PENDING\n",
    "* After 24 hours, you'll have to look up your job here using the job id: https://us-west-2.console.aws.amazon.com/cloudwatch/home?region=us-west-2#logStream:group=/aws/batch/job;streamFilter=typeLogStreamPrefix"
   ]
  }
 ],
 "metadata": {
  "kernelspec": {
   "display_name": "Python 3",
   "language": "python",
   "name": "python3"
  },
  "language_info": {
   "codemirror_mode": {
    "name": "ipython",
    "version": 3
   },
   "file_extension": ".py",
   "mimetype": "text/x-python",
   "name": "python",
   "nbconvert_exporter": "python",
   "pygments_lexer": "ipython3",
   "version": "3.8.2"
  }
 },
 "nbformat": 4,
 "nbformat_minor": 4
}

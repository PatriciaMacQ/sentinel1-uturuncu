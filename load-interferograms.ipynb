{
 "cells": [
  {
   "cell_type": "code",
   "execution_count": null,
   "metadata": {},
   "outputs": [],
   "source": [
    "# Read interferograms directly from s3 location\n",
    "import s3fs\n",
    "import geoviews as gv\n",
    "import hvplot.xarray\n",
    "import xarray as xr\n",
    "import numpy as np\n",
    "import geopandas as gpd\n",
    "import hvplot.pandas\n"
   ]
  },
  {
   "cell_type": "code",
   "execution_count": null,
   "metadata": {},
   "outputs": [],
   "source": [
    "fs = s3fs.S3FileSystem()\n",
    "folders = fs.ls('uturuncu-insar')"
   ]
  },
  {
   "cell_type": "code",
   "execution_count": null,
   "metadata": {},
   "outputs": [],
   "source": [
    "folders"
   ]
  },
  {
   "cell_type": "code",
   "execution_count": null,
   "metadata": {},
   "outputs": [],
   "source": [
    "# Full directory listing (NOTE A76 missing geocoded files!) \n",
    "# NOTE: not updated if files synced to S3. Need to restart FileSystem (or clear cache somehow...)\n",
    "#fs.ls('uturuncu-insar/2019-09/A76/int-17952-29023/merged')\n",
    "fs.ls('uturuncu-insar/2019-09/D83/int-17959-18134/merged/')"
   ]
  },
  {
   "cell_type": "code",
   "execution_count": null,
   "metadata": {},
   "outputs": [],
   "source": [
    "# Open an image with xarray\n",
    "xr.__version__"
   ]
  },
  {
   "cell_type": "code",
   "execution_count": null,
   "metadata": {},
   "outputs": [],
   "source": [
    "# Only metadata is read here, which is why it is fast.\n",
    "# Still, all data on disk is stored as a single chunk\n",
    "xr.set_options(display_style='html')\n",
    "da = xr.open_rasterio('s3://uturuncu-insar/2019-09/A76/int-17952-29023/merged/filt_topophase.unw.geo')\n",
    "print(f'Image size = {da.nbytes / 1e9} Gb')\n",
    "da"
   ]
  },
  {
   "cell_type": "code",
   "execution_count": null,
   "metadata": {},
   "outputs": [],
   "source": [
    "# It makes more sense to treat bands as separate data variables in an xarray dataset:\n",
    "da = xr.open_rasterio('s3://uturuncu-insar/2019-09/A76/int-17952-29023/merged/filt_topophase.unw.geo', chunks=dict(band=1,x=12723,y=13440))\n",
    "da['band'] = ['amplitude','phase']\n",
    "ds = da.to_dataset(dim='band')\n",
    "ds"
   ]
  },
  {
   "cell_type": "code",
   "execution_count": null,
   "metadata": {},
   "outputs": [],
   "source": [
    "# We can pull an entire 683 Mb array into memory to work with it,,, hanging.\n",
    "# NOTE: probably need to explicity launch either a local cluster or kubernetes cluster first\n",
    "#import hvplot.xarray\n",
    "#dsp = ds['phase']\n",
    "#dsp"
   ]
  },
  {
   "cell_type": "code",
   "execution_count": null,
   "metadata": {},
   "outputs": [],
   "source": [
    "# Load a downsampled file:\n",
    "s3Path = 's3://uturuncu-insar/2019-09/D83/int-17959-18134/merged/filt_topophase.unw.8alks_8rlks.geo'\n",
    "da = xr.open_rasterio(s3Path)#, chunks=dict(band=1,x=-1,y=-1)) #don't load as dask array since its small\n",
    "da['band'] = ['amplitude','phase']\n",
    "ds = da.to_dataset(dim='band')\n",
    "ds"
   ]
  },
  {
   "cell_type": "code",
   "execution_count": null,
   "metadata": {},
   "outputs": [],
   "source": [
    "# Mark nans, logz \n",
    "amp = ds['amplitude']\n",
    "amp = amp.where(amp != 0)"
   ]
  },
  {
   "cell_type": "code",
   "execution_count": null,
   "metadata": {},
   "outputs": [],
   "source": [
    "type(amp.data)"
   ]
  },
  {
   "cell_type": "code",
   "execution_count": null,
   "metadata": {},
   "outputs": [],
   "source": [
    "img = amp.hvplot.image(geo=True, logz=True, cmap='gray', frame_width=500)\n",
    "utur = gv.Points([(-67.18, -22.27)]).opts(line_color='r', fill_color=None, marker='^', size=10)\n",
    "img * utur"
   ]
  },
  {
   "cell_type": "code",
   "execution_count": null,
   "metadata": {},
   "outputs": [],
   "source": [
    "# Plot the wrapped phase\n",
    "# Mark nans, logz \n",
    "phs = ds['phase']\n",
    "phs = phs.where(phs != 0)"
   ]
  },
  {
   "cell_type": "code",
   "execution_count": null,
   "metadata": {},
   "outputs": [],
   "source": [
    "# Unwrapped phase plot\n",
    "phs.hvplot.image(geo=True, cmap='bwr', frame_width=500)"
   ]
  },
  {
   "cell_type": "code",
   "execution_count": null,
   "metadata": {},
   "outputs": [],
   "source": [
    "def rewrap(da, wrapRate=6.28):\n",
    "    func = lambda x: np.remainder(x, wrapRate) / wrapRate\n",
    "    return xr.apply_ufunc(func, da)\n"
   ]
  },
  {
   "cell_type": "code",
   "execution_count": null,
   "metadata": {},
   "outputs": [],
   "source": [
    "phs_wrapped = rewrap(phs)"
   ]
  },
  {
   "cell_type": "code",
   "execution_count": null,
   "metadata": {},
   "outputs": [],
   "source": [
    "img = phs_wrapped.hvplot.image(geo=True, cmap='hsv', frame_width=500)\n",
    "img"
   ]
  },
  {
   "cell_type": "code",
   "execution_count": null,
   "metadata": {},
   "outputs": [],
   "source": [
    "# Plot on basemap with other features\n",
    "\n",
    "gf = gpd.read_file('apmb.geojson')\n",
    "# Put these on a map\n",
    "S,N,W,E = [-25, -20, -72, -65]\n",
    "tiles = gv.tile_sources.StamenTerrainRetina.options(width=700, height=500).redim.range(Latitude=(S, N), Longitude=(W, E)) \n",
    "aoi = gf.hvplot(geo=True, fill_color=None, line_color='orange', hover=False)\n",
    "utur = gv.Points([(-67.18, -22.27)]).opts(color='r', marker='^', size=10)\n",
    "\n",
    "# Muted alpha not an option here... need to add a checkboc \n",
    "img = phs_wrapped.hvplot.image(geo=True, alpha=0.5, cmap='hsv', frame_width=500, colorbar=False, legend=True)\n",
    "\n",
    "tiles * img * aoi * utur "
   ]
  },
  {
   "cell_type": "code",
   "execution_count": null,
   "metadata": {},
   "outputs": [],
   "source": []
  }
 ],
 "metadata": {
  "kernelspec": {
   "display_name": "Python 3",
   "language": "python",
   "name": "python3"
  },
  "language_info": {
   "codemirror_mode": {
    "name": "ipython",
    "version": 3
   },
   "file_extension": ".py",
   "mimetype": "text/x-python",
   "name": "python",
   "nbconvert_exporter": "python",
   "pygments_lexer": "ipython3",
   "version": "3.7.3"
  }
 },
 "nbformat": 4,
 "nbformat_minor": 4
}

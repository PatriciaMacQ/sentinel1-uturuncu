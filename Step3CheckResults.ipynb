{
 "cells": [
  {
   "cell_type": "markdown",
   "metadata": {},
   "source": [
    "# Step 3: Evaluate processed interferograms\n",
    "\n",
    "This notebook:\n",
    "1. Loads the S3 file system\n",
    "2. Does a quick overview of success/fail for processing, and grabs error logs\n",
    "3. Loops through succesful interferograms and records evaluation info for each"
   ]
  },
  {
   "cell_type": "markdown",
   "metadata": {},
   "source": [
    "## 3.1 Import Python packages"
   ]
  },
  {
   "cell_type": "code",
   "execution_count": null,
   "metadata": {},
   "outputs": [],
   "source": [
    "import s3fs\n",
    "import geoviews as gv\n",
    "import hvplot.xarray\n",
    "import xarray as xr\n",
    "import numpy as np\n",
    "import geopandas as gpd\n",
    "import hvplot.pandas"
   ]
  },
  {
   "cell_type": "markdown",
   "metadata": {},
   "source": [
    "## 3.2 Load the S3 file system\n",
    "This step loads the S3 bucket as thought it were a file system on the local computer, using credentials in the Jupyter Hub (I think?)\n",
    "\n",
    "You'll need the following from Step 2 (or the summary TXT file):\n",
    "* AWS bucket name(\"dirname\")"
   ]
  },
  {
   "cell_type": "code",
   "execution_count": null,
   "metadata": {},
   "outputs": [],
   "source": [
    "dirname = 'A76-1month-All-TEST' #name of the folder on AWS where your results/processing files will be\n",
    "# set full path to buckets on S3\n",
    "proc_bucket = 's3://dinosar/processing/uturuncu/' + dirname\n",
    "res_bucket = 's3://dinosar/results/uturuncu/' + dirname\n",
    "# ANY OTHER PARAMETERS NEEDED FOR GRABBING THE LOG FILES, ETC"
   ]
  },
  {
   "cell_type": "code",
   "execution_count": null,
   "metadata": {},
   "outputs": [],
   "source": [
    "fs = s3fs.S3FileSystem() #load the file system\n",
    "proc_folders = fs.ls(proc_bucket) \n",
    "res_folders = fs.ls(res_bucket) "
   ]
  },
  {
   "cell_type": "markdown",
   "metadata": {},
   "source": [
    "## 3.3 Check which interferograms succeeded or failed\n",
    "\n",
    "### 3.3.1 Check to see which interferograms succeeded:"
   ]
  },
  {
   "cell_type": "code",
   "execution_count": null,
   "metadata": {},
   "outputs": [],
   "source": [
    "#Compare number of processing to results directories\n",
    "num_pass = len(res_folders)\n",
    "num_pass"
   ]
  },
  {
   "cell_type": "code",
   "execution_count": null,
   "metadata": {},
   "outputs": [],
   "source": [
    "num_fail = len(proc_folders)-num_pass\n",
    "num_fail #this seems to be one off?"
   ]
  },
  {
   "cell_type": "markdown",
   "metadata": {},
   "source": [
    "### 3.3.2 Grab logs/error outputs for failed interferograms"
   ]
  },
  {
   "cell_type": "code",
   "execution_count": null,
   "metadata": {},
   "outputs": [],
   "source": [
    "# SOME SORT OF NIFTY CODE THAT RECREATES ELIZABETH'S AWESOME TABLE IN A PANDAS ARRAY THING"
   ]
  },
  {
   "cell_type": "markdown",
   "metadata": {},
   "source": [
    "### 3.3.3 Print a report"
   ]
  },
  {
   "cell_type": "code",
   "execution_count": null,
   "metadata": {},
   "outputs": [],
   "source": [
    "# print a basic text file with only the error text?  Or just which failed and which succeeded, with links."
   ]
  },
  {
   "cell_type": "markdown",
   "metadata": {},
   "source": [
    "## 3.4 Load and evaluate successful interferograms"
   ]
  },
  {
   "cell_type": "markdown",
   "metadata": {},
   "source": [
    "Loop through successful interferograms, view and plot them, and record notes in a file for later reference."
   ]
  },
  {
   "cell_type": "markdown",
   "metadata": {},
   "source": [
    "(Eventually this should be a loop of some sort, but for now I'm putting in the code to just view 1 interferogram.)"
   ]
  },
  {
   "cell_type": "code",
   "execution_count": null,
   "metadata": {},
   "outputs": [],
   "source": [
    "# print out successful ints\n",
    "res_folders"
   ]
  },
  {
   "cell_type": "code",
   "execution_count": null,
   "metadata": {},
   "outputs": [],
   "source": [
    "# load an unwrapped, geocoded interferogram\n",
    "\n",
    "#Set the int to evaluate (hopefully this can be replaced with a nifty loop?)\n",
    "evalint = 'int-20170602-20170509'\n",
    "\n",
    "\n",
    "s3Path = res_bucket + '/' + evalint + '/filt_topophase.unw.geo' #set the path\n",
    "da = xr.open_rasterio(s3Path)#load the interferogram\n",
    "da['band'] = ['amplitude','phase'] # set amplitude and phase as bands\n",
    "ds = da.to_dataset(dim='band')\n",
    "\n",
    "amp=ds['amplitude']\n",
    "phs=ds['phase']"
   ]
  },
  {
   "cell_type": "code",
   "execution_count": null,
   "metadata": {},
   "outputs": [],
   "source": [
    "# Deal with nans in the data.  Can be slow.\n",
    "amp = amp.where(amp != 0)"
   ]
  },
  {
   "cell_type": "code",
   "execution_count": null,
   "metadata": {},
   "outputs": [],
   "source": [
    "phs = phs.where(phs != 0)"
   ]
  },
  {
   "cell_type": "code",
   "execution_count": null,
   "metadata": {},
   "outputs": [],
   "source": [
    "# plot the amplitude\n",
    "img = amp.hvplot.image(geo=True, rasterize=True, logz=True, cmap='gray', frame_width=500)\n",
    "utur = gv.Points([(-67.18, -22.27)]).opts(line_color='r', fill_color=None, marker='^', size=10)\n",
    "img * utur"
   ]
  },
  {
   "cell_type": "code",
   "execution_count": null,
   "metadata": {},
   "outputs": [],
   "source": [
    "# plot the unwrapped phase\n",
    "img = phs.hvplot.image(geo=True, rasterize=True, cmap='bwr', frame_width=500)\n",
    "img * utur"
   ]
  },
  {
   "cell_type": "code",
   "execution_count": null,
   "metadata": {},
   "outputs": [],
   "source": [
    "# Enter evaluation info on the int in some standardized format.  Suggested:\n",
    "# Unwrapping error present? (Y/N)\n",
    "# Unwrapping error present at target? (Y/N)\n",
    "# Burst alignment error present? (Y/N)\n",
    "# Burst alignment error present at target? (Y/N)\n",
    "# Signal of interest (e.g., an earthquake or something) (Y/N)\n",
    "# Comments (Free-form text entry)"
   ]
  }
 ],
 "metadata": {
  "kernelspec": {
   "display_name": "Python 3",
   "language": "python",
   "name": "python3"
  },
  "language_info": {
   "codemirror_mode": {
    "name": "ipython",
    "version": 3
   },
   "file_extension": ".py",
   "mimetype": "text/x-python",
   "name": "python",
   "nbconvert_exporter": "python",
   "pygments_lexer": "ipython3",
   "version": "3.7.6"
  }
 },
 "nbformat": 4,
 "nbformat_minor": 4
}

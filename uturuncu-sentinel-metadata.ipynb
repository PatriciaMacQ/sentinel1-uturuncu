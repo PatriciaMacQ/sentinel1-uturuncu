{
 "cells": [
  {
   "cell_type": "markdown",
   "metadata": {},
   "source": [
    "# Explore Sentinel-1 Archive for Uturuncu Batch Processing"
   ]
  },
  {
   "cell_type": "code",
   "execution_count": 21,
   "metadata": {},
   "outputs": [],
   "source": [
    "import geopandas as gpd\n",
    "import pandas as pd\n",
    "import geoviews as gv\n",
    "import hvplot.pandas"
   ]
  },
  {
   "cell_type": "code",
   "execution_count": 26,
   "metadata": {},
   "outputs": [
    {
     "name": "stdout",
     "output_type": "stream",
     "text": [
      "Collecting git+https://github.com/scottyhq/dinosar.git@master\n",
      "  Cloning https://github.com/scottyhq/dinosar.git (to revision master) to /tmp/pip-req-build-kuvta9en\n",
      "  Running command git clone -q https://github.com/scottyhq/dinosar.git /tmp/pip-req-build-kuvta9en\n",
      "  Installing build dependencies ... \u001b[?25ldone\n",
      "\u001b[?25h  Getting requirements to build wheel ... \u001b[?25ldone\n",
      "\u001b[?25h    Preparing wheel metadata ... \u001b[?25ldone\n",
      "\u001b[?25hRequirement already satisfied: requests<3.0,>=2.22 in /srv/conda/envs/notebook/lib/python3.8/site-packages (from dinosar==0.0.0) (2.23.0)\n",
      "Requirement already satisfied: matplotlib<4.0,>=3.1 in /srv/conda/envs/notebook/lib/python3.8/site-packages (from dinosar==0.0.0) (3.2.1)\n",
      "Requirement already satisfied: shapely<2.0,>=1.6 in /srv/conda/envs/notebook/lib/python3.8/site-packages (from dinosar==0.0.0) (1.7.0)\n",
      "Requirement already satisfied: pyyaml<6.0,>=5.2 in /srv/conda/envs/notebook/lib/python3.8/site-packages (from dinosar==0.0.0) (5.3.1)\n",
      "Requirement already satisfied: pandas<2.0,>=1.0 in /srv/conda/envs/notebook/lib/python3.8/site-packages (from dinosar==0.0.0) (1.0.3)\n",
      "Requirement already satisfied: geopandas<0.8,>=0.7 in /srv/conda/envs/notebook/lib/python3.8/site-packages (from dinosar==0.0.0) (0.7.0)\n",
      "Requirement already satisfied: lxml<5.0,>=4.4 in /srv/conda/envs/notebook/lib/python3.8/site-packages (from dinosar==0.0.0) (4.5.0)\n",
      "Requirement already satisfied: idna<3,>=2.5 in /srv/conda/envs/notebook/lib/python3.8/site-packages (from requests<3.0,>=2.22->dinosar==0.0.0) (2.9)\n",
      "Requirement already satisfied: chardet<4,>=3.0.2 in /srv/conda/envs/notebook/lib/python3.8/site-packages (from requests<3.0,>=2.22->dinosar==0.0.0) (3.0.4)\n",
      "Requirement already satisfied: urllib3!=1.25.0,!=1.25.1,<1.26,>=1.21.1 in /srv/conda/envs/notebook/lib/python3.8/site-packages (from requests<3.0,>=2.22->dinosar==0.0.0) (1.25.7)\n",
      "Requirement already satisfied: certifi>=2017.4.17 in /srv/conda/envs/notebook/lib/python3.8/site-packages (from requests<3.0,>=2.22->dinosar==0.0.0) (2020.4.5.1)\n",
      "Requirement already satisfied: kiwisolver>=1.0.1 in /srv/conda/envs/notebook/lib/python3.8/site-packages (from matplotlib<4.0,>=3.1->dinosar==0.0.0) (1.2.0)\n",
      "Requirement already satisfied: cycler>=0.10 in /srv/conda/envs/notebook/lib/python3.8/site-packages (from matplotlib<4.0,>=3.1->dinosar==0.0.0) (0.10.0)\n",
      "Requirement already satisfied: numpy>=1.11 in /srv/conda/envs/notebook/lib/python3.8/site-packages (from matplotlib<4.0,>=3.1->dinosar==0.0.0) (1.18.1)\n",
      "Requirement already satisfied: python-dateutil>=2.1 in /srv/conda/envs/notebook/lib/python3.8/site-packages (from matplotlib<4.0,>=3.1->dinosar==0.0.0) (2.7.5)\n",
      "Requirement already satisfied: pyparsing!=2.0.4,!=2.1.2,!=2.1.6,>=2.0.1 in /srv/conda/envs/notebook/lib/python3.8/site-packages (from matplotlib<4.0,>=3.1->dinosar==0.0.0) (2.4.7)\n",
      "Requirement already satisfied: pytz>=2017.2 in /srv/conda/envs/notebook/lib/python3.8/site-packages (from pandas<2.0,>=1.0->dinosar==0.0.0) (2019.3)\n",
      "Requirement already satisfied: pyproj>=2.2.0 in /srv/conda/envs/notebook/lib/python3.8/site-packages (from geopandas<0.8,>=0.7->dinosar==0.0.0) (2.6.0)\n",
      "Requirement already satisfied: fiona in /srv/conda/envs/notebook/lib/python3.8/site-packages (from geopandas<0.8,>=0.7->dinosar==0.0.0) (1.8.13)\n",
      "Requirement already satisfied: six in /srv/conda/envs/notebook/lib/python3.8/site-packages (from cycler>=0.10->matplotlib<4.0,>=3.1->dinosar==0.0.0) (1.14.0)\n",
      "Requirement already satisfied: attrs>=17 in /srv/conda/envs/notebook/lib/python3.8/site-packages (from fiona->geopandas<0.8,>=0.7->dinosar==0.0.0) (19.3.0)\n",
      "Requirement already satisfied: click<8,>=4.0 in /srv/conda/envs/notebook/lib/python3.8/site-packages (from fiona->geopandas<0.8,>=0.7->dinosar==0.0.0) (7.1.1)\n",
      "Requirement already satisfied: cligj>=0.5 in /srv/conda/envs/notebook/lib/python3.8/site-packages (from fiona->geopandas<0.8,>=0.7->dinosar==0.0.0) (0.5.0)\n",
      "Requirement already satisfied: click-plugins>=1.0 in /srv/conda/envs/notebook/lib/python3.8/site-packages (from fiona->geopandas<0.8,>=0.7->dinosar==0.0.0) (1.1.1)\n",
      "Requirement already satisfied: munch in /srv/conda/envs/notebook/lib/python3.8/site-packages (from fiona->geopandas<0.8,>=0.7->dinosar==0.0.0) (2.5.0)\n",
      "Building wheels for collected packages: dinosar\n",
      "  Building wheel for dinosar (PEP 517) ... \u001b[?25ldone\n",
      "\u001b[?25h  Created wheel for dinosar: filename=dinosar-0.0.0-py3-none-any.whl size=20268 sha256=642f01858025816f17cc23def9ad651cd339709b5dbdadb24ee270da213b699b\n",
      "  Stored in directory: /tmp/pip-ephem-wheel-cache-rdos_btp/wheels/92/b0/87/750fc305aa2cac58744b55287e227c6fbf08fb234cb46ca2da\n",
      "Successfully built dinosar\n",
      "Installing collected packages: dinosar\n",
      "Successfully installed dinosar-0.0.0\n"
     ]
    }
   ],
   "source": [
    "# if dinosar library not in base environment uncomment below (run just once)\n",
    "!pip install --no-cache git+https://github.com/scottyhq/dinosar.git@master"
   ]
  },
  {
   "cell_type": "code",
   "execution_count": 24,
   "metadata": {},
   "outputs": [
    {
     "data": {
      "text/plain": [
       "'0.0.0'"
      ]
     },
     "execution_count": 24,
     "metadata": {},
     "output_type": "execute_result"
    }
   ],
   "source": [
    "import dinosar\n",
    "from importlib.metadata import version\n",
    "version('dinosar')"
   ]
  },
  {
   "cell_type": "code",
   "execution_count": 8,
   "metadata": {},
   "outputs": [
    {
     "data": {
      "text/plain": [
       "[-23.68699916256815,\n",
       " -21.29081519506481,\n",
       " -68.46349117379683,\n",
       " -65.27091018760244]"
      ]
     },
     "execution_count": 8,
     "metadata": {},
     "output_type": "execute_result"
    }
   ],
   "source": [
    "gf = gpd.read_file('apmb.geojson')\n",
    "snwe = dinosar.archive.asf.ogr2snwe('apmb.geojson')\n",
    "snwe"
   ]
  },
  {
   "cell_type": "code",
   "execution_count": 9,
   "metadata": {},
   "outputs": [
    {
     "name": "stderr",
     "output_type": "stream",
     "text": [
      "WARNING:param.GeoOverlayPlot02961: title_format is deprecated. Please use title instead\n",
      "WARNING:param.GeoOverlayPlot02961: title_format is deprecated. Please use title instead\n"
     ]
    },
    {
     "data": {},
     "metadata": {},
     "output_type": "display_data"
    },
    {
     "data": {
      "application/vnd.holoviews_exec.v0+json": "",
      "text/html": [
       "<div id='1003'>\n",
       "\n",
       "\n",
       "\n",
       "\n",
       "\n",
       "  <div class=\"bk-root\" id=\"840e9e60-b987-4435-8441-2bb9e947ae6f\" data-root-id=\"1003\"></div>\n",
       "</div>\n",
       "<script type=\"application/javascript\">(function(root) {\n",
       "  function embed_document(root) {\n",
       "  var docs_json = {\"327b6f47-e8c3-4454-ba75-c0ece24d2144\":{\"roots\":{\"references\":[{\"attributes\":{\"bottom_units\":\"screen\",\"fill_alpha\":0.5,\"fill_color\":\"lightgrey\",\"left_units\":\"screen\",\"level\":\"overlay\",\"line_alpha\":1.0,\"line_color\":\"black\",\"line_dash\":[4,4],\"line_width\":2,\"render_mode\":\"css\",\"right_units\":\"screen\",\"top_units\":\"screen\"},\"id\":\"1043\",\"type\":\"BoxAnnotation\"},{\"attributes\":{},\"id\":\"1030\",\"type\":\"LinearScale\"},{\"attributes\":{},\"id\":\"1042\",\"type\":\"ResetTool\"},{\"attributes\":{\"match_aspect\":true,\"overlay\":{\"id\":\"1043\"}},\"id\":\"1016\",\"type\":\"BoxZoomTool\"},{\"attributes\":{\"end\":-2273031.045451419,\"min_interval\":5,\"reset_end\":-2273031.045451419,\"reset_start\":-2875744.5015247753,\"start\":-2875744.5015247753,\"tags\":[[[\"Latitude\",\"Latitude\",null]]]},\"id\":\"1014\",\"type\":\"Range1d\"},{\"attributes\":{\"dimension\":\"lon\"},\"id\":\"1052\",\"type\":\"MercatorTicker\"},{\"attributes\":{\"dimension\":\"lat\"},\"id\":\"1054\",\"type\":\"MercatorTicker\"},{\"attributes\":{\"fill_alpha\":{\"value\":0.2},\"fill_color\":{\"value\":\"#ff0000\"},\"line_alpha\":{\"value\":0.2},\"line_color\":{\"value\":\"#ff0000\"},\"marker\":{\"value\":\"triangle\"},\"size\":{\"units\":\"screen\",\"value\":10},\"x\":{\"field\":\"x\"},\"y\":{\"field\":\"y\"}},\"id\":\"1092\",\"type\":\"Scatter\"},{\"attributes\":{},\"id\":\"1028\",\"type\":\"LinearScale\"},{\"attributes\":{\"source\":{\"id\":\"1079\"}},\"id\":\"1086\",\"type\":\"CDSView\"},{\"attributes\":{\"source\":{\"id\":\"1087\"}},\"id\":\"1094\",\"type\":\"CDSView\"},{\"attributes\":{\"dimension\":\"lon\"},\"id\":\"1053\",\"type\":\"MercatorTickFormatter\"},{\"attributes\":{\"children\":[{\"id\":\"1004\"},{\"id\":\"1023\"},{\"id\":\"1143\"}],\"margin\":[0,0,0,0],\"name\":\"Row02907\",\"tags\":[\"embedded\"]},\"id\":\"1003\",\"type\":\"Row\"},{\"attributes\":{\"zoom_on_axis\":false},\"id\":\"1015\",\"type\":\"WheelZoomTool\"},{\"attributes\":{\"end\":-7203485.70008789,\"min_interval\":5,\"reset_end\":-7203485.70008789,\"reset_start\":-8047284.538590589,\"start\":-8047284.538590589,\"tags\":[[[\"Longitude\",\"Longitude\",null]]]},\"id\":\"1013\",\"type\":\"Range1d\"},{\"attributes\":{},\"id\":\"1096\",\"type\":\"UnionRenderers\"},{\"attributes\":{\"data_source\":{\"id\":\"1079\"},\"glyph\":{\"id\":\"1082\"},\"hover_glyph\":null,\"muted_glyph\":{\"id\":\"1084\"},\"nonselection_glyph\":{\"id\":\"1083\"},\"selection_glyph\":null,\"view\":{\"id\":\"1086\"}},\"id\":\"1085\",\"type\":\"GlyphRenderer\"},{\"attributes\":{\"axis_label\":\"Longitude\",\"bounds\":\"auto\",\"formatter\":{\"id\":\"1053\"},\"major_label_orientation\":\"horizontal\",\"ticker\":{\"id\":\"1052\"}},\"id\":\"1032\",\"type\":\"LinearAxis\"},{\"attributes\":{\"fill_color\":{\"value\":\"#ff0000\"},\"line_color\":{\"value\":\"#ff0000\"},\"marker\":{\"value\":\"triangle\"},\"size\":{\"units\":\"screen\",\"value\":10},\"x\":{\"field\":\"x\"},\"y\":{\"field\":\"y\"}},\"id\":\"1090\",\"type\":\"Scatter\"},{\"attributes\":{\"axis\":{\"id\":\"1032\"},\"grid_line_color\":null,\"ticker\":null},\"id\":\"1035\",\"type\":\"Grid\"},{\"attributes\":{\"data_source\":{\"id\":\"1087\"},\"glyph\":{\"id\":\"1090\"},\"hover_glyph\":null,\"muted_glyph\":{\"id\":\"1092\"},\"nonselection_glyph\":{\"id\":\"1091\"},\"selection_glyph\":null,\"view\":{\"id\":\"1094\"}},\"id\":\"1093\",\"type\":\"GlyphRenderer\"},{\"attributes\":{},\"id\":\"1080\",\"type\":\"Selection\"},{\"attributes\":{\"fill_color\":{\"value\":null},\"line_color\":{\"value\":\"orange\"},\"xs\":{\"field\":\"xs\"},\"ys\":{\"field\":\"ys\"}},\"id\":\"1082\",\"type\":\"MultiPolygons\"},{\"attributes\":{},\"id\":\"1088\",\"type\":\"Selection\"},{\"attributes\":{\"dimension\":\"lat\"},\"id\":\"1055\",\"type\":\"MercatorTickFormatter\"},{\"attributes\":{},\"id\":\"1041\",\"type\":\"PanTool\"},{\"attributes\":{\"align\":null,\"below\":[{\"id\":\"1032\"}],\"center\":[{\"id\":\"1035\"},{\"id\":\"1039\"}],\"frame_height\":500,\"frame_width\":700,\"left\":[{\"id\":\"1036\"}],\"margin\":null,\"match_aspect\":true,\"min_border_bottom\":10,\"min_border_left\":10,\"min_border_right\":10,\"min_border_top\":10,\"plot_height\":500,\"plot_width\":700,\"renderers\":[{\"id\":\"1075\"},{\"id\":\"1085\"},{\"id\":\"1093\"}],\"sizing_mode\":\"fixed\",\"title\":{\"id\":\"1024\"},\"toolbar\":{\"id\":\"1044\"},\"x_range\":{\"id\":\"1013\"},\"x_scale\":{\"id\":\"1028\"},\"y_range\":{\"id\":\"1014\"},\"y_scale\":{\"id\":\"1030\"}},\"id\":\"1023\",\"subtype\":\"Figure\",\"type\":\"Plot\"},{\"attributes\":{\"level\":\"underlay\",\"tile_source\":{\"id\":\"1072\"}},\"id\":\"1075\",\"type\":\"TileRenderer\"},{\"attributes\":{},\"id\":\"1098\",\"type\":\"UnionRenderers\"},{\"attributes\":{\"text\":\"Sentinel-1 Area of Interest\",\"text_color\":{\"value\":\"black\"},\"text_font_size\":{\"value\":\"12pt\"}},\"id\":\"1024\",\"type\":\"Title\"},{\"attributes\":{\"data\":{\"xs\":[[[{\"__ndarray__\":\"ggZXhqB8XMHtRu90HYdcwZAq53OMlVzB0JW63jmhXMHkt8LMI9VcwUkI95Kt3FzBgl3aEJbwXMG0T+LnoAZdwe8m/FLMEF3B4OZsPrISXcHl7mKwKA1dwc3oPAYB9VzBfUw6+2AmXMF0KP0cKhZcwRzr7pNmAVzBgaGLQgTqW8HKznQxiNxbwVeI5UcH0VvBk9Xwpta/W8GIqhUfobdbwXr9ppDgwFvBC3shZcgdXMH68iRbnzlcwdOUe2luW1zBggZXhqB8XME=\",\"dtype\":\"float64\",\"shape\":[25]}]]],\"ys\":[[[{\"__ndarray__\":\"ZRlgwJFJRMHoU+nNgDNEwZjjGnjNJUTB/pTqjrEsRMGy4PQFNDlEwYbcqRi8C0TBn2QV0Pm/Q8GkLQfrBoZDwRRB8wT2E0PBhOzMi77BQsG9ARjJBJZCwXk3a5Vug0LB3C8vz+YbQ8Ge49Q5uSxDweVpXbxSNkPBE50Kp/NKQ8FbWu4URIJDwRoeZvmuuEPBNIMrSgHtQ8FYWFRMvh5EwUZ6NwkyWETBLBj+GJd6RMECz2PbWLdEwXAxEEW4jkTBZRlgwJFJRME=\",\"dtype\":\"float64\",\"shape\":[25]}]]]},\"selected\":{\"id\":\"1080\"},\"selection_policy\":{\"id\":\"1096\"}},\"id\":\"1079\",\"type\":\"ColumnDataSource\"},{\"attributes\":{\"attribution\":\"&copy; <a href=\\\"https://www.openstreetmap.org/copyright\\\">OpenStreetMap</a> contributors, &copy; <a href=\\\"https://cartodb.com/attributions\\\">CartoDB</a>\",\"url\":\"http://3.api.cartocdn.com/base-eco/{Z}/{X}/{Y}.png\"},\"id\":\"1072\",\"type\":\"WMTSTileSource\"},{\"attributes\":{\"fill_alpha\":{\"value\":0.2},\"fill_color\":{\"value\":null},\"line_alpha\":{\"value\":0.2},\"line_color\":{\"value\":\"orange\"},\"xs\":{\"field\":\"xs\"},\"ys\":{\"field\":\"ys\"}},\"id\":\"1084\",\"type\":\"MultiPolygons\"},{\"attributes\":{\"fill_alpha\":{\"value\":0.1},\"fill_color\":{\"value\":\"#ff0000\"},\"line_alpha\":{\"value\":0.1},\"line_color\":{\"value\":\"#ff0000\"},\"marker\":{\"value\":\"triangle\"},\"size\":{\"units\":\"screen\",\"value\":10},\"x\":{\"field\":\"x\"},\"y\":{\"field\":\"y\"}},\"id\":\"1091\",\"type\":\"Scatter\"},{\"attributes\":{\"margin\":[5,5,5,5],\"name\":\"HSpacer02912\",\"sizing_mode\":\"stretch_width\"},\"id\":\"1143\",\"type\":\"Spacer\"},{\"attributes\":{\"fill_alpha\":{\"value\":0.1},\"fill_color\":{\"value\":null},\"line_alpha\":{\"value\":0.1},\"line_color\":{\"value\":\"orange\"},\"xs\":{\"field\":\"xs\"},\"ys\":{\"field\":\"ys\"}},\"id\":\"1083\",\"type\":\"MultiPolygons\"},{\"attributes\":{\"data\":{\"x\":{\"__ndarray__\":\"9jQO2SqHXME=\",\"dtype\":\"float64\",\"shape\":[1]},\"y\":{\"__ndarray__\":\"JckWfbJoQ8E=\",\"dtype\":\"float64\",\"shape\":[1]}},\"selected\":{\"id\":\"1088\"},\"selection_policy\":{\"id\":\"1098\"}},\"id\":\"1087\",\"type\":\"ColumnDataSource\"},{\"attributes\":{\"active_drag\":\"auto\",\"active_inspect\":\"auto\",\"active_multi\":null,\"active_scroll\":\"auto\",\"active_tap\":\"auto\",\"tools\":[{\"id\":\"1015\"},{\"id\":\"1016\"},{\"id\":\"1041\"},{\"id\":\"1042\"}]},\"id\":\"1044\",\"type\":\"Toolbar\"},{\"attributes\":{\"margin\":[5,5,5,5],\"name\":\"HSpacer02911\",\"sizing_mode\":\"stretch_width\"},\"id\":\"1004\",\"type\":\"Spacer\"},{\"attributes\":{\"axis\":{\"id\":\"1036\"},\"dimension\":1,\"grid_line_color\":null,\"ticker\":null},\"id\":\"1039\",\"type\":\"Grid\"},{\"attributes\":{\"axis_label\":\"Latitude\",\"bounds\":\"auto\",\"formatter\":{\"id\":\"1055\"},\"major_label_orientation\":\"horizontal\",\"ticker\":{\"id\":\"1054\"}},\"id\":\"1036\",\"type\":\"LinearAxis\"}],\"root_ids\":[\"1003\"]},\"title\":\"Bokeh Application\",\"version\":\"2.0.1\"}};\n",
       "  var render_items = [{\"docid\":\"327b6f47-e8c3-4454-ba75-c0ece24d2144\",\"root_ids\":[\"1003\"],\"roots\":{\"1003\":\"840e9e60-b987-4435-8441-2bb9e947ae6f\"}}];\n",
       "  root.Bokeh.embed.embed_items_notebook(docs_json, render_items);\n",
       "  }\n",
       "if (root.Bokeh !== undefined) {\n",
       "    embed_document(root);\n",
       "  } else {\n",
       "    var attempts = 0;\n",
       "    var timer = setInterval(function(root) {\n",
       "      if (root.Bokeh !== undefined) {\n",
       "        clearInterval(timer);\n",
       "        embed_document(root);\n",
       "      } else if (document.readyState == \"complete\") {\n",
       "        attempts++;\n",
       "        if (attempts > 100) {\n",
       "          clearInterval(timer);\n",
       "          console.log(\"Bokeh: ERROR: Unable to run BokehJS code because BokehJS library is missing\");\n",
       "        }\n",
       "      }\n",
       "    }, 10, root)\n",
       "  }\n",
       "})(window);</script>"
      ],
      "text/plain": [
       ":Overlay\n",
       "   .WMTS.I     :WMTS   [Longitude,Latitude]\n",
       "   .Polygons.I :Polygons   [Longitude,Latitude]\n",
       "   .Points.I   :Points   [x,y]"
      ]
     },
     "execution_count": 9,
     "metadata": {
      "application/vnd.holoviews_exec.v0+json": {
       "id": "1003"
      }
     },
     "output_type": "execute_result"
    }
   ],
   "source": [
    "# Put these on a map\n",
    "S,N,W,E = [-25, -20, -72, -65]\n",
    "tiles = gv.tile_sources.CartoEco.options(width=700, height=500).redim.range(Latitude=(S, N), Longitude=(W, E)) \n",
    "aoi = gf.hvplot(geo=True, fill_color=None, line_color='orange', title='Sentinel-1 Area of Interest', hover=False)\n",
    "utur = gv.Points([(-67.18, -22.27)]).opts(color='r', marker='^', size=10)\n",
    "tiles * aoi * utur"
   ]
  },
  {
   "cell_type": "code",
   "execution_count": 10,
   "metadata": {},
   "outputs": [],
   "source": [
    "# Plot S1 Footprints from S1 Archive (query.geojson)\n",
    "def refresh_inventory(snwe):\n",
    "    dinosar.archive.asf.query_asf(snwe, 'SA')\n",
    "    dinosar.archive.asf.query_asf(snwe, 'SB')\n",
    "    gf = dinosar.archive.asf.merge_inventories('query_SA.json', 'query_SB.json')\n",
    "    dinosar.archive.asf.save_inventory(gf)"
   ]
  },
  {
   "cell_type": "code",
   "execution_count": 11,
   "metadata": {},
   "outputs": [],
   "source": [
    "# Run if you want an up-to-date version of query.geojson\n",
    "#refresh_inventory(snwe)"
   ]
  },
  {
   "cell_type": "code",
   "execution_count": 12,
   "metadata": {},
   "outputs": [],
   "source": [
    "gf = dinosar.archive.asf.load_inventory('query.geojson')"
   ]
  },
  {
   "cell_type": "code",
   "execution_count": 13,
   "metadata": {},
   "outputs": [
    {
     "data": {
      "text/plain": [
       "array([  3,  10,  76,  83, 149, 156])"
      ]
     },
     "execution_count": 13,
     "metadata": {},
     "output_type": "execute_result"
    }
   ],
   "source": [
    "gf.relativeOrbit.unique()"
   ]
  },
  {
   "cell_type": "code",
   "execution_count": 14,
   "metadata": {},
   "outputs": [
    {
     "data": {
      "text/html": [
       "<div>\n",
       "<style scoped>\n",
       "    .dataframe tbody tr th:only-of-type {\n",
       "        vertical-align: middle;\n",
       "    }\n",
       "\n",
       "    .dataframe tbody tr th {\n",
       "        vertical-align: top;\n",
       "    }\n",
       "\n",
       "    .dataframe thead th {\n",
       "        text-align: right;\n",
       "    }\n",
       "</style>\n",
       "<table border=\"1\" class=\"dataframe\">\n",
       "  <thead>\n",
       "    <tr style=\"text-align: right;\">\n",
       "      <th></th>\n",
       "      <th>relativeOrbit</th>\n",
       "      <th>geometry</th>\n",
       "      <th>code</th>\n",
       "    </tr>\n",
       "  </thead>\n",
       "  <tbody>\n",
       "    <tr>\n",
       "      <th>0</th>\n",
       "      <td>3</td>\n",
       "      <td>POLYGON ((-64.90537 -24.27037, -64.90618 -24.2...</td>\n",
       "      <td>0</td>\n",
       "    </tr>\n",
       "    <tr>\n",
       "      <th>1</th>\n",
       "      <td>10</td>\n",
       "      <td>POLYGON ((-66.22261 -25.02893, -66.19150 -24.9...</td>\n",
       "      <td>1</td>\n",
       "    </tr>\n",
       "    <tr>\n",
       "      <th>2</th>\n",
       "      <td>76</td>\n",
       "      <td>POLYGON ((-66.50769 -25.52393, -66.50785 -25.5...</td>\n",
       "      <td>2</td>\n",
       "    </tr>\n",
       "    <tr>\n",
       "      <th>3</th>\n",
       "      <td>83</td>\n",
       "      <td>POLYGON ((-65.40583 -24.03589, -65.40540 -24.0...</td>\n",
       "      <td>3</td>\n",
       "    </tr>\n",
       "    <tr>\n",
       "      <th>4</th>\n",
       "      <td>149</td>\n",
       "      <td>POLYGON ((-66.14912 -24.84245, -66.14906 -24.8...</td>\n",
       "      <td>4</td>\n",
       "    </tr>\n",
       "  </tbody>\n",
       "</table>\n",
       "</div>"
      ],
      "text/plain": [
       "   relativeOrbit                                           geometry  code\n",
       "0              3  POLYGON ((-64.90537 -24.27037, -64.90618 -24.2...     0\n",
       "1             10  POLYGON ((-66.22261 -25.02893, -66.19150 -24.9...     1\n",
       "2             76  POLYGON ((-66.50769 -25.52393, -66.50785 -25.5...     2\n",
       "3             83  POLYGON ((-65.40583 -24.03589, -65.40540 -24.0...     3\n",
       "4            149  POLYGON ((-66.14912 -24.84245, -66.14906 -24.8...     4"
      ]
     },
     "execution_count": 14,
     "metadata": {},
     "output_type": "execute_result"
    }
   ],
   "source": [
    "gft = gf[['relativeOrbit','geometry']].dissolve(by='relativeOrbit').reset_index()\n",
    "gft['code'] = gft.relativeOrbit.astype('category').cat.codes\n",
    "gft.head()"
   ]
  },
  {
   "cell_type": "markdown",
   "metadata": {},
   "source": [
    "## Plots to summarize Sentinel-1 Inventory"
   ]
  },
  {
   "cell_type": "code",
   "execution_count": 15,
   "metadata": {},
   "outputs": [],
   "source": [
    "# Want to Omit tracks 10 and 3 (too far east)\n",
    "tracks = [76,83,149,156]\n",
    "gf = gf[gf.relativeOrbit.isin(tracks)]\n",
    "gf['code'] = gf.relativeOrbit.astype('category').cat.codes\n",
    "# Extract frames from particular month to get a feel for where frames are\n",
    "start = '09/01/2019'\n",
    "end = '09/30/2019'\n",
    "gdf = gf.query('dateStamp > @start & dateStamp < @end')\n",
    "#gdf['relativeOrbit'] = gdf.relativeOrbit.astype('category')"
   ]
  },
  {
   "cell_type": "code",
   "execution_count": 16,
   "metadata": {},
   "outputs": [
    {
     "name": "stderr",
     "output_type": "stream",
     "text": [
      "WARNING:param.GeoOverlayPlot03587: title_format is deprecated. Please use title instead\n",
      "WARNING:param.GeoOverlayPlot03587: title_format is deprecated. Please use title instead\n"
     ]
    },
    {
     "data": {},
     "metadata": {},
     "output_type": "display_data"
    },
    {
     "data": {
      "application/vnd.holoviews_exec.v0+json": "",
      "text/html": [
       "<div id='1175'>\n",
       "\n",
       "\n",
       "\n",
       "\n",
       "\n",
       "  <div class=\"bk-root\" id=\"057e8763-b0d6-4566-8672-f5580cd5769b\" data-root-id=\"1175\"></div>\n",
       "</div>\n",
       "<script type=\"application/javascript\">(function(root) {\n",
       "  function embed_document(root) {\n",
       "  var docs_json = {\"5547a959-82b5-465b-8622-7077e3f54230\":{\"roots\":{\"references\":[{\"attributes\":{\"bottom_units\":\"screen\",\"fill_alpha\":0.5,\"fill_color\":\"lightgrey\",\"left_units\":\"screen\",\"level\":\"overlay\",\"line_alpha\":1.0,\"line_color\":\"black\",\"line_dash\":[4,4],\"line_width\":2,\"render_mode\":\"css\",\"right_units\":\"screen\",\"top_units\":\"screen\"},\"id\":\"1220\",\"type\":\"BoxAnnotation\"},{\"attributes\":{\"margin\":[5,5,5,5],\"name\":\"HSpacer03528\",\"sizing_mode\":\"stretch_width\"},\"id\":\"1352\",\"type\":\"Spacer\"},{\"attributes\":{\"data_source\":{\"id\":\"1280\"},\"glyph\":{\"id\":\"1283\"},\"hover_glyph\":null,\"muted_glyph\":{\"id\":\"1285\"},\"nonselection_glyph\":{\"id\":\"1284\"},\"selection_glyph\":null,\"view\":{\"id\":\"1287\"}},\"id\":\"1286\",\"type\":\"GlyphRenderer\"},{\"attributes\":{\"fill_alpha\":{\"value\":0.3},\"fill_color\":{\"field\":\"code\",\"transform\":{\"id\":\"1257\"}},\"line_alpha\":{\"value\":0.3},\"xs\":{\"field\":\"xs\"},\"ys\":{\"field\":\"ys\"}},\"id\":\"1262\",\"type\":\"MultiPolygons\"},{\"attributes\":{},\"id\":\"1205\",\"type\":\"LinearScale\"},{\"attributes\":{\"dimension\":\"lat\"},\"id\":\"1232\",\"type\":\"MercatorTicker\"},{\"attributes\":{},\"id\":\"1289\",\"type\":\"UnionRenderers\"},{\"attributes\":{\"dimension\":\"lat\"},\"id\":\"1233\",\"type\":\"MercatorTickFormatter\"},{\"attributes\":{\"source\":{\"id\":\"1280\"}},\"id\":\"1287\",\"type\":\"CDSView\"},{\"attributes\":{\"data_source\":{\"id\":\"1272\"},\"glyph\":{\"id\":\"1275\"},\"hover_glyph\":null,\"muted_glyph\":{\"id\":\"1277\"},\"nonselection_glyph\":{\"id\":\"1276\"},\"selection_glyph\":null,\"view\":{\"id\":\"1279\"}},\"id\":\"1278\",\"type\":\"GlyphRenderer\"},{\"attributes\":{\"fill_color\":{\"value\":null},\"line_color\":{\"value\":\"orange\"},\"xs\":{\"field\":\"xs\"},\"ys\":{\"field\":\"ys\"}},\"id\":\"1275\",\"type\":\"MultiPolygons\"},{\"attributes\":{\"axis\":{\"id\":\"1213\"},\"dimension\":1,\"grid_line_color\":null,\"ticker\":null},\"id\":\"1216\",\"type\":\"Grid\"},{\"attributes\":{\"data\":{\"xs\":[[[{\"__ndarray__\":\"ggZXhqB8XMHtRu90HYdcwZAq53OMlVzB0JW63jmhXMHkt8LMI9VcwUkI95Kt3FzBgl3aEJbwXMG0T+LnoAZdwe8m/FLMEF3B4OZsPrISXcHl7mKwKA1dwc3oPAYB9VzBfUw6+2AmXMF0KP0cKhZcwRzr7pNmAVzBgaGLQgTqW8HKznQxiNxbwVeI5UcH0VvBk9Xwpta/W8GIqhUfobdbwXr9ppDgwFvBC3shZcgdXMH68iRbnzlcwdOUe2luW1zBggZXhqB8XME=\",\"dtype\":\"float64\",\"shape\":[25]}]]],\"ys\":[[[{\"__ndarray__\":\"ZRlgwJFJRMHoU+nNgDNEwZjjGnjNJUTB/pTqjrEsRMGy4PQFNDlEwYbcqRi8C0TBn2QV0Pm/Q8GkLQfrBoZDwRRB8wT2E0PBhOzMi77BQsG9ARjJBJZCwXk3a5Vug0LB3C8vz+YbQ8Ge49Q5uSxDweVpXbxSNkPBE50Kp/NKQ8FbWu4URIJDwRoeZvmuuEPBNIMrSgHtQ8FYWFRMvh5EwUZ6NwkyWETBLBj+GJd6RMECz2PbWLdEwXAxEEW4jkTBZRlgwJFJRME=\",\"dtype\":\"float64\",\"shape\":[25]}]]]},\"selected\":{\"id\":\"1273\"},\"selection_policy\":{\"id\":\"1291\"}},\"id\":\"1272\",\"type\":\"ColumnDataSource\"},{\"attributes\":{},\"id\":\"1281\",\"type\":\"Selection\"},{\"attributes\":{\"fill_alpha\":{\"value\":0.3},\"fill_color\":{\"field\":\"code\",\"transform\":{\"id\":\"1257\"}},\"line_alpha\":{\"value\":0.3},\"xs\":{\"field\":\"xs\"},\"ys\":{\"field\":\"ys\"}},\"id\":\"1261\",\"type\":\"MultiPolygons\"},{\"attributes\":{\"callback\":null,\"renderers\":[{\"id\":\"1264\"}],\"tags\":[\"hv_created\"],\"tooltips\":[[\"code\",\"@{code}\"],[\"relativeOrbit\",\"@{relativeOrbit}\"]]},\"id\":\"1193\",\"type\":\"HoverTool\"},{\"attributes\":{\"fill_alpha\":{\"value\":0.1},\"fill_color\":{\"value\":null},\"line_alpha\":{\"value\":0.1},\"line_color\":{\"value\":\"orange\"},\"xs\":{\"field\":\"xs\"},\"ys\":{\"field\":\"ys\"}},\"id\":\"1276\",\"type\":\"MultiPolygons\"},{\"attributes\":{\"data\":{\"code\":[0,0,0,0,0,0,0,0,0,0,0,0,0,0,0,1,1,1,1,1,1,2,2,2,2,2,2,2,2,2,3,3,3,3,3,3,3,3,3,3,3,3,3],\"relativeOrbit\":[76,76,76,76,76,76,76,76,76,76,76,76,76,76,76,83,83,83,83,83,83,149,149,149,149,149,149,149,149,149,156,156,156,156,156,156,156,156,156,156,156,156,156],\"xs\":[[[{\"__ndarray__\":\"j7IuofODW8H3y7jiK1JbweRyUYb5XVzBDJfKSE+MXMGPsi6h84NbwQ==\",\"dtype\":\"float64\",\"shape\":[5]}]],[[{\"__ndarray__\":\"IFmPVl3dW8HWRwIDV6xbwW4LOkSasVzBjnIIAZrfXMEgWY9WXd1bwQ==\",\"dtype\":\"float64\",\"shape\":[5]}]],[[{\"__ndarray__\":\"/5lawdyvW8EijR8WV39bwYsJr1djh1zBiIcroby0XMH/mVrB3K9bwQ==\",\"dtype\":\"float64\",\"shape\":[5]}]],[[{\"__ndarray__\":\"6sZUYkndW8Exd4PkQ6xbwfN8jMCDsVzBzACe4ILfXMHqxlRiSd1bwQ==\",\"dtype\":\"float64\",\"shape\":[5]}]],[[{\"__ndarray__\":\"Kk9Eu+2vW8Gm3+TsaH9bweYZo5N4h1zBT9ZjB9G0XMEqT0S77a9bwQ==\",\"dtype\":\"float64\",\"shape\":[5]}]],[[{\"__ndarray__\":\"eYTesgmEW8EH/q3lQFJbwZ4gpFMVXlzBH+L48muMXMF5hN6yCYRbwQ==\",\"dtype\":\"float64\",\"shape\":[5]}]],[[{\"__ndarray__\":\"PbCuVAKFW8Gnr5tW101bwfaN0cRAVlzBA0uiuaKJXME9sK5UAoVbwQ==\",\"dtype\":\"float64\",\"shape\":[5]}]],[[{\"__ndarray__\":\"H3hkyJmxW8FAYPqxZH9bwZLkTGAcg1zBLLKieBayXMEfeGTImbFbwQ==\",\"dtype\":\"float64\",\"shape\":[5]}]],[[{\"__ndarray__\":\"dt0xjFbdW8F/sJctBa5bwVqmVVngrlzBA4zqM1LbXMF23TGMVt1bwQ==\",\"dtype\":\"float64\",\"shape\":[5]}]],[[{\"__ndarray__\":\"iBr/kx6FW8Fce2J69U1bwUfara1aVlzBsRbmKLuJXMGIGv+THoVbwQ==\",\"dtype\":\"float64\",\"shape\":[5]}]],[[{\"__ndarray__\":\"RYJvFrexW8FkagUAgn9bwVF0K9c1g1zBMyCAKDCyXMFFgm8Wt7FbwQ==\",\"dtype\":\"float64\",\"shape\":[5]}]],[[{\"__ndarray__\":\"dYf36HTdW8F+Wl2KI65bwTu07Rf7rlzB5ZmC8mzbXMF1h/fodN1bwQ==\",\"dtype\":\"float64\",\"shape\":[5]}]],[[{\"__ndarray__\":\"AOatEw+FW8H7plbr5E1bwd1BistOVlzBjmF/46+JXMEA5q0TD4VbwQ==\",\"dtype\":\"float64\",\"shape\":[5]}]],[[{\"__ndarray__\":\"HM2FHKaxW8GEmNiicX9bwTC6Bi4qg1zBbeqAaSOyXMEczYUcprFbwQ==\",\"dtype\":\"float64\",\"shape\":[5]}]],[[{\"__ndarray__\":\"p1Yz2WLdW8ELx3RXEq5bwXd+7ljurlzBkKLHXV/bXMGnVjPZYt1bwQ==\",\"dtype\":\"float64\",\"shape\":[5]}]],[[{\"__ndarray__\":\"Wir73YMJXcGXnYimv9ZcwTdyDVIvx1vBCuvWBUX2W8FaKvvdgwldwQ==\",\"dtype\":\"float64\",\"shape\":[5]}]],[[{\"__ndarray__\":\"ixerJHQJXcFoBhMDsdZcwdWdAcMex1vBGVUPoTP2W8GLF6skdAldwQ==\",\"dtype\":\"float64\",\"shape\":[5]}]],[[{\"__ndarray__\":\"+XIu2ETbXMErL//t06lcwTqOukjWnVvBtckR4ODLW8H5ci7YRNtcwQ==\",\"dtype\":\"float64\",\"shape\":[5]}]],[[{\"__ndarray__\":\"o51wMAmtXMGssbLs1Xxcwfy50rYzc1vBzUxOo0GgW8GjnXAwCa1cwQ==\",\"dtype\":\"float64\",\"shape\":[5]}]],[[{\"__ndarray__\":\"Jgqke1PbXMHepSEJ4KlcwR9Cc0/knVvBFJ4db/HLW8EmCqR7U9tcwQ==\",\"dtype\":\"float64\",\"shape\":[5]}]],[[{\"__ndarray__\":\"VBSTSxWtXMGEiBr54HxcwYjQr+BAc1vBaiIIcU+gW8FUFJNLFa1cwQ==\",\"dtype\":\"float64\",\"shape\":[5]}]],[[{\"__ndarray__\":\"GWXcOclfXMGzmK2jISxcwVLAk3dqMl3BhXZS/JBiXcEZZdw5yV9cwQ==\",\"dtype\":\"float64\",\"shape\":[5]}]],[[{\"__ndarray__\":\"0kD7tUWMXMHmAcsHq1tcwVVjJ2+EXl3BfuZzVwCMXcHSQPu1RYxcwQ==\",\"dtype\":\"float64\",\"shape\":[5]}]],[[{\"__ndarray__\":\"VorfPa64XMGAT60gQolcweRiMg/KiV3BdDMt7lO2XcFWit89rrhcwQ==\",\"dtype\":\"float64\",\"shape\":[5]}]],[[{\"__ndarray__\":\"mitQCr9fXMGAJGq6FSxcwVpN/sxbMl3BQj50C4RiXcGaK1AKv19cwQ==\",\"dtype\":\"float64\",\"shape\":[5]}]],[[{\"__ndarray__\":\"jSaRGzuMXMGMKITJn1tcwfCsjzZ2Xl3B4RC6ifKLXcGNJpEbO4xcwQ==\",\"dtype\":\"float64\",\"shape\":[5]}]],[[{\"__ndarray__\":\"oDExeaS4XMG4NyK4N4lcwQ9uVqy8iV3BZh8v9ka2XcGgMTF5pLhcwQ==\",\"dtype\":\"float64\",\"shape\":[5]}]],[[{\"__ndarray__\":\"NgEbybxTXMHASieXiSFcwd0Aw/4yMV3B4k+yO9ZfXcE2ARvJvFNcwQ==\",\"dtype\":\"float64\",\"shape\":[5]}]],[[{\"__ndarray__\":\"ZDl1ekCAXMGgk+akU09cwZr4Qp1MW13B1gIpke+IXcFkOXV6QIBcwQ==\",\"dtype\":\"float64\",\"shape\":[5]}]],[[{\"__ndarray__\":\"skmFNLGuXMHjPANISn1cwYI+Wdzhhl3BYBG7BiO1XcGySYU0sa5cwQ==\",\"dtype\":\"float64\",\"shape\":[5]}]],[[{\"__ndarray__\":\"tnh7eESwXcEEt6rq/35dwQd3tPHye1zBRz5F6+upXMG2eHt4RLBdwQ==\",\"dtype\":\"float64\",\"shape\":[5]}]],[[{\"__ndarray__\":\"s75dw8eDXcE/mH21ulNdwa2NGWMuVFzBZkh/BDSBXMGzvl3Dx4NdwQ==\",\"dtype\":\"float64\",\"shape\":[5]}]],[[{\"__ndarray__\":\"wpE31FGwXcFpbUIjDn9dwehI4U4DfFzBT3V1nfupXMHCkTfUUbBdwQ==\",\"dtype\":\"float64\",\"shape\":[5]}]],[[{\"__ndarray__\":\"KTTSn9aDXcGTjzhKyFNdwfuiSE4+VFzBWtmIBUWBXMEpNNKf1oNdwQ==\",\"dtype\":\"float64\",\"shape\":[5]}]],[[{\"__ndarray__\":\"EfEjKSmDXcHfOc8JM1NdwfROMtCxSlzBU6T/LJB3XMER8SMpKYNdwQ==\",\"dtype\":\"float64\",\"shape\":[5]}]],[[{\"__ndarray__\":\"oq4OnPXcXcEMJtZohKpdwZ7+fHQZm1zB+8u66OXJXMGirg6c9dxdwQ==\",\"dtype\":\"float64\",\"shape\":[5]}]],[[{\"__ndarray__\":\"hffc7umuXcHS2hNaw31dwSU2QkTIcVzBYgMnPJGfXMGF99zu6a5dwQ==\",\"dtype\":\"float64\",\"shape\":[5]}]],[[{\"__ndarray__\":\"l5kjoxyDXcGFYIjLJ1NdwdhV4PUsS1zBSGqK9gt4XMGXmSOjHINdwQ==\",\"dtype\":\"float64\",\"shape\":[5]}]],[[{\"__ndarray__\":\"NlJWG/TcXcFcyOz0f6pdwRLSqyd5mlzBtYKmOEbJXME2UlYb9NxdwQ==\",\"dtype\":\"float64\",\"shape\":[5]}]],[[{\"__ndarray__\":\"PBQgUumuXcEN3MGYwH1dwejn8uQtcVzBprL4qvaeXME8FCBS6a5dwQ==\",\"dtype\":\"float64\",\"shape\":[5]}]],[[{\"__ndarray__\":\"GuzoeS6DXcF59k8wOVNdwZ7Kj5q4SlzB7GCAU5Z3XMEa7Oh5LoNdwQ==\",\"dtype\":\"float64\",\"shape\":[5]}]],[[{\"__ndarray__\":\"r1SymO7cXcGN7Ek5eqpdwedYLY9ymlzBCwdJbj/JXMGvVLKY7txdwQ==\",\"dtype\":\"float64\",\"shape\":[5]}]],[[{\"__ndarray__\":\"6zpcyOOuXcG9Av4Ou31dwYhKlFMncVzBRBWaGfCeXMHrOlzI465dwQ==\",\"dtype\":\"float64\",\"shape\":[5]}]]],\"ys\":[[[{\"__ndarray__\":\"mL4+zGyjQ8ExAfLsdCBFwT63Rpf4q0XBg4cYiBArRMGYvj7MbKNDwQ==\",\"dtype\":\"float64\",\"shape\":[5]}]],[[{\"__ndarray__\":\"QEq0+v3hQMHIuuf9PWVCwSJtr7Wp6ULBtMgB/PJiQcFASrT6/eFAwQ==\",\"dtype\":\"float64\",\"shape\":[5]}]],[[{\"__ndarray__\":\"e1A1wqdHQsEg1CvZ7cBDwQVRo/maSETBNNnIMLzLQsF7UDXCp0dCwQ==\",\"dtype\":\"float64\",\"shape\":[5]}]],[[{\"__ndarray__\":\"DLznLxbiQMEJAta3T2VCwattcpa56ULBjLXmfwljQcEMvOcvFuJAwQ==\",\"dtype\":\"float64\",\"shape\":[5]}]],[[{\"__ndarray__\":\"cSYamaRHQsEtHe+w4sBDwZaEatSRSETBGw717rrLQsFxJhqZpEdCwQ==\",\"dtype\":\"float64\",\"shape\":[5]}]],[[{\"__ndarray__\":\"o+PB8GOjQ8FkGhraciBFwW50ug/6q0XBps50JQsrRMGj48HwY6NDwQ==\",\"dtype\":\"float64\",\"shape\":[5]}]],[[{\"__ndarray__\":\"HSozVomwQ8FJ+nnGhFZFwagGxqaG4EXBOxLPzEo2RMEdKjNWibBDwQ==\",\"dtype\":\"float64\",\"shape\":[5]}]],[[{\"__ndarray__\":\"89HHj5hIQsGgsPedD89DwesSRjSXVETBnvrS/3XKQsHz0cePmEhCwQ==\",\"dtype\":\"float64\",\"shape\":[5]}]],[[{\"__ndarray__\":\"q5QYz1HwQMHhdP2JK2ZCwaeHI/Bc6ELB2oIJrjhvQcGrlBjPUfBAwQ==\",\"dtype\":\"float64\",\"shape\":[5]}]],[[{\"__ndarray__\":\"aF9wLYWwQ8HQ6wIkclZFwX0qZ4lx4EXB6pm/cUQ2RMFoX3AthbBDwQ==\",\"dtype\":\"float64\",\"shape\":[5]}]],[[{\"__ndarray__\":\"Hvx3ooxIQsFhbkAnBM9DwUThVFSJVETBJruP7mfKQsEe/HeijEhCwQ==\",\"dtype\":\"float64\",\"shape\":[5]}]],[[{\"__ndarray__\":\"bO8yUT7wQMFv4fRRGGZCwckWcIxH6ELBd5n6GiNvQcFs7zJRPvBAwQ==\",\"dtype\":\"float64\",\"shape\":[5]}]],[[{\"__ndarray__\":\"tyTLjIOwQ8FcwY8md1ZFwcWv1QF64EXBXMck9UU2RMG3JMuMg7BDwQ==\",\"dtype\":\"float64\",\"shape\":[5]}]],[[{\"__ndarray__\":\"dA7YlppIQsEcgWQgCs9DwXOu84mSVETB8Pi57njKQsF0DtiWmkhCwQ==\",\"dtype\":\"float64\",\"shape\":[5]}]],[[{\"__ndarray__\":\"Z/Ry71PwQMEGnRo6JmZCwa/fdJBY6ELBZ55k4TtvQcFn9HLvU/BAwQ==\",\"dtype\":\"float64\",\"shape\":[5]}]],[[{\"__ndarray__\":\"ndy24Cb9RcEouDJyYX1EwY8S2wgfCkXBgQeE2QuORsGd3LbgJv1FwQ==\",\"dtype\":\"float64\",\"shape\":[5]}]],[[{\"__ndarray__\":\"xkXMJgz9RcFyeT3STn1EwfPKx/4MCkXBTPFQq/GNRsHGRcwmDP1FwQ==\",\"dtype\":\"float64\",\"shape\":[5]}]],[[{\"__ndarray__\":\"8HFHcWubRMESMI88mB9Dwai6Hl2XqEPBsKULqkUoRcHwcUdxa5tEwQ==\",\"dtype\":\"float64\",\"shape\":[5]}]],[[{\"__ndarray__\":\"RhE4JxA+Q8EMYK7gxcVBwW5I+uq1S0LBrXhn7ZfHQ8FGETgnED5DwQ==\",\"dtype\":\"float64\",\"shape\":[5]}]],[[{\"__ndarray__\":\"qgXWFX6bRMG2sExllB9DwRKt6oqSqEPBrpYUqVcoRcGqBdYVfptEwQ==\",\"dtype\":\"float64\",\"shape\":[5]}]],[[{\"__ndarray__\":\"/PStPww+Q8EX7MJKusVBwf5jtmSpS0LBuAAFGpPHQ8H89K0/DD5DwQ==\",\"dtype\":\"float64\",\"shape\":[5]}]],[[{\"__ndarray__\":\"cWMF8rO/Q8Hv3B5DaUpFwcvEU8Zm00XB3jDYybxERMFxYwXys79DwQ==\",\"dtype\":\"float64\",\"shape\":[5]}]],[[{\"__ndarray__\":\"8UjJYO1jQsGx91xsYN1DweiXcKKdYkTByB1ltZ7lQsHxSMlg7WNCwQ==\",\"dtype\":\"float64\",\"shape\":[5]}]],[[{\"__ndarray__\":\"OXhhO8ELQcH2J8GY24FCwaWxQ84SBEPBDELRP6qKQcE5eGE7wQtBwQ==\",\"dtype\":\"float64\",\"shape\":[5]}]],[[{\"__ndarray__\":\"hlRHi7u/Q8EJho6XgEpFwZUBqmN700XBqkmRc8FERMGGVEeLu79DwQ==\",\"dtype\":\"float64\",\"shape\":[5]}]],[[{\"__ndarray__\":\"AVr+D/RjQsHS671Fb91Dwc6c7KKpYkTBGKVKmqLlQsEBWv4P9GNCwQ==\",\"dtype\":\"float64\",\"shape\":[5]}]],[[{\"__ndarray__\":\"Y5UiOsALQcF0jlN34oFCwa4uHuIWBEPBUpHOZKaKQcFjlSI6wAtBwQ==\",\"dtype\":\"float64\",\"shape\":[5]}]],[[{\"__ndarray__\":\"zcAVzZcMRMFFOZ7rvYpFwThi2fHmGEbBEtu+er+WRMHNwBXNlwxEwQ==\",\"dtype\":\"float64\",\"shape\":[5]}]],[[{\"__ndarray__\":\"06OR5eKvQsHKzaWpTipEwWqvjX2WtETBsPZtfnI2Q8HTo5Hl4q9CwQ==\",\"dtype\":\"float64\",\"shape\":[5]}]],[[{\"__ndarray__\":\"tMOWbqZJQcE3d9Iu+s1CwaC9RbcdVUPBfdwm9jPNQcG0w5ZupklBwQ==\",\"dtype\":\"float64\",\"shape\":[5]}]],[[{\"__ndarray__\":\"Xdz8Uo2dRMGvnxcS7CFDwRcOHLQkpkPBUnBlMXwlRcFd3PxSjZ1EwQ==\",\"dtype\":\"float64\",\"shape\":[5]}]],[[{\"__ndarray__\":\"mVliIB8/Q8FgK6odHcdBwfosjuXYR0LB4ggShUzDQ8GZWWIgHz9DwQ==\",\"dtype\":\"float64\",\"shape\":[5]}]],[[{\"__ndarray__\":\"pUc1BIudRMFWQobA8CFDwQd/OIYppkPBX4TFwHklRcGlRzUEi51EwQ==\",\"dtype\":\"float64\",\"shape\":[5]}]],[[{\"__ndarray__\":\"qfCAYSs/Q8GRUKihIcdBwQyKUozdR0LBW0TE8VjDQ8Gp8IBhKz9DwQ==\",\"dtype\":\"float64\",\"shape\":[5]}]],[[{\"__ndarray__\":\"qjbUB3n7QsEB0IUQ04NBwYGI4CnUCELB7QuR3AKEQ8GqNtQHeftCwQ==\",\"dtype\":\"float64\",\"shape\":[5]}]],[[{\"__ndarray__\":\"/Iw8nFq6RcHZHKXlcjtEwT882uuZx0TBceJ26plKRsH8jDycWrpFwQ==\",\"dtype\":\"float64\",\"shape\":[5]}]],[[{\"__ndarray__\":\"eU66qn9ZRMHzxwXfXN5Cwdf/K+fdZkPBw8hnkM7lRMF5Trqqf1lEwQ==\",\"dtype\":\"float64\",\"shape\":[5]}]],[[{\"__ndarray__\":\"8q5355f7QsEda6+a+INBwX1yAoW2CELBkDKsk9yDQ8Hyrnfnl/tCwQ==\",\"dtype\":\"float64\",\"shape\":[5]}]],[[{\"__ndarray__\":\"gNKAXFe6RcHL3lpZWTtEwbnerwLPx0TB8rY0yOdKRsGA0oBcV7pFwQ==\",\"dtype\":\"float64\",\"shape\":[5]}]],[[{\"__ndarray__\":\"Ipow6XNZRMFgsUOEQt5CwXrHYjgPZ0PBJMNguxDmRMEimjDpc1lEwQ==\",\"dtype\":\"float64\",\"shape\":[5]}]],[[{\"__ndarray__\":\"Qm/OaHr7QsGFFImL24NBwYbBGjPcCELB0GS4wwOEQ8FCb85oevtCwQ==\",\"dtype\":\"float64\",\"shape\":[5]}]],[[{\"__ndarray__\":\"vfyP81W6RcGMDeQTWDtEwf5UcFfOx0TB1iK7GudKRsG9/I/zVbpFwQ==\",\"dtype\":\"float64\",\"shape\":[5]}]],[[{\"__ndarray__\":\"Mldqo3JZRMH0tEJCQd5CwYnn0K0OZ0PBNzP2DxDmRMEyV2qjcllEwQ==\",\"dtype\":\"float64\",\"shape\":[5]}]]]},\"selected\":{\"id\":\"1259\"},\"selection_policy\":{\"id\":\"1289\"}},\"id\":\"1258\",\"type\":\"ColumnDataSource\"},{\"attributes\":{\"fill_alpha\":{\"value\":0.2},\"fill_color\":{\"value\":null},\"line_alpha\":{\"value\":0.2},\"line_color\":{\"value\":\"orange\"},\"xs\":{\"field\":\"xs\"},\"ys\":{\"field\":\"ys\"}},\"id\":\"1277\",\"type\":\"MultiPolygons\"},{\"attributes\":{\"fill_alpha\":{\"value\":0.1},\"fill_color\":{\"value\":\"#ff0000\"},\"line_alpha\":{\"value\":0.1},\"line_color\":{\"value\":\"#ff0000\"},\"marker\":{\"value\":\"triangle\"},\"size\":{\"units\":\"screen\",\"value\":10},\"x\":{\"field\":\"x\"},\"y\":{\"field\":\"y\"}},\"id\":\"1284\",\"type\":\"Scatter\"},{\"attributes\":{\"end\":-7203485.70008789,\"min_interval\":5,\"reset_end\":-7203485.70008789,\"reset_start\":-8047284.538590589,\"start\":-8047284.538590589,\"tags\":[[[\"Longitude\",\"Longitude\",null]]]},\"id\":\"1187\",\"type\":\"Range1d\"},{\"attributes\":{\"match_aspect\":true,\"overlay\":{\"id\":\"1220\"}},\"id\":\"1190\",\"type\":\"BoxZoomTool\"},{\"attributes\":{},\"id\":\"1259\",\"type\":\"Selection\"},{\"attributes\":{},\"id\":\"1291\",\"type\":\"UnionRenderers\"},{\"attributes\":{\"data\":{\"x\":{\"__ndarray__\":\"9jQO2SqHXME=\",\"dtype\":\"float64\",\"shape\":[1]},\"y\":{\"__ndarray__\":\"JckWfbJoQ8E=\",\"dtype\":\"float64\",\"shape\":[1]}},\"selected\":{\"id\":\"1281\"},\"selection_policy\":{\"id\":\"1293\"}},\"id\":\"1280\",\"type\":\"ColumnDataSource\"},{\"attributes\":{\"zoom_on_axis\":false},\"id\":\"1189\",\"type\":\"WheelZoomTool\"},{\"attributes\":{\"click_policy\":\"mute\",\"items\":[{\"id\":\"1269\"}],\"location\":[0,0]},\"id\":\"1268\",\"type\":\"Legend\"},{\"attributes\":{},\"id\":\"1218\",\"type\":\"PanTool\"},{\"attributes\":{\"margin\":[5,5,5,5],\"name\":\"HSpacer03527\",\"sizing_mode\":\"stretch_width\"},\"id\":\"1176\",\"type\":\"Spacer\"},{\"attributes\":{\"axis_label\":\"Latitude\",\"bounds\":\"auto\",\"formatter\":{\"id\":\"1233\"},\"major_label_orientation\":\"horizontal\",\"ticker\":{\"id\":\"1232\"}},\"id\":\"1213\",\"type\":\"LinearAxis\"},{\"attributes\":{\"text\":\"Sentinel-1 Tracks\",\"text_color\":{\"value\":\"black\"},\"text_font_size\":{\"value\":\"12pt\"}},\"id\":\"1201\",\"type\":\"Title\"},{\"attributes\":{\"end\":-2273031.045451419,\"min_interval\":5,\"reset_end\":-2273031.045451419,\"reset_start\":-2875744.5015247753,\"start\":-2875744.5015247753,\"tags\":[[[\"Latitude\",\"Latitude\",null]]]},\"id\":\"1188\",\"type\":\"Range1d\"},{\"attributes\":{\"children\":[{\"id\":\"1176\"},{\"id\":\"1200\"},{\"id\":\"1352\"}],\"margin\":[0,0,0,0],\"name\":\"Row03523\",\"tags\":[\"embedded\"]},\"id\":\"1175\",\"type\":\"Row\"},{\"attributes\":{\"source\":{\"id\":\"1258\"}},\"id\":\"1265\",\"type\":\"CDSView\"},{\"attributes\":{\"fill_alpha\":{\"value\":0.2},\"fill_color\":{\"field\":\"code\",\"transform\":{\"id\":\"1257\"}},\"line_alpha\":{\"value\":0.2},\"xs\":{\"field\":\"xs\"},\"ys\":{\"field\":\"ys\"}},\"id\":\"1263\",\"type\":\"MultiPolygons\"},{\"attributes\":{\"source\":{\"id\":\"1272\"}},\"id\":\"1279\",\"type\":\"CDSView\"},{\"attributes\":{\"fill_alpha\":{\"value\":0.2},\"fill_color\":{\"value\":\"#ff0000\"},\"line_alpha\":{\"value\":0.2},\"line_color\":{\"value\":\"#ff0000\"},\"marker\":{\"value\":\"triangle\"},\"size\":{\"units\":\"screen\",\"value\":10},\"x\":{\"field\":\"x\"},\"y\":{\"field\":\"y\"}},\"id\":\"1285\",\"type\":\"Scatter\"},{\"attributes\":{\"align\":null,\"below\":[{\"id\":\"1209\"}],\"center\":[{\"id\":\"1212\"},{\"id\":\"1216\"}],\"frame_height\":500,\"frame_width\":700,\"left\":[{\"id\":\"1213\"}],\"margin\":null,\"match_aspect\":true,\"min_border_bottom\":10,\"min_border_left\":10,\"min_border_right\":10,\"min_border_top\":10,\"plot_height\":500,\"plot_width\":700,\"renderers\":[{\"id\":\"1253\"},{\"id\":\"1264\"},{\"id\":\"1278\"},{\"id\":\"1286\"}],\"right\":[{\"id\":\"1268\"}],\"sizing_mode\":\"fixed\",\"title\":{\"id\":\"1201\"},\"toolbar\":{\"id\":\"1221\"},\"x_range\":{\"id\":\"1187\"},\"x_scale\":{\"id\":\"1205\"},\"y_range\":{\"id\":\"1188\"},\"y_scale\":{\"id\":\"1207\"}},\"id\":\"1200\",\"subtype\":\"Figure\",\"type\":\"Plot\"},{\"attributes\":{\"label\":{\"field\":\"code\"},\"renderers\":[{\"id\":\"1264\"}]},\"id\":\"1269\",\"type\":\"LegendItem\"},{\"attributes\":{\"dimension\":\"lon\"},\"id\":\"1231\",\"type\":\"MercatorTickFormatter\"},{\"attributes\":{},\"id\":\"1207\",\"type\":\"LinearScale\"},{\"attributes\":{\"axis_label\":\"Longitude\",\"bounds\":\"auto\",\"formatter\":{\"id\":\"1231\"},\"major_label_orientation\":\"horizontal\",\"ticker\":{\"id\":\"1230\"}},\"id\":\"1209\",\"type\":\"LinearAxis\"},{\"attributes\":{\"dimension\":\"lon\"},\"id\":\"1230\",\"type\":\"MercatorTicker\"},{\"attributes\":{\"axis\":{\"id\":\"1209\"},\"grid_line_color\":null,\"ticker\":null},\"id\":\"1212\",\"type\":\"Grid\"},{\"attributes\":{\"high\":3.0,\"low\":0.0,\"palette\":[\"#1f77b4\",\"#1f77b4\",\"#1f77b4\",\"#1f77b4\",\"#1f77b4\",\"#1f77b4\",\"#1f77b4\",\"#1f77b4\",\"#1f77b4\",\"#1f77b4\",\"#1f77b4\",\"#1f77b4\",\"#1f77b4\",\"#1f77b4\",\"#1f77b4\",\"#1f77b4\",\"#1f77b4\",\"#1f77b4\",\"#1f77b4\",\"#1f77b4\",\"#1f77b4\",\"#1f77b4\",\"#1f77b4\",\"#1f77b4\",\"#1f77b4\",\"#1f77b4\",\"#ff7f0e\",\"#ff7f0e\",\"#ff7f0e\",\"#ff7f0e\",\"#ff7f0e\",\"#ff7f0e\",\"#ff7f0e\",\"#ff7f0e\",\"#ff7f0e\",\"#ff7f0e\",\"#ff7f0e\",\"#ff7f0e\",\"#ff7f0e\",\"#ff7f0e\",\"#ff7f0e\",\"#ff7f0e\",\"#ff7f0e\",\"#ff7f0e\",\"#ff7f0e\",\"#ff7f0e\",\"#ff7f0e\",\"#ff7f0e\",\"#ff7f0e\",\"#ff7f0e\",\"#ff7f0e\",\"#ff7f0e\",\"#2ca02c\",\"#2ca02c\",\"#2ca02c\",\"#2ca02c\",\"#2ca02c\",\"#2ca02c\",\"#2ca02c\",\"#2ca02c\",\"#2ca02c\",\"#2ca02c\",\"#2ca02c\",\"#2ca02c\",\"#2ca02c\",\"#2ca02c\",\"#2ca02c\",\"#2ca02c\",\"#2ca02c\",\"#2ca02c\",\"#2ca02c\",\"#2ca02c\",\"#2ca02c\",\"#2ca02c\",\"#2ca02c\",\"#2ca02c\",\"#2ca02c\",\"#d62728\",\"#d62728\",\"#d62728\",\"#d62728\",\"#d62728\",\"#d62728\",\"#d62728\",\"#d62728\",\"#d62728\",\"#d62728\",\"#d62728\",\"#d62728\",\"#d62728\",\"#d62728\",\"#d62728\",\"#d62728\",\"#d62728\",\"#d62728\",\"#d62728\",\"#d62728\",\"#d62728\",\"#d62728\",\"#d62728\",\"#d62728\",\"#d62728\",\"#d62728\",\"#9467bd\",\"#9467bd\",\"#9467bd\",\"#9467bd\",\"#9467bd\",\"#9467bd\",\"#9467bd\",\"#9467bd\",\"#9467bd\",\"#9467bd\",\"#9467bd\",\"#9467bd\",\"#9467bd\",\"#9467bd\",\"#9467bd\",\"#9467bd\",\"#9467bd\",\"#9467bd\",\"#9467bd\",\"#9467bd\",\"#9467bd\",\"#9467bd\",\"#9467bd\",\"#9467bd\",\"#9467bd\",\"#8c564b\",\"#8c564b\",\"#8c564b\",\"#8c564b\",\"#8c564b\",\"#8c564b\",\"#8c564b\",\"#8c564b\",\"#8c564b\",\"#8c564b\",\"#8c564b\",\"#8c564b\",\"#8c564b\",\"#8c564b\",\"#8c564b\",\"#8c564b\",\"#8c564b\",\"#8c564b\",\"#8c564b\",\"#8c564b\",\"#8c564b\",\"#8c564b\",\"#8c564b\",\"#8c564b\",\"#8c564b\",\"#8c564b\",\"#e377c2\",\"#e377c2\",\"#e377c2\",\"#e377c2\",\"#e377c2\",\"#e377c2\",\"#e377c2\",\"#e377c2\",\"#e377c2\",\"#e377c2\",\"#e377c2\",\"#e377c2\",\"#e377c2\",\"#e377c2\",\"#e377c2\",\"#e377c2\",\"#e377c2\",\"#e377c2\",\"#e377c2\",\"#e377c2\",\"#e377c2\",\"#e377c2\",\"#e377c2\",\"#e377c2\",\"#e377c2\",\"#7f7f7f\",\"#7f7f7f\",\"#7f7f7f\",\"#7f7f7f\",\"#7f7f7f\",\"#7f7f7f\",\"#7f7f7f\",\"#7f7f7f\",\"#7f7f7f\",\"#7f7f7f\",\"#7f7f7f\",\"#7f7f7f\",\"#7f7f7f\",\"#7f7f7f\",\"#7f7f7f\",\"#7f7f7f\",\"#7f7f7f\",\"#7f7f7f\",\"#7f7f7f\",\"#7f7f7f\",\"#7f7f7f\",\"#7f7f7f\",\"#7f7f7f\",\"#7f7f7f\",\"#7f7f7f\",\"#7f7f7f\",\"#bcbd22\",\"#bcbd22\",\"#bcbd22\",\"#bcbd22\",\"#bcbd22\",\"#bcbd22\",\"#bcbd22\",\"#bcbd22\",\"#bcbd22\",\"#bcbd22\",\"#bcbd22\",\"#bcbd22\",\"#bcbd22\",\"#bcbd22\",\"#bcbd22\",\"#bcbd22\",\"#bcbd22\",\"#bcbd22\",\"#bcbd22\",\"#bcbd22\",\"#bcbd22\",\"#bcbd22\",\"#bcbd22\",\"#bcbd22\",\"#bcbd22\",\"#17becf\",\"#17becf\",\"#17becf\",\"#17becf\",\"#17becf\",\"#17becf\",\"#17becf\",\"#17becf\",\"#17becf\",\"#17becf\",\"#17becf\",\"#17becf\",\"#17becf\",\"#17becf\",\"#17becf\",\"#17becf\",\"#17becf\",\"#17becf\",\"#17becf\",\"#17becf\",\"#17becf\",\"#17becf\",\"#17becf\",\"#17becf\",\"#17becf\",\"#17becf\"]},\"id\":\"1257\",\"type\":\"LinearColorMapper\"},{\"attributes\":{},\"id\":\"1219\",\"type\":\"ResetTool\"},{\"attributes\":{\"level\":\"underlay\",\"tile_source\":{\"id\":\"1250\"}},\"id\":\"1253\",\"type\":\"TileRenderer\"},{\"attributes\":{\"active_drag\":\"auto\",\"active_inspect\":\"auto\",\"active_multi\":null,\"active_scroll\":\"auto\",\"active_tap\":\"auto\",\"tools\":[{\"id\":\"1189\"},{\"id\":\"1190\"},{\"id\":\"1193\"},{\"id\":\"1218\"},{\"id\":\"1219\"}]},\"id\":\"1221\",\"type\":\"Toolbar\"},{\"attributes\":{},\"id\":\"1273\",\"type\":\"Selection\"},{\"attributes\":{},\"id\":\"1293\",\"type\":\"UnionRenderers\"},{\"attributes\":{\"data_source\":{\"id\":\"1258\"},\"glyph\":{\"id\":\"1261\"},\"hover_glyph\":null,\"muted_glyph\":{\"id\":\"1263\"},\"nonselection_glyph\":{\"id\":\"1262\"},\"selection_glyph\":null,\"view\":{\"id\":\"1265\"}},\"id\":\"1264\",\"type\":\"GlyphRenderer\"},{\"attributes\":{\"attribution\":\"&copy; <a href=\\\"https://www.openstreetmap.org/copyright\\\">OpenStreetMap</a> contributors, &copy; <a href=\\\"https://cartodb.com/attributions\\\">CartoDB</a>\",\"url\":\"http://3.api.cartocdn.com/base-eco/{Z}/{X}/{Y}.png\"},\"id\":\"1250\",\"type\":\"WMTSTileSource\"},{\"attributes\":{\"fill_color\":{\"value\":\"#ff0000\"},\"line_color\":{\"value\":\"#ff0000\"},\"marker\":{\"value\":\"triangle\"},\"size\":{\"units\":\"screen\",\"value\":10},\"x\":{\"field\":\"x\"},\"y\":{\"field\":\"y\"}},\"id\":\"1283\",\"type\":\"Scatter\"}],\"root_ids\":[\"1175\"]},\"title\":\"Bokeh Application\",\"version\":\"2.0.1\"}};\n",
       "  var render_items = [{\"docid\":\"5547a959-82b5-465b-8622-7077e3f54230\",\"root_ids\":[\"1175\"],\"roots\":{\"1175\":\"057e8763-b0d6-4566-8672-f5580cd5769b\"}}];\n",
       "  root.Bokeh.embed.embed_items_notebook(docs_json, render_items);\n",
       "  }\n",
       "if (root.Bokeh !== undefined) {\n",
       "    embed_document(root);\n",
       "  } else {\n",
       "    var attempts = 0;\n",
       "    var timer = setInterval(function(root) {\n",
       "      if (root.Bokeh !== undefined) {\n",
       "        clearInterval(timer);\n",
       "        embed_document(root);\n",
       "      } else if (document.readyState == \"complete\") {\n",
       "        attempts++;\n",
       "        if (attempts > 100) {\n",
       "          clearInterval(timer);\n",
       "          console.log(\"Bokeh: ERROR: Unable to run BokehJS code because BokehJS library is missing\");\n",
       "        }\n",
       "      }\n",
       "    }, 10, root)\n",
       "  }\n",
       "})(window);</script>"
      ],
      "text/plain": [
       ":Overlay\n",
       "   .WMTS.I      :WMTS   [Longitude,Latitude]\n",
       "   .Polygons.I  :Polygons   [Longitude,Latitude]   (code,relativeOrbit)\n",
       "   .Polygons.II :Polygons   [Longitude,Latitude]\n",
       "   .Points.I    :Points   [x,y]"
      ]
     },
     "execution_count": 16,
     "metadata": {
      "application/vnd.holoviews_exec.v0+json": {
       "id": "1175"
      }
     },
     "output_type": "execute_result"
    }
   ],
   "source": [
    "footprints = gdf.hvplot.polygons(geo=True, hover_cols=['code','relativeOrbit'], cmap='Category10',  \n",
    "                                 alpha=0.3, legend=True, colorbar=False, title='Sentinel-1 Tracks') #color=hv.Cycle('Category20')\n",
    "tiles * footprints * aoi * utur "
   ]
  },
  {
   "cell_type": "code",
   "execution_count": 17,
   "metadata": {},
   "outputs": [
    {
     "name": "stderr",
     "output_type": "stream",
     "text": [
      "WARNING:param.GeoOverlayPlot04572: title_format is deprecated. Please use title instead\n",
      "WARNING:param.GeoOverlayPlot04572: title_format is deprecated. Please use title instead\n"
     ]
    },
    {
     "data": {},
     "metadata": {},
     "output_type": "display_data"
    },
    {
     "data": {
      "application/vnd.holoviews_exec.v0+json": "",
      "text/html": [
       "<div id='1394'>\n",
       "\n",
       "\n",
       "\n",
       "\n",
       "\n",
       "  <div class=\"bk-root\" id=\"9741d775-ae7f-4456-b735-211a830bcc62\" data-root-id=\"1394\"></div>\n",
       "</div>\n",
       "<script type=\"application/javascript\">(function(root) {\n",
       "  function embed_document(root) {\n",
       "  var docs_json = {\"0a7ad4ec-02f7-43c6-a8a3-a76e8756fdc8\":{\"roots\":{\"references\":[{\"attributes\":{\"angle\":{\"units\":\"rad\",\"value\":1.5707963267948966},\"fill_color\":{\"field\":\"color\",\"transform\":{\"id\":\"1505\"}},\"line_color\":{\"field\":\"color\",\"transform\":{\"id\":\"1505\"}},\"marker\":{\"value\":\"dash\"},\"size\":{\"units\":\"screen\",\"value\":14.142135623730951},\"x\":{\"field\":\"timeStamp\"},\"y\":{\"field\":\"code\"}},\"id\":\"1512\",\"type\":\"Scatter\"},{\"attributes\":{},\"id\":\"1424\",\"type\":\"PanTool\"},{\"attributes\":{\"angle\":{\"units\":\"rad\",\"value\":1.5707963267948966},\"fill_alpha\":{\"value\":0.1},\"fill_color\":{\"field\":\"color\",\"transform\":{\"id\":\"1505\"}},\"line_alpha\":{\"value\":0.1},\"line_color\":{\"field\":\"color\",\"transform\":{\"id\":\"1505\"}},\"marker\":{\"value\":\"dash\"},\"size\":{\"units\":\"screen\",\"value\":14.142135623730951},\"x\":{\"field\":\"timeStamp\"},\"y\":{\"field\":\"code\"}},\"id\":\"1513\",\"type\":\"Scatter\"},{\"attributes\":{},\"id\":\"1469\",\"type\":\"YearsTicker\"},{\"attributes\":{\"axis\":{\"id\":\"1419\"},\"dimension\":1,\"grid_line_color\":null,\"ticker\":null},\"id\":\"1422\",\"type\":\"Grid\"},{\"attributes\":{},\"id\":\"1438\",\"type\":\"DatetimeTickFormatter\"},{\"attributes\":{\"data_source\":{\"id\":\"1506\"},\"glyph\":{\"id\":\"1509\"},\"hover_glyph\":{\"id\":\"1512\"},\"muted_glyph\":{\"id\":\"1513\"},\"nonselection_glyph\":{\"id\":\"1510\"},\"selection_glyph\":{\"id\":\"1511\"},\"view\":{\"id\":\"1515\"}},\"id\":\"1514\",\"type\":\"GlyphRenderer\"},{\"attributes\":{},\"id\":\"1423\",\"type\":\"SaveTool\"},{\"attributes\":{\"angle\":{\"units\":\"rad\",\"value\":1.5707963267948966},\"fill_color\":{\"field\":\"color\",\"transform\":{\"id\":\"1539\"}},\"line_color\":{\"field\":\"color\",\"transform\":{\"id\":\"1539\"}},\"marker\":{\"value\":\"dash\"},\"size\":{\"units\":\"screen\",\"value\":14.142135623730951},\"x\":{\"field\":\"timeStamp\"},\"y\":{\"field\":\"code\"}},\"id\":\"1543\",\"type\":\"Scatter\"},{\"attributes\":{\"label\":{\"value\":\"156\"},\"renderers\":[{\"id\":\"1548\"}]},\"id\":\"1574\",\"type\":\"LegendItem\"},{\"attributes\":{\"source\":{\"id\":\"1506\"}},\"id\":\"1515\",\"type\":\"CDSView\"},{\"attributes\":{\"source\":{\"id\":\"1540\"}},\"id\":\"1549\",\"type\":\"CDSView\"},{\"attributes\":{},\"id\":\"1420\",\"type\":\"BasicTicker\"},{\"attributes\":{\"angle\":{\"units\":\"rad\",\"value\":1.5707963267948966},\"fill_color\":{\"field\":\"color\",\"transform\":{\"id\":\"1505\"}},\"line_color\":{\"field\":\"color\",\"transform\":{\"id\":\"1505\"}},\"marker\":{\"value\":\"dash\"},\"size\":{\"units\":\"screen\",\"value\":14.142135623730951},\"x\":{\"field\":\"timeStamp\"},\"y\":{\"field\":\"code\"}},\"id\":\"1511\",\"type\":\"Scatter\"},{\"attributes\":{\"axis\":{\"id\":\"1415\"},\"grid_line_color\":null,\"ticker\":null},\"id\":\"1418\",\"type\":\"Grid\"},{\"attributes\":{\"end\":3.3,\"reset_end\":3.3,\"reset_start\":-0.30000000000000004,\"start\":-0.30000000000000004,\"tags\":[[[\"code\",\"code\",null]]]},\"id\":\"1399\",\"type\":\"Range1d\"},{\"attributes\":{\"high\":1.0,\"low\":-1.0,\"palette\":[\"#1f77b4\",\"#1f77b4\",\"#1f77b4\",\"#1f77b4\",\"#1f77b4\",\"#1f77b4\",\"#1f77b4\",\"#1f77b4\",\"#1f77b4\",\"#1f77b4\",\"#1f77b4\",\"#1f77b4\",\"#1f77b4\",\"#1f77b4\",\"#1f77b4\",\"#1f77b4\",\"#1f77b4\",\"#1f77b4\",\"#1f77b4\",\"#1f77b4\",\"#1f77b4\",\"#1f77b4\",\"#1f77b4\",\"#1f77b4\",\"#1f77b4\",\"#1f77b4\",\"#ff7f0e\",\"#ff7f0e\",\"#ff7f0e\",\"#ff7f0e\",\"#ff7f0e\",\"#ff7f0e\",\"#ff7f0e\",\"#ff7f0e\",\"#ff7f0e\",\"#ff7f0e\",\"#ff7f0e\",\"#ff7f0e\",\"#ff7f0e\",\"#ff7f0e\",\"#ff7f0e\",\"#ff7f0e\",\"#ff7f0e\",\"#ff7f0e\",\"#ff7f0e\",\"#ff7f0e\",\"#ff7f0e\",\"#ff7f0e\",\"#ff7f0e\",\"#ff7f0e\",\"#ff7f0e\",\"#ff7f0e\",\"#2ca02c\",\"#2ca02c\",\"#2ca02c\",\"#2ca02c\",\"#2ca02c\",\"#2ca02c\",\"#2ca02c\",\"#2ca02c\",\"#2ca02c\",\"#2ca02c\",\"#2ca02c\",\"#2ca02c\",\"#2ca02c\",\"#2ca02c\",\"#2ca02c\",\"#2ca02c\",\"#2ca02c\",\"#2ca02c\",\"#2ca02c\",\"#2ca02c\",\"#2ca02c\",\"#2ca02c\",\"#2ca02c\",\"#2ca02c\",\"#2ca02c\",\"#d62728\",\"#d62728\",\"#d62728\",\"#d62728\",\"#d62728\",\"#d62728\",\"#d62728\",\"#d62728\",\"#d62728\",\"#d62728\",\"#d62728\",\"#d62728\",\"#d62728\",\"#d62728\",\"#d62728\",\"#d62728\",\"#d62728\",\"#d62728\",\"#d62728\",\"#d62728\",\"#d62728\",\"#d62728\",\"#d62728\",\"#d62728\",\"#d62728\",\"#d62728\",\"#9467bd\",\"#9467bd\",\"#9467bd\",\"#9467bd\",\"#9467bd\",\"#9467bd\",\"#9467bd\",\"#9467bd\",\"#9467bd\",\"#9467bd\",\"#9467bd\",\"#9467bd\",\"#9467bd\",\"#9467bd\",\"#9467bd\",\"#9467bd\",\"#9467bd\",\"#9467bd\",\"#9467bd\",\"#9467bd\",\"#9467bd\",\"#9467bd\",\"#9467bd\",\"#9467bd\",\"#9467bd\",\"#8c564b\",\"#8c564b\",\"#8c564b\",\"#8c564b\",\"#8c564b\",\"#8c564b\",\"#8c564b\",\"#8c564b\",\"#8c564b\",\"#8c564b\",\"#8c564b\",\"#8c564b\",\"#8c564b\",\"#8c564b\",\"#8c564b\",\"#8c564b\",\"#8c564b\",\"#8c564b\",\"#8c564b\",\"#8c564b\",\"#8c564b\",\"#8c564b\",\"#8c564b\",\"#8c564b\",\"#8c564b\",\"#8c564b\",\"#e377c2\",\"#e377c2\",\"#e377c2\",\"#e377c2\",\"#e377c2\",\"#e377c2\",\"#e377c2\",\"#e377c2\",\"#e377c2\",\"#e377c2\",\"#e377c2\",\"#e377c2\",\"#e377c2\",\"#e377c2\",\"#e377c2\",\"#e377c2\",\"#e377c2\",\"#e377c2\",\"#e377c2\",\"#e377c2\",\"#e377c2\",\"#e377c2\",\"#e377c2\",\"#e377c2\",\"#e377c2\",\"#7f7f7f\",\"#7f7f7f\",\"#7f7f7f\",\"#7f7f7f\",\"#7f7f7f\",\"#7f7f7f\",\"#7f7f7f\",\"#7f7f7f\",\"#7f7f7f\",\"#7f7f7f\",\"#7f7f7f\",\"#7f7f7f\",\"#7f7f7f\",\"#7f7f7f\",\"#7f7f7f\",\"#7f7f7f\",\"#7f7f7f\",\"#7f7f7f\",\"#7f7f7f\",\"#7f7f7f\",\"#7f7f7f\",\"#7f7f7f\",\"#7f7f7f\",\"#7f7f7f\",\"#7f7f7f\",\"#7f7f7f\",\"#bcbd22\",\"#bcbd22\",\"#bcbd22\",\"#bcbd22\",\"#bcbd22\",\"#bcbd22\",\"#bcbd22\",\"#bcbd22\",\"#bcbd22\",\"#bcbd22\",\"#bcbd22\",\"#bcbd22\",\"#bcbd22\",\"#bcbd22\",\"#bcbd22\",\"#bcbd22\",\"#bcbd22\",\"#bcbd22\",\"#bcbd22\",\"#bcbd22\",\"#bcbd22\",\"#bcbd22\",\"#bcbd22\",\"#bcbd22\",\"#bcbd22\",\"#17becf\",\"#17becf\",\"#17becf\",\"#17becf\",\"#17becf\",\"#17becf\",\"#17becf\",\"#17becf\",\"#17becf\",\"#17becf\",\"#17becf\",\"#17becf\",\"#17becf\",\"#17becf\",\"#17becf\",\"#17becf\",\"#17becf\",\"#17becf\",\"#17becf\",\"#17becf\",\"#17becf\",\"#17becf\",\"#17becf\",\"#17becf\",\"#17becf\",\"#17becf\"]},\"id\":\"1442\",\"type\":\"LinearColorMapper\"},{\"attributes\":{\"axis_label\":\"code\",\"bounds\":\"auto\",\"formatter\":{\"id\":\"1440\"},\"major_label_orientation\":\"horizontal\",\"ticker\":{\"id\":\"1420\"},\"visible\":false},\"id\":\"1419\",\"type\":\"LinearAxis\"},{\"attributes\":{},\"id\":\"1427\",\"type\":\"ResetTool\"},{\"attributes\":{\"angle\":{\"units\":\"rad\",\"value\":1.5707963267948966},\"fill_alpha\":{\"value\":1},\"fill_color\":{\"field\":\"color\",\"transform\":{\"id\":\"1473\"}},\"line_alpha\":{\"value\":1},\"line_color\":{\"field\":\"color\",\"transform\":{\"id\":\"1473\"}},\"marker\":{\"value\":\"dash\"},\"size\":{\"units\":\"screen\",\"value\":14.142135623730951},\"x\":{\"field\":\"timeStamp\"},\"y\":{\"field\":\"code\"}},\"id\":\"1478\",\"type\":\"Scatter\"},{\"attributes\":{\"source\":{\"id\":\"1443\"}},\"id\":\"1452\",\"type\":\"CDSView\"},{\"attributes\":{},\"id\":\"1440\",\"type\":\"BasicTickFormatter\"},{\"attributes\":{},\"id\":\"1444\",\"type\":\"Selection\"},{\"attributes\":{\"axis_label\":\"timeStamp\",\"bounds\":\"auto\",\"formatter\":{\"id\":\"1438\"},\"major_label_orientation\":\"horizontal\",\"ticker\":{\"id\":\"1416\"}},\"id\":\"1415\",\"type\":\"DatetimeAxis\"},{\"attributes\":{\"days\":[1,4,7,10,13,16,19,22,25,28]},\"id\":\"1462\",\"type\":\"DaysTicker\"},{\"attributes\":{},\"id\":\"1523\",\"type\":\"UnionRenderers\"},{\"attributes\":{\"months\":[0,4,8]},\"id\":\"1467\",\"type\":\"MonthsTicker\"},{\"attributes\":{\"data_source\":{\"id\":\"1443\"},\"glyph\":{\"id\":\"1446\"},\"hover_glyph\":{\"id\":\"1449\"},\"muted_glyph\":{\"id\":\"1450\"},\"nonselection_glyph\":{\"id\":\"1447\"},\"selection_glyph\":{\"id\":\"1448\"},\"view\":{\"id\":\"1452\"}},\"id\":\"1451\",\"type\":\"GlyphRenderer\"},{\"attributes\":{\"months\":[0,2,4,6,8,10]},\"id\":\"1466\",\"type\":\"MonthsTicker\"},{\"attributes\":{\"angle\":{\"units\":\"rad\",\"value\":1.5707963267948966},\"fill_alpha\":{\"value\":0.1},\"fill_color\":{\"field\":\"color\",\"transform\":{\"id\":\"1442\"}},\"line_alpha\":{\"value\":0.1},\"line_color\":{\"field\":\"color\",\"transform\":{\"id\":\"1442\"}},\"marker\":{\"value\":\"dash\"},\"size\":{\"units\":\"screen\",\"value\":14.142135623730951},\"x\":{\"field\":\"timeStamp\"},\"y\":{\"field\":\"code\"}},\"id\":\"1450\",\"type\":\"Scatter\"},{\"attributes\":{\"angle\":{\"units\":\"rad\",\"value\":1.5707963267948966},\"fill_color\":{\"field\":\"color\",\"transform\":{\"id\":\"1442\"}},\"line_color\":{\"field\":\"color\",\"transform\":{\"id\":\"1442\"}},\"marker\":{\"value\":\"dash\"},\"size\":{\"units\":\"screen\",\"value\":14.142135623730951},\"x\":{\"field\":\"timeStamp\"},\"y\":{\"field\":\"code\"}},\"id\":\"1448\",\"type\":\"Scatter\"},{\"attributes\":{\"data\":{\"code\":{\"__ndarray__\":\"AgICAgICAgICAgICAgICAgICAgICAgICAgICAgICAgICAgICAgICAgICAgICAgICAgICAgICAgICAgICAgICAgICAgICAgICAgICAgICAgICAgICAgICAgICAgICAgICAgICAgICAgICAgICAgICAgICAgICAgICAgICAgICAgICAgICAgICAgICAgICAgICAgICAgICAgICAgICAgICAgICAgICAgICAgICAgICAgICAgICAgICAgICAgICAgICAgICAgICAgICAgICAgICAgICAgICAgICAgICAgICAgICAgICAgICAgICAgICAgICAgICAgICAgICAgICAgICAgICAgICAgICAgICAgICAgICAgICAgICAgICAgICAgICAgICAgICAgICAgICAgICAgICAgICAgICAgICAgICAgICAgICAgICAgICAgICAgICAgICAgICAgICAgICAgICAgICAgICAgICAgICAgICAgICAgICAgICAgICAgICAgICAgICAgICAgICAgICAgICAgICAgICAgICAgICAgICAgICAgICAgICAgICAgICAgICAgICAgICAgICAgICAgICAgICAgICAgICAgICAgICAgICAgICAgICAgICAgICAgICAgICAgICAgICAgICAgICAgICAgICAgICAgICAgICAgICAgICAgICAgICAgICAgICAgICAgICAgICAgICAgICAgICAgICAgICAgICAgICAgICAgICAgICAgICAgICAgICAgICAgICAgICAgICAgICAgIC\",\"dtype\":\"int8\",\"shape\":[594]},\"color\":{\"__ndarray__\":\"AgICAgICAgICAgICAgICAgICAgICAgICAgICAgICAgICAgICAgICAgICAgICAgICAgICAgICAgICAgICAgICAgICAgICAgICAgICAgICAgICAgICAgICAgICAgICAgICAgICAgICAgICAgICAgICAgICAgICAgICAgICAgICAgICAgICAgICAgICAgICAgICAgICAgICAgICAgICAgICAgICAgICAgICAgICAgICAgICAgICAgICAgICAgICAgICAgICAgICAgICAgICAgICAgICAgICAgICAgICAgICAgICAgICAgICAgICAgICAgICAgICAgICAgICAgICAgICAgICAgICAgICAgICAgICAgICAgICAgICAgICAgICAgICAgICAgICAgICAgICAgICAgICAgICAgICAgICAgICAgICAgICAgICAgICAgICAgICAgICAgICAgICAgICAgICAgICAgICAgICAgICAgICAgICAgICAgICAgICAgICAgICAgICAgICAgICAgICAgICAgICAgICAgICAgICAgICAgICAgICAgICAgICAgICAgICAgICAgICAgICAgICAgICAgICAgICAgICAgICAgICAgICAgICAgICAgICAgICAgICAgICAgICAgICAgICAgICAgICAgICAgICAgICAgICAgICAgICAgICAgICAgICAgICAgICAgICAgICAgICAgICAgICAgICAgICAgICAgICAgICAgICAgICAgICAgICAgICAgICAgICAgICAgICAgICAgIC\",\"dtype\":\"int8\",\"shape\":[594]},\"relativeOrbit\":[149,149,149,149,149,149,149,149,149,149,149,149,149,149,149,149,149,149,149,149,149,149,149,149,149,149,149,149,149,149,149,149,149,149,149,149,149,149,149,149,149,149,149,149,149,149,149,149,149,149,149,149,149,149,149,149,149,149,149,149,149,149,149,149,149,149,149,149,149,149,149,149,149,149,149,149,149,149,149,149,149,149,149,149,149,149,149,149,149,149,149,149,149,149,149,149,149,149,149,149,149,149,149,149,149,149,149,149,149,149,149,149,149,149,149,149,149,149,149,149,149,149,149,149,149,149,149,149,149,149,149,149,149,149,149,149,149,149,149,149,149,149,149,149,149,149,149,149,149,149,149,149,149,149,149,149,149,149,149,149,149,149,149,149,149,149,149,149,149,149,149,149,149,149,149,149,149,149,149,149,149,149,149,149,149,149,149,149,149,149,149,149,149,149,149,149,149,149,149,149,149,149,149,149,149,149,149,149,149,149,149,149,149,149,149,149,149,149,149,149,149,149,149,149,149,149,149,149,149,149,149,149,149,149,149,149,149,149,149,149,149,149,149,149,149,149,149,149,149,149,149,149,149,149,149,149,149,149,149,149,149,149,149,149,149,149,149,149,149,149,149,149,149,149,149,149,149,149,149,149,149,149,149,149,149,149,149,149,149,149,149,149,149,149,149,149,149,149,149,149,149,149,149,149,149,149,149,149,149,149,149,149,149,149,149,149,149,149,149,149,149,149,149,149,149,149,149,149,149,149,149,149,149,149,149,149,149,149,149,149,149,149,149,149,149,149,149,149,149,149,149,149,149,149,149,149,149,149,149,149,149,149,149,149,149,149,149,149,149,149,149,149,149,149,149,149,149,149,149,149,149,149,149,149,149,149,149,149,149,149,149,149,149,149,149,149,149,149,149,149,149,149,149,149,149,149,149,149,149,149,149,149,149,149,149,149,149,149,149,149,149,149,149,149,149,149,149,149,149,149,149,149,149,149,149,149,149,149,149,149,149,149,149,149,149,149,149,149,149,149,149,149,149,149,149,149,149,149,149,149,149,149,149,149,149,149,149,149,149,149,149,149,149,149,149,149,149,149,149,149,149,149,149,149,149,149,149,149,149,149,149,149,149,149,149,149,149,149,149,149,149,149,149,149,149,149,149,149,149,149,149,149,149,149,149,149,149,149,149,149,149,149,149,149,149,149,149,149,149,149,149,149,149,149,149,149,149,149,149,149,149,149,149,149,149,149,149,149,149,149,149,149,149,149,149,149,149,149,149,149,149,149,149,149,149,149,149,149,149,149,149,149,149,149,149,149,149,149,149,149,149,149,149,149,149,149,149,149,149,149,149,149,149,149],\"timeStamp\":{\"__ndarray__\":\"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\",\"dtype\":\"float64\",\"shape\":[594]}},\"selected\":{\"id\":\"1507\"},\"selection_policy\":{\"id\":\"1559\"}},\"id\":\"1506\",\"type\":\"ColumnDataSource\"},{\"attributes\":{\"angle\":{\"units\":\"rad\",\"value\":1.5707963267948966},\"fill_color\":{\"field\":\"color\",\"transform\":{\"id\":\"1539\"}},\"line_color\":{\"field\":\"color\",\"transform\":{\"id\":\"1539\"}},\"marker\":{\"value\":\"dash\"},\"size\":{\"units\":\"screen\",\"value\":14.142135623730951},\"x\":{\"field\":\"timeStamp\"},\"y\":{\"field\":\"code\"}},\"id\":\"1545\",\"type\":\"Scatter\"},{\"attributes\":{\"angle\":{\"units\":\"rad\",\"value\":1.5707963267948966},\"fill_color\":{\"field\":\"color\",\"transform\":{\"id\":\"1473\"}},\"line_color\":{\"field\":\"color\",\"transform\":{\"id\":\"1473\"}},\"marker\":{\"value\":\"dash\"},\"size\":{\"units\":\"screen\",\"value\":14.142135623730951},\"x\":{\"field\":\"timeStamp\"},\"y\":{\"field\":\"code\"}},\"id\":\"1477\",\"type\":\"Scatter\"},{\"attributes\":{\"data\":{\"code\":{\"__ndarray__\":\"AQEBAQEBAQEBAQEBAQEBAQEBAQEBAQEBAQEBAQEBAQEBAQEBAQEBAQEBAQEBAQEBAQEBAQEBAQEBAQEBAQEBAQEBAQEBAQEBAQEBAQEBAQEBAQEBAQEBAQEBAQEBAQEBAQEBAQEBAQEBAQEBAQEBAQEBAQEBAQEBAQEBAQEBAQEBAQEBAQEBAQEBAQEBAQEBAQEBAQEBAQEBAQEBAQEBAQEBAQEBAQEBAQEBAQEBAQEBAQEBAQEBAQEBAQEBAQEBAQEBAQEBAQEBAQEBAQEBAQEBAQEBAQEBAQEBAQEBAQEBAQEBAQEBAQEBAQEBAQEBAQEBAQEBAQEBAQEBAQEBAQEBAQEBAQEBAQEBAQEBAQEBAQEBAQEBAQEBAQEBAQEBAQEBAQEBAQEBAQEBAQEBAQEBAQEBAQEBAQEBAQEBAQEBAQEBAQEBAQEBAQEBAQEBAQEBAQEBAQEBAQEBAQEBAQEBAQEBAQEBAQEBAQEBAQEBAQEBAQEBAQEBAQEBAQEBAQEB\",\"dtype\":\"int8\",\"shape\":[387]},\"color\":{\"__ndarray__\":\"AQEBAQEBAQEBAQEBAQEBAQEBAQEBAQEBAQEBAQEBAQEBAQEBAQEBAQEBAQEBAQEBAQEBAQEBAQEBAQEBAQEBAQEBAQEBAQEBAQEBAQEBAQEBAQEBAQEBAQEBAQEBAQEBAQEBAQEBAQEBAQEBAQEBAQEBAQEBAQEBAQEBAQEBAQEBAQEBAQEBAQEBAQEBAQEBAQEBAQEBAQEBAQEBAQEBAQEBAQEBAQEBAQEBAQEBAQEBAQEBAQEBAQEBAQEBAQEBAQEBAQEBAQEBAQEBAQEBAQEBAQEBAQEBAQEBAQEBAQEBAQEBAQEBAQEBAQEBAQEBAQEBAQEBAQEBAQEBAQEBAQEBAQEBAQEBAQEBAQEBAQEBAQEBAQEBAQEBAQEBAQEBAQEBAQEBAQEBAQEBAQEBAQEBAQEBAQEBAQEBAQEBAQEBAQEBAQEBAQEBAQEBAQEBAQEBAQEBAQEBAQEBAQEBAQEBAQEBAQEBAQEBAQEBAQEBAQEBAQEBAQEBAQEBAQEBAQEB\",\"dtype\":\"int8\",\"shape\":[387]},\"relativeOrbit\":[83,83,83,83,83,83,83,83,83,83,83,83,83,83,83,83,83,83,83,83,83,83,83,83,83,83,83,83,83,83,83,83,83,83,83,83,83,83,83,83,83,83,83,83,83,83,83,83,83,83,83,83,83,83,83,83,83,83,83,83,83,83,83,83,83,83,83,83,83,83,83,83,83,83,83,83,83,83,83,83,83,83,83,83,83,83,83,83,83,83,83,83,83,83,83,83,83,83,83,83,83,83,83,83,83,83,83,83,83,83,83,83,83,83,83,83,83,83,83,83,83,83,83,83,83,83,83,83,83,83,83,83,83,83,83,83,83,83,83,83,83,83,83,83,83,83,83,83,83,83,83,83,83,83,83,83,83,83,83,83,83,83,83,83,83,83,83,83,83,83,83,83,83,83,83,83,83,83,83,83,83,83,83,83,83,83,83,83,83,83,83,83,83,83,83,83,83,83,83,83,83,83,83,83,83,83,83,83,83,83,83,83,83,83,83,83,83,83,83,83,83,83,83,83,83,83,83,83,83,83,83,83,83,83,83,83,83,83,83,83,83,83,83,83,83,83,83,83,83,83,83,83,83,83,83,83,83,83,83,83,83,83,83,83,83,83,83,83,83,83,83,83,83,83,83,83,83,83,83,83,83,83,83,83,83,83,83,83,83,83,83,83,83,83,83,83,83,83,83,83,83,83,83,83,83,83,83,83,83,83,83,83,83,83,83,83,83,83,83,83,83,83,83,83,83,83,83,83,83,83,83,83,83,83,83,83,83,83,83,83,83,83,83,83,83,83,83,83,83,83,83,83,83,83,83,83,83,83,83,83,83,83,83,83,83,83,83,83,83,83,83,83,83,83,83,83,83,83,83,83,83,83,83,83,83,83,83],\"timeStamp\":{\"__ndarray__\":\"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\",\"dtype\":\"float64\",\"shape\":[387]}},\"selected\":{\"id\":\"1475\"},\"selection_policy\":{\"id\":\"1523\"}},\"id\":\"1474\",\"type\":\"ColumnDataSource\"},{\"attributes\":{},\"id\":\"1489\",\"type\":\"UnionRenderers\"},{\"attributes\":{\"days\":[1,8,15,22]},\"id\":\"1463\",\"type\":\"DaysTicker\"},{\"attributes\":{\"angle\":{\"units\":\"rad\",\"value\":1.5707963267948966},\"fill_alpha\":{\"value\":0.1},\"fill_color\":{\"field\":\"color\",\"transform\":{\"id\":\"1473\"}},\"line_alpha\":{\"value\":0.1},\"line_color\":{\"field\":\"color\",\"transform\":{\"id\":\"1473\"}},\"marker\":{\"value\":\"dash\"},\"size\":{\"units\":\"screen\",\"value\":14.142135623730951},\"x\":{\"field\":\"timeStamp\"},\"y\":{\"field\":\"code\"}},\"id\":\"1481\",\"type\":\"Scatter\"},{\"attributes\":{\"angle\":{\"units\":\"rad\",\"value\":1.5707963267948966},\"fill_color\":{\"field\":\"color\",\"transform\":{\"id\":\"1539\"}},\"line_color\":{\"field\":\"color\",\"transform\":{\"id\":\"1539\"}},\"marker\":{\"value\":\"dash\"},\"size\":{\"units\":\"screen\",\"value\":14.142135623730951},\"x\":{\"field\":\"timeStamp\"},\"y\":{\"field\":\"code\"}},\"id\":\"1546\",\"type\":\"Scatter\"},{\"attributes\":{\"end\":1593181379575.0,\"reset_end\":1593181379575.0,\"reset_start\":1406957450425.0,\"start\":1406957450425.0,\"tags\":[[[\"timeStamp\",\"timeStamp\",null]]]},\"id\":\"1398\",\"type\":\"Range1d\"},{\"attributes\":{\"high\":3.0,\"low\":1.0,\"palette\":[\"#1f77b4\",\"#1f77b4\",\"#1f77b4\",\"#1f77b4\",\"#1f77b4\",\"#1f77b4\",\"#1f77b4\",\"#1f77b4\",\"#1f77b4\",\"#1f77b4\",\"#1f77b4\",\"#1f77b4\",\"#1f77b4\",\"#1f77b4\",\"#1f77b4\",\"#1f77b4\",\"#1f77b4\",\"#1f77b4\",\"#1f77b4\",\"#1f77b4\",\"#1f77b4\",\"#1f77b4\",\"#1f77b4\",\"#1f77b4\",\"#1f77b4\",\"#1f77b4\",\"#ff7f0e\",\"#ff7f0e\",\"#ff7f0e\",\"#ff7f0e\",\"#ff7f0e\",\"#ff7f0e\",\"#ff7f0e\",\"#ff7f0e\",\"#ff7f0e\",\"#ff7f0e\",\"#ff7f0e\",\"#ff7f0e\",\"#ff7f0e\",\"#ff7f0e\",\"#ff7f0e\",\"#ff7f0e\",\"#ff7f0e\",\"#ff7f0e\",\"#ff7f0e\",\"#ff7f0e\",\"#ff7f0e\",\"#ff7f0e\",\"#ff7f0e\",\"#ff7f0e\",\"#ff7f0e\",\"#ff7f0e\",\"#2ca02c\",\"#2ca02c\",\"#2ca02c\",\"#2ca02c\",\"#2ca02c\",\"#2ca02c\",\"#2ca02c\",\"#2ca02c\",\"#2ca02c\",\"#2ca02c\",\"#2ca02c\",\"#2ca02c\",\"#2ca02c\",\"#2ca02c\",\"#2ca02c\",\"#2ca02c\",\"#2ca02c\",\"#2ca02c\",\"#2ca02c\",\"#2ca02c\",\"#2ca02c\",\"#2ca02c\",\"#2ca02c\",\"#2ca02c\",\"#2ca02c\",\"#d62728\",\"#d62728\",\"#d62728\",\"#d62728\",\"#d62728\",\"#d62728\",\"#d62728\",\"#d62728\",\"#d62728\",\"#d62728\",\"#d62728\",\"#d62728\",\"#d62728\",\"#d62728\",\"#d62728\",\"#d62728\",\"#d62728\",\"#d62728\",\"#d62728\",\"#d62728\",\"#d62728\",\"#d62728\",\"#d62728\",\"#d62728\",\"#d62728\",\"#d62728\",\"#9467bd\",\"#9467bd\",\"#9467bd\",\"#9467bd\",\"#9467bd\",\"#9467bd\",\"#9467bd\",\"#9467bd\",\"#9467bd\",\"#9467bd\",\"#9467bd\",\"#9467bd\",\"#9467bd\",\"#9467bd\",\"#9467bd\",\"#9467bd\",\"#9467bd\",\"#9467bd\",\"#9467bd\",\"#9467bd\",\"#9467bd\",\"#9467bd\",\"#9467bd\",\"#9467bd\",\"#9467bd\",\"#8c564b\",\"#8c564b\",\"#8c564b\",\"#8c564b\",\"#8c564b\",\"#8c564b\",\"#8c564b\",\"#8c564b\",\"#8c564b\",\"#8c564b\",\"#8c564b\",\"#8c564b\",\"#8c564b\",\"#8c564b\",\"#8c564b\",\"#8c564b\",\"#8c564b\",\"#8c564b\",\"#8c564b\",\"#8c564b\",\"#8c564b\",\"#8c564b\",\"#8c564b\",\"#8c564b\",\"#8c564b\",\"#8c564b\",\"#e377c2\",\"#e377c2\",\"#e377c2\",\"#e377c2\",\"#e377c2\",\"#e377c2\",\"#e377c2\",\"#e377c2\",\"#e377c2\",\"#e377c2\",\"#e377c2\",\"#e377c2\",\"#e377c2\",\"#e377c2\",\"#e377c2\",\"#e377c2\",\"#e377c2\",\"#e377c2\",\"#e377c2\",\"#e377c2\",\"#e377c2\",\"#e377c2\",\"#e377c2\",\"#e377c2\",\"#e377c2\",\"#7f7f7f\",\"#7f7f7f\",\"#7f7f7f\",\"#7f7f7f\",\"#7f7f7f\",\"#7f7f7f\",\"#7f7f7f\",\"#7f7f7f\",\"#7f7f7f\",\"#7f7f7f\",\"#7f7f7f\",\"#7f7f7f\",\"#7f7f7f\",\"#7f7f7f\",\"#7f7f7f\",\"#7f7f7f\",\"#7f7f7f\",\"#7f7f7f\",\"#7f7f7f\",\"#7f7f7f\",\"#7f7f7f\",\"#7f7f7f\",\"#7f7f7f\",\"#7f7f7f\",\"#7f7f7f\",\"#7f7f7f\",\"#bcbd22\",\"#bcbd22\",\"#bcbd22\",\"#bcbd22\",\"#bcbd22\",\"#bcbd22\",\"#bcbd22\",\"#bcbd22\",\"#bcbd22\",\"#bcbd22\",\"#bcbd22\",\"#bcbd22\",\"#bcbd22\",\"#bcbd22\",\"#bcbd22\",\"#bcbd22\",\"#bcbd22\",\"#bcbd22\",\"#bcbd22\",\"#bcbd22\",\"#bcbd22\",\"#bcbd22\",\"#bcbd22\",\"#bcbd22\",\"#bcbd22\",\"#17becf\",\"#17becf\",\"#17becf\",\"#17becf\",\"#17becf\",\"#17becf\",\"#17becf\",\"#17becf\",\"#17becf\",\"#17becf\",\"#17becf\",\"#17becf\",\"#17becf\",\"#17becf\",\"#17becf\",\"#17becf\",\"#17becf\",\"#17becf\",\"#17becf\",\"#17becf\",\"#17becf\",\"#17becf\",\"#17becf\",\"#17becf\",\"#17becf\",\"#17becf\"]},\"id\":\"1505\",\"type\":\"LinearColorMapper\"},{\"attributes\":{\"angle\":{\"units\":\"rad\",\"value\":1.5707963267948966},\"fill_color\":{\"field\":\"color\",\"transform\":{\"id\":\"1473\"}},\"line_color\":{\"field\":\"color\",\"transform\":{\"id\":\"1473\"}},\"marker\":{\"value\":\"dash\"},\"size\":{\"units\":\"screen\",\"value\":14.142135623730951},\"x\":{\"field\":\"timeStamp\"},\"y\":{\"field\":\"code\"}},\"id\":\"1480\",\"type\":\"Scatter\"},{\"attributes\":{\"margin\":[5,5,5,5],\"name\":\"HSpacer04502\",\"sizing_mode\":\"stretch_width\"},\"id\":\"1395\",\"type\":\"Spacer\"},{\"attributes\":{\"margin\":[5,5,5,5],\"name\":\"HSpacer04503\",\"sizing_mode\":\"stretch_width\"},\"id\":\"1783\",\"type\":\"Spacer\"},{\"attributes\":{\"angle\":{\"units\":\"rad\",\"value\":1.5707963267948966},\"fill_alpha\":{\"value\":0.1},\"fill_color\":{\"field\":\"color\",\"transform\":{\"id\":\"1539\"}},\"line_alpha\":{\"value\":0.1},\"line_color\":{\"field\":\"color\",\"transform\":{\"id\":\"1539\"}},\"marker\":{\"value\":\"dash\"},\"size\":{\"units\":\"screen\",\"value\":14.142135623730951},\"x\":{\"field\":\"timeStamp\"},\"y\":{\"field\":\"code\"}},\"id\":\"1547\",\"type\":\"Scatter\"},{\"attributes\":{\"source\":{\"id\":\"1474\"}},\"id\":\"1483\",\"type\":\"CDSView\"},{\"attributes\":{\"label\":{\"value\":\"83\"},\"renderers\":[{\"id\":\"1482\"}]},\"id\":\"1504\",\"type\":\"LegendItem\"},{\"attributes\":{\"data_source\":{\"id\":\"1474\"},\"glyph\":{\"id\":\"1477\"},\"hover_glyph\":{\"id\":\"1480\"},\"muted_glyph\":{\"id\":\"1481\"},\"nonselection_glyph\":{\"id\":\"1478\"},\"selection_glyph\":{\"id\":\"1479\"},\"view\":{\"id\":\"1483\"}},\"id\":\"1482\",\"type\":\"GlyphRenderer\"},{\"attributes\":{},\"id\":\"1507\",\"type\":\"Selection\"},{\"attributes\":{\"angle\":{\"units\":\"rad\",\"value\":1.5707963267948966},\"fill_color\":{\"field\":\"color\",\"transform\":{\"id\":\"1442\"}},\"line_color\":{\"field\":\"color\",\"transform\":{\"id\":\"1442\"}},\"marker\":{\"value\":\"dash\"},\"size\":{\"units\":\"screen\",\"value\":14.142135623730951},\"x\":{\"field\":\"timeStamp\"},\"y\":{\"field\":\"code\"}},\"id\":\"1449\",\"type\":\"Scatter\"},{\"attributes\":{},\"id\":\"1475\",\"type\":\"Selection\"},{\"attributes\":{\"text\":\"Sentinel-1 Tracks\",\"text_color\":{\"value\":\"black\"},\"text_font_size\":{\"value\":\"12pt\"}},\"id\":\"1407\",\"type\":\"Title\"},{\"attributes\":{\"click_policy\":\"mute\",\"items\":[{\"id\":\"1472\"},{\"id\":\"1504\"},{\"id\":\"1538\"},{\"id\":\"1574\"}],\"location\":[0,0],\"title\":\"relativeOrbit\"},\"id\":\"1471\",\"type\":\"Legend\"},{\"attributes\":{\"angle\":{\"units\":\"rad\",\"value\":1.5707963267948966},\"fill_color\":{\"field\":\"color\",\"transform\":{\"id\":\"1473\"}},\"line_color\":{\"field\":\"color\",\"transform\":{\"id\":\"1473\"}},\"marker\":{\"value\":\"dash\"},\"size\":{\"units\":\"screen\",\"value\":14.142135623730951},\"x\":{\"field\":\"timeStamp\"},\"y\":{\"field\":\"code\"}},\"id\":\"1479\",\"type\":\"Scatter\"},{\"attributes\":{},\"id\":\"1586\",\"type\":\"UnionRenderers\"},{\"attributes\":{},\"id\":\"1425\",\"type\":\"WheelZoomTool\"},{\"attributes\":{\"active_drag\":\"auto\",\"active_inspect\":\"auto\",\"active_multi\":null,\"active_scroll\":\"auto\",\"active_tap\":\"auto\",\"tools\":[{\"id\":\"1400\"},{\"id\":\"1423\"},{\"id\":\"1424\"},{\"id\":\"1425\"},{\"id\":\"1426\"},{\"id\":\"1427\"}]},\"id\":\"1429\",\"type\":\"Toolbar\"},{\"attributes\":{\"months\":[0,6]},\"id\":\"1468\",\"type\":\"MonthsTicker\"},{\"attributes\":{\"days\":[1,15]},\"id\":\"1464\",\"type\":\"DaysTicker\"},{\"attributes\":{},\"id\":\"1413\",\"type\":\"LinearScale\"},{\"attributes\":{\"data\":{\"code\":{\"__ndarray__\":\"AAAAAAAAAAAAAAAAAAAAAAAAAAAAAAAAAAAAAAAAAAAAAAAAAAAAAAAAAAAAAAAAAAAAAAAAAAAAAAAAAAAAAAAAAAAAAAAAAAAAAAAAAAAAAAAAAAAAAAAAAAAAAAAAAAAAAAAAAAAAAAAAAAAAAAAAAAAAAAAAAAAAAAAAAAAAAAAAAAAAAAAAAAAAAAAAAAAAAAAAAAAAAAAAAAAAAAAAAAAAAAAAAAAAAAAAAAAAAAAAAAAAAAAAAAAAAAAAAAAAAAAAAAAAAAAAAAAAAAAAAAAAAAAAAAAAAAAAAAAAAAAAAAAAAAAAAAAAAAAAAAAAAAAAAAAAAAAAAAAAAAAAAAAAAAAAAAAAAAAAAAAAAAAAAAAAAAAAAAAAAAAAAAAAAAAAAAAAAAAAAAAAAAAAAAAAAAAAAAAAAAAAAAAAAAAAAAAAAAAAAAAAAAAAAAAAAAAAAAAAAAAAAAAAAAAAAAAAAAAAAAAAAAAAAAAAAAAAAAAAAAAAAAAAAAAAAAAAAAAAAAAAAAAAAAAAAAAAAAAAAAAAAAAAAAAAAAAAAAAAAAAAAAAAAAAAAAAAAAAAAAAAAAAAAAAAAAAAAAAAAAAAAAAAAAAAAAAAAAAAAAAAAAAAAAAAAAAAAAAAAAAAAAAAAAAAAAAAAAAAAA==\",\"dtype\":\"int8\",\"shape\":[496]},\"color\":{\"__ndarray__\":\"AAAAAAAAAAAAAAAAAAAAAAAAAAAAAAAAAAAAAAAAAAAAAAAAAAAAAAAAAAAAAAAAAAAAAAAAAAAAAAAAAAAAAAAAAAAAAAAAAAAAAAAAAAAAAAAAAAAAAAAAAAAAAAAAAAAAAAAAAAAAAAAAAAAAAAAAAAAAAAAAAAAAAAAAAAAAAAAAAAAAAAAAAAAAAAAAAAAAAAAAAAAAAAAAAAAAAAAAAAAAAAAAAAAAAAAAAAAAAAAAAAAAAAAAAAAAAAAAAAAAAAAAAAAAAAAAAAAAAAAAAAAAAAAAAAAAAAAAAAAAAAAAAAAAAAAAAAAAAAAAAAAAAAAAAAAAAAAAAAAAAAAAAAAAAAAAAAAAAAAAAAAAAAAAAAAAAAAAAAAAAAAAAAAAAAAAAAAAAAAAAAAAAAAAAAAAAAAAAAAAAAAAAAAAAAAAAAAAAAAAAAAAAAAAAAAAAAAAAAAAAAAAAAAAAAAAAAAAAAAAAAAAAAAAAAAAAAAAAAAAAAAAAAAAAAAAAAAAAAAAAAAAAAAAAAAAAAAAAAAAAAAAAAAAAAAAAAAAAAAAAAAAAAAAAAAAAAAAAAAAAAAAAAAAAAAAAAAAAAAAAAAAAAAAAAAAAAAAAAAAAAAAAAAAAAAAAAAAAAAAAAAAAAAAAAAAAAAAAAAAAA==\",\"dtype\":\"int8\",\"shape\":[496]},\"relativeOrbit\":[76,76,76,76,76,76,76,76,76,76,76,76,76,76,76,76,76,76,76,76,76,76,76,76,76,76,76,76,76,76,76,76,76,76,76,76,76,76,76,76,76,76,76,76,76,76,76,76,76,76,76,76,76,76,76,76,76,76,76,76,76,76,76,76,76,76,76,76,76,76,76,76,76,76,76,76,76,76,76,76,76,76,76,76,76,76,76,76,76,76,76,76,76,76,76,76,76,76,76,76,76,76,76,76,76,76,76,76,76,76,76,76,76,76,76,76,76,76,76,76,76,76,76,76,76,76,76,76,76,76,76,76,76,76,76,76,76,76,76,76,76,76,76,76,76,76,76,76,76,76,76,76,76,76,76,76,76,76,76,76,76,76,76,76,76,76,76,76,76,76,76,76,76,76,76,76,76,76,76,76,76,76,76,76,76,76,76,76,76,76,76,76,76,76,76,76,76,76,76,76,76,76,76,76,76,76,76,76,76,76,76,76,76,76,76,76,76,76,76,76,76,76,76,76,76,76,76,76,76,76,76,76,76,76,76,76,76,76,76,76,76,76,76,76,76,76,76,76,76,76,76,76,76,76,76,76,76,76,76,76,76,76,76,76,76,76,76,76,76,76,76,76,76,76,76,76,76,76,76,76,76,76,76,76,76,76,76,76,76,76,76,76,76,76,76,76,76,76,76,76,76,76,76,76,76,76,76,76,76,76,76,76,76,76,76,76,76,76,76,76,76,76,76,76,76,76,76,76,76,76,76,76,76,76,76,76,76,76,76,76,76,76,76,76,76,76,76,76,76,76,76,76,76,76,76,76,76,76,76,76,76,76,76,76,76,76,76,76,76,76,76,76,76,76,76,76,76,76,76,76,76,76,76,76,76,76,76,76,76,76,76,76,76,76,76,76,76,76,76,76,76,76,76,76,76,76,76,76,76,76,76,76,76,76,76,76,76,76,76,76,76,76,76,76,76,76,76,76,76,76,76,76,76,76,76,76,76,76,76,76,76,76,76,76,76,76,76,76,76,76,76,76,76,76,76,76,76,76,76,76,76,76,76,76,76,76,76,76,76,76,76,76,76,76,76,76,76,76,76,76,76,76,76,76,76,76,76,76,76,76,76,76,76,76,76,76],\"timeStamp\":{\"__ndarray__\":\"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\",\"dtype\":\"float64\",\"shape\":[496]}},\"selected\":{\"id\":\"1444\"},\"selection_policy\":{\"id\":\"1489\"}},\"id\":\"1443\",\"type\":\"ColumnDataSource\"},{\"attributes\":{\"base\":24,\"mantissas\":[1,2,4,6,8,12],\"max_interval\":43200000.0,\"min_interval\":3600000.0,\"num_minor_ticks\":0},\"id\":\"1460\",\"type\":\"AdaptiveTicker\"},{\"attributes\":{\"align\":null,\"below\":[{\"id\":\"1415\"}],\"center\":[{\"id\":\"1418\"},{\"id\":\"1422\"}],\"left\":[{\"id\":\"1419\"}],\"margin\":null,\"min_border_bottom\":10,\"min_border_left\":10,\"min_border_right\":10,\"min_border_top\":10,\"plot_height\":300,\"plot_width\":800,\"renderers\":[{\"id\":\"1451\"},{\"id\":\"1482\"},{\"id\":\"1514\"},{\"id\":\"1548\"}],\"right\":[{\"id\":\"1471\"}],\"sizing_mode\":\"fixed\",\"title\":{\"id\":\"1407\"},\"toolbar\":{\"id\":\"1429\"},\"x_range\":{\"id\":\"1398\"},\"x_scale\":{\"id\":\"1411\"},\"y_range\":{\"id\":\"1399\"},\"y_scale\":{\"id\":\"1413\"}},\"id\":\"1406\",\"subtype\":\"Figure\",\"type\":\"Plot\"},{\"attributes\":{\"angle\":{\"units\":\"rad\",\"value\":1.5707963267948966},\"fill_alpha\":{\"value\":1},\"fill_color\":{\"field\":\"color\",\"transform\":{\"id\":\"1505\"}},\"line_alpha\":{\"value\":1},\"line_color\":{\"field\":\"color\",\"transform\":{\"id\":\"1505\"}},\"marker\":{\"value\":\"dash\"},\"size\":{\"units\":\"screen\",\"value\":14.142135623730951},\"x\":{\"field\":\"timeStamp\"},\"y\":{\"field\":\"code\"}},\"id\":\"1510\",\"type\":\"Scatter\"},{\"attributes\":{\"high\":2.0,\"low\":0.0,\"palette\":[\"#1f77b4\",\"#1f77b4\",\"#1f77b4\",\"#1f77b4\",\"#1f77b4\",\"#1f77b4\",\"#1f77b4\",\"#1f77b4\",\"#1f77b4\",\"#1f77b4\",\"#1f77b4\",\"#1f77b4\",\"#1f77b4\",\"#1f77b4\",\"#1f77b4\",\"#1f77b4\",\"#1f77b4\",\"#1f77b4\",\"#1f77b4\",\"#1f77b4\",\"#1f77b4\",\"#1f77b4\",\"#1f77b4\",\"#1f77b4\",\"#1f77b4\",\"#1f77b4\",\"#ff7f0e\",\"#ff7f0e\",\"#ff7f0e\",\"#ff7f0e\",\"#ff7f0e\",\"#ff7f0e\",\"#ff7f0e\",\"#ff7f0e\",\"#ff7f0e\",\"#ff7f0e\",\"#ff7f0e\",\"#ff7f0e\",\"#ff7f0e\",\"#ff7f0e\",\"#ff7f0e\",\"#ff7f0e\",\"#ff7f0e\",\"#ff7f0e\",\"#ff7f0e\",\"#ff7f0e\",\"#ff7f0e\",\"#ff7f0e\",\"#ff7f0e\",\"#ff7f0e\",\"#ff7f0e\",\"#ff7f0e\",\"#2ca02c\",\"#2ca02c\",\"#2ca02c\",\"#2ca02c\",\"#2ca02c\",\"#2ca02c\",\"#2ca02c\",\"#2ca02c\",\"#2ca02c\",\"#2ca02c\",\"#2ca02c\",\"#2ca02c\",\"#2ca02c\",\"#2ca02c\",\"#2ca02c\",\"#2ca02c\",\"#2ca02c\",\"#2ca02c\",\"#2ca02c\",\"#2ca02c\",\"#2ca02c\",\"#2ca02c\",\"#2ca02c\",\"#2ca02c\",\"#2ca02c\",\"#d62728\",\"#d62728\",\"#d62728\",\"#d62728\",\"#d62728\",\"#d62728\",\"#d62728\",\"#d62728\",\"#d62728\",\"#d62728\",\"#d62728\",\"#d62728\",\"#d62728\",\"#d62728\",\"#d62728\",\"#d62728\",\"#d62728\",\"#d62728\",\"#d62728\",\"#d62728\",\"#d62728\",\"#d62728\",\"#d62728\",\"#d62728\",\"#d62728\",\"#d62728\",\"#9467bd\",\"#9467bd\",\"#9467bd\",\"#9467bd\",\"#9467bd\",\"#9467bd\",\"#9467bd\",\"#9467bd\",\"#9467bd\",\"#9467bd\",\"#9467bd\",\"#9467bd\",\"#9467bd\",\"#9467bd\",\"#9467bd\",\"#9467bd\",\"#9467bd\",\"#9467bd\",\"#9467bd\",\"#9467bd\",\"#9467bd\",\"#9467bd\",\"#9467bd\",\"#9467bd\",\"#9467bd\",\"#8c564b\",\"#8c564b\",\"#8c564b\",\"#8c564b\",\"#8c564b\",\"#8c564b\",\"#8c564b\",\"#8c564b\",\"#8c564b\",\"#8c564b\",\"#8c564b\",\"#8c564b\",\"#8c564b\",\"#8c564b\",\"#8c564b\",\"#8c564b\",\"#8c564b\",\"#8c564b\",\"#8c564b\",\"#8c564b\",\"#8c564b\",\"#8c564b\",\"#8c564b\",\"#8c564b\",\"#8c564b\",\"#8c564b\",\"#e377c2\",\"#e377c2\",\"#e377c2\",\"#e377c2\",\"#e377c2\",\"#e377c2\",\"#e377c2\",\"#e377c2\",\"#e377c2\",\"#e377c2\",\"#e377c2\",\"#e377c2\",\"#e377c2\",\"#e377c2\",\"#e377c2\",\"#e377c2\",\"#e377c2\",\"#e377c2\",\"#e377c2\",\"#e377c2\",\"#e377c2\",\"#e377c2\",\"#e377c2\",\"#e377c2\",\"#e377c2\",\"#7f7f7f\",\"#7f7f7f\",\"#7f7f7f\",\"#7f7f7f\",\"#7f7f7f\",\"#7f7f7f\",\"#7f7f7f\",\"#7f7f7f\",\"#7f7f7f\",\"#7f7f7f\",\"#7f7f7f\",\"#7f7f7f\",\"#7f7f7f\",\"#7f7f7f\",\"#7f7f7f\",\"#7f7f7f\",\"#7f7f7f\",\"#7f7f7f\",\"#7f7f7f\",\"#7f7f7f\",\"#7f7f7f\",\"#7f7f7f\",\"#7f7f7f\",\"#7f7f7f\",\"#7f7f7f\",\"#7f7f7f\",\"#bcbd22\",\"#bcbd22\",\"#bcbd22\",\"#bcbd22\",\"#bcbd22\",\"#bcbd22\",\"#bcbd22\",\"#bcbd22\",\"#bcbd22\",\"#bcbd22\",\"#bcbd22\",\"#bcbd22\",\"#bcbd22\",\"#bcbd22\",\"#bcbd22\",\"#bcbd22\",\"#bcbd22\",\"#bcbd22\",\"#bcbd22\",\"#bcbd22\",\"#bcbd22\",\"#bcbd22\",\"#bcbd22\",\"#bcbd22\",\"#bcbd22\",\"#17becf\",\"#17becf\",\"#17becf\",\"#17becf\",\"#17becf\",\"#17becf\",\"#17becf\",\"#17becf\",\"#17becf\",\"#17becf\",\"#17becf\",\"#17becf\",\"#17becf\",\"#17becf\",\"#17becf\",\"#17becf\",\"#17becf\",\"#17becf\",\"#17becf\",\"#17becf\",\"#17becf\",\"#17becf\",\"#17becf\",\"#17becf\",\"#17becf\",\"#17becf\"]},\"id\":\"1473\",\"type\":\"LinearColorMapper\"},{\"attributes\":{\"base\":60,\"mantissas\":[1,2,5,10,15,20,30],\"max_interval\":1800000.0,\"min_interval\":1000.0,\"num_minor_ticks\":0},\"id\":\"1459\",\"type\":\"AdaptiveTicker\"},{\"attributes\":{\"months\":[0,1,2,3,4,5,6,7,8,9,10,11]},\"id\":\"1465\",\"type\":\"MonthsTicker\"},{\"attributes\":{},\"id\":\"1541\",\"type\":\"Selection\"},{\"attributes\":{\"num_minor_ticks\":5,\"tickers\":[{\"id\":\"1458\"},{\"id\":\"1459\"},{\"id\":\"1460\"},{\"id\":\"1461\"},{\"id\":\"1462\"},{\"id\":\"1463\"},{\"id\":\"1464\"},{\"id\":\"1465\"},{\"id\":\"1466\"},{\"id\":\"1467\"},{\"id\":\"1468\"},{\"id\":\"1469\"}]},\"id\":\"1416\",\"type\":\"DatetimeTicker\"},{\"attributes\":{\"angle\":{\"units\":\"rad\",\"value\":1.5707963267948966},\"fill_alpha\":{\"value\":1},\"fill_color\":{\"field\":\"color\",\"transform\":{\"id\":\"1442\"}},\"line_alpha\":{\"value\":1},\"line_color\":{\"field\":\"color\",\"transform\":{\"id\":\"1442\"}},\"marker\":{\"value\":\"dash\"},\"size\":{\"units\":\"screen\",\"value\":14.142135623730951},\"x\":{\"field\":\"timeStamp\"},\"y\":{\"field\":\"code\"}},\"id\":\"1447\",\"type\":\"Scatter\"},{\"attributes\":{\"data_source\":{\"id\":\"1540\"},\"glyph\":{\"id\":\"1543\"},\"hover_glyph\":{\"id\":\"1546\"},\"muted_glyph\":{\"id\":\"1547\"},\"nonselection_glyph\":{\"id\":\"1544\"},\"selection_glyph\":{\"id\":\"1545\"},\"view\":{\"id\":\"1549\"}},\"id\":\"1548\",\"type\":\"GlyphRenderer\"},{\"attributes\":{\"overlay\":{\"id\":\"1428\"}},\"id\":\"1426\",\"type\":\"BoxZoomTool\"},{\"attributes\":{\"label\":{\"value\":\"76\"},\"renderers\":[{\"id\":\"1451\"}]},\"id\":\"1472\",\"type\":\"LegendItem\"},{\"attributes\":{\"data\":{\"code\":{\"__ndarray__\":\"AwMDAwMDAwMDAwMDAwMDAwMDAwMDAwMDAwMDAwMDAwMDAwMDAwMDAwMDAwMDAwMDAwMDAwMDAwMDAwMDAwMDAwMDAwMDAwMDAwMDAwMDAwMDAwMDAwMDAwMDAwMDAwMDAwMDAwMDAwMDAwMDAwMDAwMDAwMDAwMDAwMDAwMDAwMDAwMDAwMDAwMDAwMDAwMDAwMDAwMDAwMDAwMDAwMDAwMDAwMDAwMDAwMDAwMDAwMDAwMDAwMDAwMDAwMDAwMDAwMDAwMDAwMDAwMDAwMDAwMDAwMDAwMDAwMDAwMDAwMDAwMDAwMDAwMDAwMDAwMDAwMDAwMDAwMDAwMDAwMDAwMDAwMDAwMDAwMDAwMDAwMDAwMDAwMDAwMDAwMDAwMDAwMDAwMDAwMDAwMDAwMDAwMDAwMDAwMDAwMDAwMDAwMDAwMDAwMDAwMDAwMDAwMDAwMDAwMDAwMDAwMDAwMDAwMDAwMDAwMDAwMDAwMDAwMDAwMDAwMDAwMDAwMDAwMDAwMDAwMDAwMDAwMDAwMDAwMDAwMDAwMDAwMDAwMDAwMDAwMDAwMDAwMDAwMDAwMDAwMDAwMDAwMDAwMDAwMDAwMDAwMDAwMDAwMDAwMDAwMDAwMDAwMDAwMDAwMDAwMDAwMDAwMDAwMDAwMDAwMDAwMDAwMDAwMDAwMDAwMDAwMDAwMDAwMDAwMDAwMDAwMDAwMDAwMDAwMDAwMDAwMDAwMDAwMDAwMDAwMDAwMD\",\"dtype\":\"int8\",\"shape\":[558]},\"color\":{\"__ndarray__\":\"AwMDAwMDAwMDAwMDAwMDAwMDAwMDAwMDAwMDAwMDAwMDAwMDAwMDAwMDAwMDAwMDAwMDAwMDAwMDAwMDAwMDAwMDAwMDAwMDAwMDAwMDAwMDAwMDAwMDAwMDAwMDAwMDAwMDAwMDAwMDAwMDAwMDAwMDAwMDAwMDAwMDAwMDAwMDAwMDAwMDAwMDAwMDAwMDAwMDAwMDAwMDAwMDAwMDAwMDAwMDAwMDAwMDAwMDAwMDAwMDAwMDAwMDAwMDAwMDAwMDAwMDAwMDAwMDAwMDAwMDAwMDAwMDAwMDAwMDAwMDAwMDAwMDAwMDAwMDAwMDAwMDAwMDAwMDAwMDAwMDAwMDAwMDAwMDAwMDAwMDAwMDAwMDAwMDAwMDAwMDAwMDAwMDAwMDAwMDAwMDAwMDAwMDAwMDAwMDAwMDAwMDAwMDAwMDAwMDAwMDAwMDAwMDAwMDAwMDAwMDAwMDAwMDAwMDAwMDAwMDAwMDAwMDAwMDAwMDAwMDAwMDAwMDAwMDAwMDAwMDAwMDAwMDAwMDAwMDAwMDAwMDAwMDAwMDAwMDAwMDAwMDAwMDAwMDAwMDAwMDAwMDAwMDAwMDAwMDAwMDAwMDAwMDAwMDAwMDAwMDAwMDAwMDAwMDAwMDAwMDAwMDAwMDAwMDAwMDAwMDAwMDAwMDAwMDAwMDAwMDAwMDAwMDAwMDAwMDAwMDAwMDAwMDAwMDAwMDAwMDAwMDAwMDAwMDAwMDAwMDAwMD\",\"dtype\":\"int8\",\"shape\":[558]},\"relativeOrbit\":[156,156,156,156,156,156,156,156,156,156,156,156,156,156,156,156,156,156,156,156,156,156,156,156,156,156,156,156,156,156,156,156,156,156,156,156,156,156,156,156,156,156,156,156,156,156,156,156,156,156,156,156,156,156,156,156,156,156,156,156,156,156,156,156,156,156,156,156,156,156,156,156,156,156,156,156,156,156,156,156,156,156,156,156,156,156,156,156,156,156,156,156,156,156,156,156,156,156,156,156,156,156,156,156,156,156,156,156,156,156,156,156,156,156,156,156,156,156,156,156,156,156,156,156,156,156,156,156,156,156,156,156,156,156,156,156,156,156,156,156,156,156,156,156,156,156,156,156,156,156,156,156,156,156,156,156,156,156,156,156,156,156,156,156,156,156,156,156,156,156,156,156,156,156,156,156,156,156,156,156,156,156,156,156,156,156,156,156,156,156,156,156,156,156,156,156,156,156,156,156,156,156,156,156,156,156,156,156,156,156,156,156,156,156,156,156,156,156,156,156,156,156,156,156,156,156,156,156,156,156,156,156,156,156,156,156,156,156,156,156,156,156,156,156,156,156,156,156,156,156,156,156,156,156,156,156,156,156,156,156,156,156,156,156,156,156,156,156,156,156,156,156,156,156,156,156,156,156,156,156,156,156,156,156,156,156,156,156,156,156,156,156,156,156,156,156,156,156,156,156,156,156,156,156,156,156,156,156,156,156,156,156,156,156,156,156,156,156,156,156,156,156,156,156,156,156,156,156,156,156,156,156,156,156,156,156,156,156,156,156,156,156,156,156,156,156,156,156,156,156,156,156,156,156,156,156,156,156,156,156,156,156,156,156,156,156,156,156,156,156,156,156,156,156,156,156,156,156,156,156,156,156,156,156,156,156,156,156,156,156,156,156,156,156,156,156,156,156,156,156,156,156,156,156,156,156,156,156,156,156,156,156,156,156,156,156,156,156,156,156,156,156,156,156,156,156,156,156,156,156,156,156,156,156,156,156,156,156,156,156,156,156,156,156,156,156,156,156,156,156,156,156,156,156,156,156,156,156,156,156,156,156,156,156,156,156,156,156,156,156,156,156,156,156,156,156,156,156,156,156,156,156,156,156,156,156,156,156,156,156,156,156,156,156,156,156,156,156,156,156,156,156,156,156,156,156,156,156,156,156,156,156,156,156,156,156,156,156,156,156,156,156,156,156,156,156,156,156,156,156,156,156,156,156,156,156,156,156,156,156,156,156,156,156,156,156,156,156,156,156,156,156,156,156,156,156,156,156],\"timeStamp\":{\"__ndarray__\":\"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\",\"dtype\":\"float64\",\"shape\":[558]}},\"selected\":{\"id\":\"1541\"},\"selection_policy\":{\"id\":\"1586\"}},\"id\":\"1540\",\"type\":\"ColumnDataSource\"},{\"attributes\":{\"bottom_units\":\"screen\",\"fill_alpha\":0.5,\"fill_color\":\"lightgrey\",\"left_units\":\"screen\",\"level\":\"overlay\",\"line_alpha\":1.0,\"line_color\":\"black\",\"line_dash\":[4,4],\"line_width\":2,\"render_mode\":\"css\",\"right_units\":\"screen\",\"top_units\":\"screen\"},\"id\":\"1428\",\"type\":\"BoxAnnotation\"},{\"attributes\":{\"angle\":{\"units\":\"rad\",\"value\":1.5707963267948966},\"fill_color\":{\"field\":\"color\",\"transform\":{\"id\":\"1505\"}},\"line_color\":{\"field\":\"color\",\"transform\":{\"id\":\"1505\"}},\"marker\":{\"value\":\"dash\"},\"size\":{\"units\":\"screen\",\"value\":14.142135623730951},\"x\":{\"field\":\"timeStamp\"},\"y\":{\"field\":\"code\"}},\"id\":\"1509\",\"type\":\"Scatter\"},{\"attributes\":{\"angle\":{\"units\":\"rad\",\"value\":1.5707963267948966},\"fill_alpha\":{\"value\":1},\"fill_color\":{\"field\":\"color\",\"transform\":{\"id\":\"1539\"}},\"line_alpha\":{\"value\":1},\"line_color\":{\"field\":\"color\",\"transform\":{\"id\":\"1539\"}},\"marker\":{\"value\":\"dash\"},\"size\":{\"units\":\"screen\",\"value\":14.142135623730951},\"x\":{\"field\":\"timeStamp\"},\"y\":{\"field\":\"code\"}},\"id\":\"1544\",\"type\":\"Scatter\"},{\"attributes\":{\"mantissas\":[1,2,5],\"max_interval\":500.0,\"num_minor_ticks\":0},\"id\":\"1458\",\"type\":\"AdaptiveTicker\"},{\"attributes\":{},\"id\":\"1411\",\"type\":\"LinearScale\"},{\"attributes\":{\"high\":4.0,\"low\":2.0,\"palette\":[\"#1f77b4\",\"#1f77b4\",\"#1f77b4\",\"#1f77b4\",\"#1f77b4\",\"#1f77b4\",\"#1f77b4\",\"#1f77b4\",\"#1f77b4\",\"#1f77b4\",\"#1f77b4\",\"#1f77b4\",\"#1f77b4\",\"#1f77b4\",\"#1f77b4\",\"#1f77b4\",\"#1f77b4\",\"#1f77b4\",\"#1f77b4\",\"#1f77b4\",\"#1f77b4\",\"#1f77b4\",\"#1f77b4\",\"#1f77b4\",\"#1f77b4\",\"#1f77b4\",\"#ff7f0e\",\"#ff7f0e\",\"#ff7f0e\",\"#ff7f0e\",\"#ff7f0e\",\"#ff7f0e\",\"#ff7f0e\",\"#ff7f0e\",\"#ff7f0e\",\"#ff7f0e\",\"#ff7f0e\",\"#ff7f0e\",\"#ff7f0e\",\"#ff7f0e\",\"#ff7f0e\",\"#ff7f0e\",\"#ff7f0e\",\"#ff7f0e\",\"#ff7f0e\",\"#ff7f0e\",\"#ff7f0e\",\"#ff7f0e\",\"#ff7f0e\",\"#ff7f0e\",\"#ff7f0e\",\"#ff7f0e\",\"#2ca02c\",\"#2ca02c\",\"#2ca02c\",\"#2ca02c\",\"#2ca02c\",\"#2ca02c\",\"#2ca02c\",\"#2ca02c\",\"#2ca02c\",\"#2ca02c\",\"#2ca02c\",\"#2ca02c\",\"#2ca02c\",\"#2ca02c\",\"#2ca02c\",\"#2ca02c\",\"#2ca02c\",\"#2ca02c\",\"#2ca02c\",\"#2ca02c\",\"#2ca02c\",\"#2ca02c\",\"#2ca02c\",\"#2ca02c\",\"#2ca02c\",\"#d62728\",\"#d62728\",\"#d62728\",\"#d62728\",\"#d62728\",\"#d62728\",\"#d62728\",\"#d62728\",\"#d62728\",\"#d62728\",\"#d62728\",\"#d62728\",\"#d62728\",\"#d62728\",\"#d62728\",\"#d62728\",\"#d62728\",\"#d62728\",\"#d62728\",\"#d62728\",\"#d62728\",\"#d62728\",\"#d62728\",\"#d62728\",\"#d62728\",\"#d62728\",\"#9467bd\",\"#9467bd\",\"#9467bd\",\"#9467bd\",\"#9467bd\",\"#9467bd\",\"#9467bd\",\"#9467bd\",\"#9467bd\",\"#9467bd\",\"#9467bd\",\"#9467bd\",\"#9467bd\",\"#9467bd\",\"#9467bd\",\"#9467bd\",\"#9467bd\",\"#9467bd\",\"#9467bd\",\"#9467bd\",\"#9467bd\",\"#9467bd\",\"#9467bd\",\"#9467bd\",\"#9467bd\",\"#8c564b\",\"#8c564b\",\"#8c564b\",\"#8c564b\",\"#8c564b\",\"#8c564b\",\"#8c564b\",\"#8c564b\",\"#8c564b\",\"#8c564b\",\"#8c564b\",\"#8c564b\",\"#8c564b\",\"#8c564b\",\"#8c564b\",\"#8c564b\",\"#8c564b\",\"#8c564b\",\"#8c564b\",\"#8c564b\",\"#8c564b\",\"#8c564b\",\"#8c564b\",\"#8c564b\",\"#8c564b\",\"#8c564b\",\"#e377c2\",\"#e377c2\",\"#e377c2\",\"#e377c2\",\"#e377c2\",\"#e377c2\",\"#e377c2\",\"#e377c2\",\"#e377c2\",\"#e377c2\",\"#e377c2\",\"#e377c2\",\"#e377c2\",\"#e377c2\",\"#e377c2\",\"#e377c2\",\"#e377c2\",\"#e377c2\",\"#e377c2\",\"#e377c2\",\"#e377c2\",\"#e377c2\",\"#e377c2\",\"#e377c2\",\"#e377c2\",\"#7f7f7f\",\"#7f7f7f\",\"#7f7f7f\",\"#7f7f7f\",\"#7f7f7f\",\"#7f7f7f\",\"#7f7f7f\",\"#7f7f7f\",\"#7f7f7f\",\"#7f7f7f\",\"#7f7f7f\",\"#7f7f7f\",\"#7f7f7f\",\"#7f7f7f\",\"#7f7f7f\",\"#7f7f7f\",\"#7f7f7f\",\"#7f7f7f\",\"#7f7f7f\",\"#7f7f7f\",\"#7f7f7f\",\"#7f7f7f\",\"#7f7f7f\",\"#7f7f7f\",\"#7f7f7f\",\"#7f7f7f\",\"#bcbd22\",\"#bcbd22\",\"#bcbd22\",\"#bcbd22\",\"#bcbd22\",\"#bcbd22\",\"#bcbd22\",\"#bcbd22\",\"#bcbd22\",\"#bcbd22\",\"#bcbd22\",\"#bcbd22\",\"#bcbd22\",\"#bcbd22\",\"#bcbd22\",\"#bcbd22\",\"#bcbd22\",\"#bcbd22\",\"#bcbd22\",\"#bcbd22\",\"#bcbd22\",\"#bcbd22\",\"#bcbd22\",\"#bcbd22\",\"#bcbd22\",\"#17becf\",\"#17becf\",\"#17becf\",\"#17becf\",\"#17becf\",\"#17becf\",\"#17becf\",\"#17becf\",\"#17becf\",\"#17becf\",\"#17becf\",\"#17becf\",\"#17becf\",\"#17becf\",\"#17becf\",\"#17becf\",\"#17becf\",\"#17becf\",\"#17becf\",\"#17becf\",\"#17becf\",\"#17becf\",\"#17becf\",\"#17becf\",\"#17becf\",\"#17becf\"]},\"id\":\"1539\",\"type\":\"LinearColorMapper\"},{\"attributes\":{\"days\":[1,2,3,4,5,6,7,8,9,10,11,12,13,14,15,16,17,18,19,20,21,22,23,24,25,26,27,28,29,30,31]},\"id\":\"1461\",\"type\":\"DaysTicker\"},{\"attributes\":{\"children\":[{\"id\":\"1395\"},{\"id\":\"1406\"},{\"id\":\"1783\"}],\"margin\":[0,0,0,0],\"name\":\"Row04498\",\"tags\":[\"embedded\"]},\"id\":\"1394\",\"type\":\"Row\"},{\"attributes\":{\"label\":{\"value\":\"149\"},\"renderers\":[{\"id\":\"1514\"}]},\"id\":\"1538\",\"type\":\"LegendItem\"},{\"attributes\":{\"callback\":null,\"formatters\":{\"@{timeStamp}\":\"datetime\"},\"renderers\":[{\"id\":\"1451\"},{\"id\":\"1482\"},{\"id\":\"1514\"},{\"id\":\"1548\"}],\"tags\":[\"hv_created\"],\"tooltips\":[[\"relativeOrbit\",\"@{relativeOrbit}\"],[\"timeStamp\",\"@{timeStamp}{%F %T}\"],[\"code\",\"@{code}\"]]},\"id\":\"1400\",\"type\":\"HoverTool\"},{\"attributes\":{\"angle\":{\"units\":\"rad\",\"value\":1.5707963267948966},\"fill_color\":{\"field\":\"color\",\"transform\":{\"id\":\"1442\"}},\"line_color\":{\"field\":\"color\",\"transform\":{\"id\":\"1442\"}},\"marker\":{\"value\":\"dash\"},\"size\":{\"units\":\"screen\",\"value\":14.142135623730951},\"x\":{\"field\":\"timeStamp\"},\"y\":{\"field\":\"code\"}},\"id\":\"1446\",\"type\":\"Scatter\"},{\"attributes\":{},\"id\":\"1559\",\"type\":\"UnionRenderers\"}],\"root_ids\":[\"1394\"]},\"title\":\"Bokeh Application\",\"version\":\"2.0.1\"}};\n",
       "  var render_items = [{\"docid\":\"0a7ad4ec-02f7-43c6-a8a3-a76e8756fdc8\",\"root_ids\":[\"1394\"],\"roots\":{\"1394\":\"9741d775-ae7f-4456-b735-211a830bcc62\"}}];\n",
       "  root.Bokeh.embed.embed_items_notebook(docs_json, render_items);\n",
       "  }\n",
       "if (root.Bokeh !== undefined) {\n",
       "    embed_document(root);\n",
       "  } else {\n",
       "    var attempts = 0;\n",
       "    var timer = setInterval(function(root) {\n",
       "      if (root.Bokeh !== undefined) {\n",
       "        clearInterval(timer);\n",
       "        embed_document(root);\n",
       "      } else if (document.readyState == \"complete\") {\n",
       "        attempts++;\n",
       "        if (attempts > 100) {\n",
       "          clearInterval(timer);\n",
       "          console.log(\"Bokeh: ERROR: Unable to run BokehJS code because BokehJS library is missing\");\n",
       "        }\n",
       "      }\n",
       "    }, 10, root)\n",
       "  }\n",
       "})(window);</script>"
      ],
      "text/plain": [
       ":NdOverlay   [relativeOrbit]\n",
       "   :Scatter   [timeStamp]   (code)"
      ]
     },
     "execution_count": 17,
     "metadata": {
      "application/vnd.holoviews_exec.v0+json": {
       "id": "1394"
      }
     },
     "output_type": "execute_result"
    }
   ],
   "source": [
    "ts = gf.loc[:, ['timeStamp','code','relativeOrbit']]\n",
    "ts.hvplot.scatter(by='relativeOrbit', x='timeStamp', marker='dash', size=200, angle=90, c='code', cmap='Category10', \n",
    "                  title='Sentinel-1 Tracks',\n",
    "                  colorbar=False, yaxis=None, legend=True, width=800, muted_alpha=0.1, alpha=1).opts(padding=0.1)"
   ]
  },
  {
   "cell_type": "markdown",
   "metadata": {},
   "source": [
    "## Extras"
   ]
  },
  {
   "cell_type": "code",
   "execution_count": 18,
   "metadata": {},
   "outputs": [
    {
     "data": {
      "text/plain": [
       "platform     dateStamp   frameNumber\n",
       "Sentinel-1A  2019-09-08  663            1\n",
       "                         668            1\n",
       "             2019-09-20  663            1\n",
       "                         668            1\n",
       "Sentinel-1B  2019-09-02  662            1\n",
       "                         667            1\n",
       "                         672            1\n",
       "             2019-09-14  662            1\n",
       "                         667            1\n",
       "                         672            1\n",
       "             2019-09-26  662            1\n",
       "                         667            1\n",
       "                         672            1\n",
       "Name: geometry, dtype: int64"
      ]
     },
     "execution_count": 18,
     "metadata": {},
     "output_type": "execute_result"
    }
   ],
   "source": [
    "# Illustrate different coverage of S1A and S1B frames\n",
    "gdf.query('relativeOrbit == 156').groupby(['platform','dateStamp','frameNumber'])['geometry'].count()"
   ]
  },
  {
   "cell_type": "code",
   "execution_count": 19,
   "metadata": {},
   "outputs": [],
   "source": [
    "# Print all metadata for a single frame\n",
    "#with pd.option_context('display.max_rows', 100):\n",
    "#    print(gdf.iloc[0])\n",
    "# frameNumber                                                           1110\n",
    "# platform                                                       Sentinel-1B"
   ]
  },
  {
   "cell_type": "code",
   "execution_count": 20,
   "metadata": {},
   "outputs": [
    {
     "name": "stderr",
     "output_type": "stream",
     "text": [
      "WARNING:param.GeoOverlayPlot05348: title_format is deprecated. Please use title instead\n",
      "WARNING:param.GeoOverlayPlot05348: Both title and title_format set. Using title\n",
      "WARNING:param.GeoOverlayPlot05348: title_format is deprecated. Please use title instead\n",
      "WARNING:param.GeoOverlayPlot05348: Both title and title_format set. Using title\n"
     ]
    },
    {
     "data": {},
     "metadata": {},
     "output_type": "display_data"
    },
    {
     "data": {
      "application/vnd.holoviews_exec.v0+json": "",
      "text/html": [
       "<div id='1915'>\n",
       "\n",
       "\n",
       "\n",
       "\n",
       "\n",
       "  <div class=\"bk-root\" id=\"279ee919-2726-4533-be77-537b125b1739\" data-root-id=\"1915\"></div>\n",
       "</div>\n",
       "<script type=\"application/javascript\">(function(root) {\n",
       "  function embed_document(root) {\n",
       "  var docs_json = {\"3f7a5bfb-a6ec-43c2-a234-8abecdffbf6a\":{\"roots\":{\"references\":[{\"attributes\":{},\"id\":\"2098\",\"type\":\"UnionRenderers\"},{\"attributes\":{\"align\":null,\"below\":[{\"id\":\"1956\"}],\"center\":[{\"id\":\"1959\"},{\"id\":\"1963\"}],\"frame_height\":500,\"frame_width\":700,\"left\":[{\"id\":\"1960\"}],\"margin\":null,\"match_aspect\":true,\"min_border_bottom\":10,\"min_border_left\":10,\"min_border_right\":10,\"min_border_top\":10,\"plot_height\":500,\"plot_width\":700,\"renderers\":[{\"id\":\"2003\"},{\"id\":\"2017\"},{\"id\":\"2071\"},{\"id\":\"2081\"},{\"id\":\"2089\"}],\"right\":[{\"id\":\"2007\"}],\"sizing_mode\":\"fixed\",\"title\":{\"id\":\"1948\"},\"toolbar\":{\"id\":\"1968\"},\"x_range\":{\"id\":\"1931\"},\"x_scale\":{\"id\":\"1952\"},\"y_range\":{\"id\":\"1932\"},\"y_scale\":{\"id\":\"1954\"}},\"id\":\"1947\",\"subtype\":\"Figure\",\"type\":\"Plot\"},{\"attributes\":{\"fill_alpha\":{\"value\":0.2},\"fill_color\":{\"value\":\"#1f77b3\"},\"line_alpha\":{\"value\":0.2},\"xs\":{\"field\":\"xs\"},\"ys\":{\"field\":\"ys\"}},\"id\":\"2002\",\"type\":\"MultiPolygons\"},{\"attributes\":{\"fill_alpha\":{\"value\":0.1},\"fill_color\":{\"value\":\"#ff7e0e\"},\"line_alpha\":{\"value\":0.1},\"xs\":{\"field\":\"xs\"},\"ys\":{\"field\":\"ys\"}},\"id\":\"2014\",\"type\":\"MultiPolygons\"},{\"attributes\":{\"data_source\":{\"id\":\"1997\"},\"glyph\":{\"id\":\"2000\"},\"hover_glyph\":null,\"muted_glyph\":{\"id\":\"2002\"},\"nonselection_glyph\":{\"id\":\"2001\"},\"selection_glyph\":null,\"view\":{\"id\":\"2004\"}},\"id\":\"2003\",\"type\":\"GlyphRenderer\"},{\"attributes\":{\"zoom_on_axis\":false},\"id\":\"1933\",\"type\":\"WheelZoomTool\"},{\"attributes\":{\"dimension\":\"lat\"},\"id\":\"1979\",\"type\":\"MercatorTicker\"},{\"attributes\":{},\"id\":\"1952\",\"type\":\"LinearScale\"},{\"attributes\":{\"click_policy\":\"mute\",\"items\":[{\"id\":\"2008\"},{\"id\":\"2023\"}],\"location\":[0,0]},\"id\":\"2007\",\"type\":\"Legend\"},{\"attributes\":{\"fill_color\":{\"value\":\"#ff0000\"},\"line_color\":{\"value\":\"#ff0000\"},\"marker\":{\"value\":\"triangle\"},\"size\":{\"units\":\"screen\",\"value\":10},\"x\":{\"field\":\"x\"},\"y\":{\"field\":\"y\"}},\"id\":\"2086\",\"type\":\"Scatter\"},{\"attributes\":{\"data_source\":{\"id\":\"2011\"},\"glyph\":{\"id\":\"2014\"},\"hover_glyph\":null,\"muted_glyph\":{\"id\":\"2016\"},\"nonselection_glyph\":{\"id\":\"2015\"},\"selection_glyph\":null,\"view\":{\"id\":\"2018\"}},\"id\":\"2017\",\"type\":\"GlyphRenderer\"},{\"attributes\":{\"source\":{\"id\":\"2083\"}},\"id\":\"2090\",\"type\":\"CDSView\"},{\"attributes\":{\"source\":{\"id\":\"2011\"}},\"id\":\"2018\",\"type\":\"CDSView\"},{\"attributes\":{\"fill_alpha\":{\"value\":0.2},\"fill_color\":{\"value\":\"#ff7e0e\"},\"line_alpha\":{\"value\":0.2},\"xs\":{\"field\":\"xs\"},\"ys\":{\"field\":\"ys\"}},\"id\":\"2016\",\"type\":\"MultiPolygons\"},{\"attributes\":{\"data\":{\"x\":{\"__ndarray__\":\"9jQO2SqHXME=\",\"dtype\":\"float64\",\"shape\":[1]},\"y\":{\"__ndarray__\":\"JckWfbJoQ8E=\",\"dtype\":\"float64\",\"shape\":[1]}},\"selected\":{\"id\":\"2084\"},\"selection_policy\":{\"id\":\"2098\"}},\"id\":\"2083\",\"type\":\"ColumnDataSource\"},{\"attributes\":{\"dimension\":\"lat\"},\"id\":\"1980\",\"type\":\"MercatorTickFormatter\"},{\"attributes\":{},\"id\":\"2084\",\"type\":\"Selection\"},{\"attributes\":{\"end\":-7203485.70008789,\"min_interval\":5,\"reset_end\":-7203485.70008789,\"reset_start\":-8047284.538590589,\"start\":-8047284.538590589,\"tags\":[[[\"Longitude\",\"Longitude\",null]]]},\"id\":\"1931\",\"type\":\"Range1d\"},{\"attributes\":{\"text\":\"Sentinel-1 Track 156\",\"text_color\":{\"value\":\"black\"},\"text_font_size\":{\"value\":\"12pt\"}},\"id\":\"1948\",\"type\":\"Title\"},{\"attributes\":{},\"id\":\"1966\",\"type\":\"ResetTool\"},{\"attributes\":{\"fill_alpha\":{\"value\":0.2},\"fill_color\":{\"value\":null},\"line_alpha\":{\"value\":0.2},\"line_color\":{\"value\":\"orange\"},\"xs\":{\"field\":\"xs\"},\"ys\":{\"field\":\"ys\"}},\"id\":\"2080\",\"type\":\"MultiPolygons\"},{\"attributes\":{\"dimension\":\"lon\"},\"id\":\"1978\",\"type\":\"MercatorTickFormatter\"},{\"attributes\":{\"level\":\"underlay\",\"tile_source\":{\"id\":\"2068\"}},\"id\":\"2071\",\"type\":\"TileRenderer\"},{\"attributes\":{\"bottom_units\":\"screen\",\"fill_alpha\":0.5,\"fill_color\":\"lightgrey\",\"left_units\":\"screen\",\"level\":\"overlay\",\"line_alpha\":1.0,\"line_color\":\"black\",\"line_dash\":[4,4],\"line_width\":2,\"render_mode\":\"css\",\"right_units\":\"screen\",\"top_units\":\"screen\"},\"id\":\"1967\",\"type\":\"BoxAnnotation\"},{\"attributes\":{\"callback\":null,\"renderers\":[{\"id\":\"2003\"},{\"id\":\"2017\"}],\"tags\":[\"hv_created\"],\"tooltips\":[[\"Element\",\"@{Element}\"]]},\"id\":\"1935\",\"type\":\"HoverTool\"},{\"attributes\":{\"axis\":{\"id\":\"1956\"},\"grid_line_color\":null,\"ticker\":null},\"id\":\"1959\",\"type\":\"Grid\"},{\"attributes\":{\"source\":{\"id\":\"1997\"}},\"id\":\"2004\",\"type\":\"CDSView\"},{\"attributes\":{},\"id\":\"1998\",\"type\":\"Selection\"},{\"attributes\":{\"data_source\":{\"id\":\"2075\"},\"glyph\":{\"id\":\"2078\"},\"hover_glyph\":null,\"muted_glyph\":{\"id\":\"2080\"},\"nonselection_glyph\":{\"id\":\"2079\"},\"selection_glyph\":null,\"view\":{\"id\":\"2082\"}},\"id\":\"2081\",\"type\":\"GlyphRenderer\"},{\"attributes\":{},\"id\":\"2096\",\"type\":\"UnionRenderers\"},{\"attributes\":{\"axis\":{\"id\":\"1960\"},\"dimension\":1,\"grid_line_color\":null,\"ticker\":null},\"id\":\"1963\",\"type\":\"Grid\"},{\"attributes\":{\"source\":{\"id\":\"2075\"}},\"id\":\"2082\",\"type\":\"CDSView\"},{\"attributes\":{\"fill_alpha\":{\"value\":0.2},\"fill_color\":{\"value\":\"#ff0000\"},\"line_alpha\":{\"value\":0.2},\"line_color\":{\"value\":\"#ff0000\"},\"marker\":{\"value\":\"triangle\"},\"size\":{\"units\":\"screen\",\"value\":10},\"x\":{\"field\":\"x\"},\"y\":{\"field\":\"y\"}},\"id\":\"2088\",\"type\":\"Scatter\"},{\"attributes\":{},\"id\":\"2012\",\"type\":\"Selection\"},{\"attributes\":{\"label\":{\"value\":\"S1A\"},\"renderers\":[{\"id\":\"2003\"}]},\"id\":\"2008\",\"type\":\"LegendItem\"},{\"attributes\":{\"attribution\":\"&copy; <a href=\\\"https://www.openstreetmap.org/copyright\\\">OpenStreetMap</a> contributors, &copy; <a href=\\\"https://cartodb.com/attributions\\\">CartoDB</a>\",\"url\":\"http://3.api.cartocdn.com/base-eco/{Z}/{X}/{Y}.png\"},\"id\":\"2068\",\"type\":\"WMTSTileSource\"},{\"attributes\":{},\"id\":\"2020\",\"type\":\"UnionRenderers\"},{\"attributes\":{},\"id\":\"2029\",\"type\":\"UnionRenderers\"},{\"attributes\":{\"data\":{\"Element\":[\"S1B\",\"S1B\",\"S1B\",\"S1B\",\"S1B\",\"S1B\",\"S1B\",\"S1B\",\"S1B\"],\"xs\":[[[{\"__ndarray__\":\"EfEjKSmDXcHfOc8JM1NdwfROMtCxSlzBU6T/LJB3XMER8SMpKYNdwQ==\",\"dtype\":\"float64\",\"shape\":[5]}]],[[{\"__ndarray__\":\"oq4OnPXcXcEMJtZohKpdwZ7+fHQZm1zB+8u66OXJXMGirg6c9dxdwQ==\",\"dtype\":\"float64\",\"shape\":[5]}]],[[{\"__ndarray__\":\"hffc7umuXcHS2hNaw31dwSU2QkTIcVzBYgMnPJGfXMGF99zu6a5dwQ==\",\"dtype\":\"float64\",\"shape\":[5]}]],[[{\"__ndarray__\":\"l5kjoxyDXcGFYIjLJ1NdwdhV4PUsS1zBSGqK9gt4XMGXmSOjHINdwQ==\",\"dtype\":\"float64\",\"shape\":[5]}]],[[{\"__ndarray__\":\"NlJWG/TcXcFcyOz0f6pdwRLSqyd5mlzBtYKmOEbJXME2UlYb9NxdwQ==\",\"dtype\":\"float64\",\"shape\":[5]}]],[[{\"__ndarray__\":\"PBQgUumuXcEN3MGYwH1dwejn8uQtcVzBprL4qvaeXME8FCBS6a5dwQ==\",\"dtype\":\"float64\",\"shape\":[5]}]],[[{\"__ndarray__\":\"GuzoeS6DXcF59k8wOVNdwZ7Kj5q4SlzB7GCAU5Z3XMEa7Oh5LoNdwQ==\",\"dtype\":\"float64\",\"shape\":[5]}]],[[{\"__ndarray__\":\"r1SymO7cXcGN7Ek5eqpdwedYLY9ymlzBCwdJbj/JXMGvVLKY7txdwQ==\",\"dtype\":\"float64\",\"shape\":[5]}]],[[{\"__ndarray__\":\"6zpcyOOuXcG9Av4Ou31dwYhKlFMncVzBRBWaGfCeXMHrOlzI465dwQ==\",\"dtype\":\"float64\",\"shape\":[5]}]]],\"ys\":[[[{\"__ndarray__\":\"qjbUB3n7QsEB0IUQ04NBwYGI4CnUCELB7QuR3AKEQ8GqNtQHeftCwQ==\",\"dtype\":\"float64\",\"shape\":[5]}]],[[{\"__ndarray__\":\"/Iw8nFq6RcHZHKXlcjtEwT882uuZx0TBceJ26plKRsH8jDycWrpFwQ==\",\"dtype\":\"float64\",\"shape\":[5]}]],[[{\"__ndarray__\":\"eU66qn9ZRMHzxwXfXN5Cwdf/K+fdZkPBw8hnkM7lRMF5Trqqf1lEwQ==\",\"dtype\":\"float64\",\"shape\":[5]}]],[[{\"__ndarray__\":\"8q5355f7QsEda6+a+INBwX1yAoW2CELBkDKsk9yDQ8Hyrnfnl/tCwQ==\",\"dtype\":\"float64\",\"shape\":[5]}]],[[{\"__ndarray__\":\"gNKAXFe6RcHL3lpZWTtEwbnerwLPx0TB8rY0yOdKRsGA0oBcV7pFwQ==\",\"dtype\":\"float64\",\"shape\":[5]}]],[[{\"__ndarray__\":\"Ipow6XNZRMFgsUOEQt5CwXrHYjgPZ0PBJMNguxDmRMEimjDpc1lEwQ==\",\"dtype\":\"float64\",\"shape\":[5]}]],[[{\"__ndarray__\":\"Qm/OaHr7QsGFFImL24NBwYbBGjPcCELB0GS4wwOEQ8FCb85oevtCwQ==\",\"dtype\":\"float64\",\"shape\":[5]}]],[[{\"__ndarray__\":\"vfyP81W6RcGMDeQTWDtEwf5UcFfOx0TB1iK7GudKRsG9/I/zVbpFwQ==\",\"dtype\":\"float64\",\"shape\":[5]}]],[[{\"__ndarray__\":\"Mldqo3JZRMH0tEJCQd5CwYnn0K0OZ0PBNzP2DxDmRMEyV2qjcllEwQ==\",\"dtype\":\"float64\",\"shape\":[5]}]]]},\"selected\":{\"id\":\"2012\"},\"selection_policy\":{\"id\":\"2029\"}},\"id\":\"2011\",\"type\":\"ColumnDataSource\"},{\"attributes\":{\"match_aspect\":true,\"overlay\":{\"id\":\"1967\"}},\"id\":\"1934\",\"type\":\"BoxZoomTool\"},{\"attributes\":{},\"id\":\"1965\",\"type\":\"PanTool\"},{\"attributes\":{},\"id\":\"1954\",\"type\":\"LinearScale\"},{\"attributes\":{},\"id\":\"2076\",\"type\":\"Selection\"},{\"attributes\":{\"data_source\":{\"id\":\"2083\"},\"glyph\":{\"id\":\"2086\"},\"hover_glyph\":null,\"muted_glyph\":{\"id\":\"2088\"},\"nonselection_glyph\":{\"id\":\"2087\"},\"selection_glyph\":null,\"view\":{\"id\":\"2090\"}},\"id\":\"2089\",\"type\":\"GlyphRenderer\"},{\"attributes\":{\"fill_alpha\":{\"value\":0.1},\"fill_color\":{\"value\":null},\"line_alpha\":{\"value\":0.1},\"line_color\":{\"value\":\"orange\"},\"xs\":{\"field\":\"xs\"},\"ys\":{\"field\":\"ys\"}},\"id\":\"2079\",\"type\":\"MultiPolygons\"},{\"attributes\":{\"margin\":[5,5,5,5],\"name\":\"HSpacer05268\",\"sizing_mode\":\"stretch_width\"},\"id\":\"1916\",\"type\":\"Spacer\"},{\"attributes\":{\"children\":[{\"id\":\"1916\"},{\"id\":\"1947\"},{\"id\":\"2171\"}],\"margin\":[0,0,0,0],\"name\":\"Row05264\",\"tags\":[\"embedded\"]},\"id\":\"1915\",\"type\":\"Row\"},{\"attributes\":{\"end\":-2273031.045451419,\"min_interval\":5,\"reset_end\":-2273031.045451419,\"reset_start\":-2875744.5015247753,\"start\":-2875744.5015247753,\"tags\":[[[\"Latitude\",\"Latitude\",null]]]},\"id\":\"1932\",\"type\":\"Range1d\"},{\"attributes\":{\"fill_alpha\":{\"value\":0.5},\"fill_color\":{\"value\":\"#1f77b3\"},\"line_alpha\":{\"value\":0.5},\"xs\":{\"field\":\"xs\"},\"ys\":{\"field\":\"ys\"}},\"id\":\"2001\",\"type\":\"MultiPolygons\"},{\"attributes\":{\"fill_color\":{\"value\":null},\"line_color\":{\"value\":\"orange\"},\"xs\":{\"field\":\"xs\"},\"ys\":{\"field\":\"ys\"}},\"id\":\"2078\",\"type\":\"MultiPolygons\"},{\"attributes\":{\"data\":{\"Element\":[\"S1A\",\"S1A\",\"S1A\",\"S1A\"],\"xs\":[[[{\"__ndarray__\":\"tnh7eESwXcEEt6rq/35dwQd3tPHye1zBRz5F6+upXMG2eHt4RLBdwQ==\",\"dtype\":\"float64\",\"shape\":[5]}]],[[{\"__ndarray__\":\"s75dw8eDXcE/mH21ulNdwa2NGWMuVFzBZkh/BDSBXMGzvl3Dx4NdwQ==\",\"dtype\":\"float64\",\"shape\":[5]}]],[[{\"__ndarray__\":\"wpE31FGwXcFpbUIjDn9dwehI4U4DfFzBT3V1nfupXMHCkTfUUbBdwQ==\",\"dtype\":\"float64\",\"shape\":[5]}]],[[{\"__ndarray__\":\"KTTSn9aDXcGTjzhKyFNdwfuiSE4+VFzBWtmIBUWBXMEpNNKf1oNdwQ==\",\"dtype\":\"float64\",\"shape\":[5]}]]],\"ys\":[[[{\"__ndarray__\":\"Xdz8Uo2dRMGvnxcS7CFDwRcOHLQkpkPBUnBlMXwlRcFd3PxSjZ1EwQ==\",\"dtype\":\"float64\",\"shape\":[5]}]],[[{\"__ndarray__\":\"mVliIB8/Q8FgK6odHcdBwfosjuXYR0LB4ggShUzDQ8GZWWIgHz9DwQ==\",\"dtype\":\"float64\",\"shape\":[5]}]],[[{\"__ndarray__\":\"pUc1BIudRMFWQobA8CFDwQd/OIYppkPBX4TFwHklRcGlRzUEi51EwQ==\",\"dtype\":\"float64\",\"shape\":[5]}]],[[{\"__ndarray__\":\"qfCAYSs/Q8GRUKihIcdBwQyKUozdR0LBW0TE8VjDQ8Gp8IBhKz9DwQ==\",\"dtype\":\"float64\",\"shape\":[5]}]]]},\"selected\":{\"id\":\"1998\"},\"selection_policy\":{\"id\":\"2020\"}},\"id\":\"1997\",\"type\":\"ColumnDataSource\"},{\"attributes\":{\"fill_alpha\":{\"value\":0.1},\"fill_color\":{\"value\":\"#ff0000\"},\"line_alpha\":{\"value\":0.1},\"line_color\":{\"value\":\"#ff0000\"},\"marker\":{\"value\":\"triangle\"},\"size\":{\"units\":\"screen\",\"value\":10},\"x\":{\"field\":\"x\"},\"y\":{\"field\":\"y\"}},\"id\":\"2087\",\"type\":\"Scatter\"},{\"attributes\":{\"dimension\":\"lon\"},\"id\":\"1977\",\"type\":\"MercatorTicker\"},{\"attributes\":{\"label\":{\"value\":\"S1B\"},\"renderers\":[{\"id\":\"2017\"}]},\"id\":\"2023\",\"type\":\"LegendItem\"},{\"attributes\":{\"margin\":[5,5,5,5],\"name\":\"HSpacer05269\",\"sizing_mode\":\"stretch_width\"},\"id\":\"2171\",\"type\":\"Spacer\"},{\"attributes\":{\"axis_label\":\"Longitude\",\"bounds\":\"auto\",\"formatter\":{\"id\":\"1978\"},\"major_label_orientation\":\"horizontal\",\"ticker\":{\"id\":\"1977\"}},\"id\":\"1956\",\"type\":\"LinearAxis\"},{\"attributes\":{\"data\":{\"xs\":[[[{\"__ndarray__\":\"ggZXhqB8XMHtRu90HYdcwZAq53OMlVzB0JW63jmhXMHkt8LMI9VcwUkI95Kt3FzBgl3aEJbwXMG0T+LnoAZdwe8m/FLMEF3B4OZsPrISXcHl7mKwKA1dwc3oPAYB9VzBfUw6+2AmXMF0KP0cKhZcwRzr7pNmAVzBgaGLQgTqW8HKznQxiNxbwVeI5UcH0VvBk9Xwpta/W8GIqhUfobdbwXr9ppDgwFvBC3shZcgdXMH68iRbnzlcwdOUe2luW1zBggZXhqB8XME=\",\"dtype\":\"float64\",\"shape\":[25]}]]],\"ys\":[[[{\"__ndarray__\":\"ZRlgwJFJRMHoU+nNgDNEwZjjGnjNJUTB/pTqjrEsRMGy4PQFNDlEwYbcqRi8C0TBn2QV0Pm/Q8GkLQfrBoZDwRRB8wT2E0PBhOzMi77BQsG9ARjJBJZCwXk3a5Vug0LB3C8vz+YbQ8Ge49Q5uSxDweVpXbxSNkPBE50Kp/NKQ8FbWu4URIJDwRoeZvmuuEPBNIMrSgHtQ8FYWFRMvh5EwUZ6NwkyWETBLBj+GJd6RMECz2PbWLdEwXAxEEW4jkTBZRlgwJFJRME=\",\"dtype\":\"float64\",\"shape\":[25]}]]]},\"selected\":{\"id\":\"2076\"},\"selection_policy\":{\"id\":\"2096\"}},\"id\":\"2075\",\"type\":\"ColumnDataSource\"},{\"attributes\":{\"fill_alpha\":{\"value\":0.1},\"fill_color\":{\"value\":\"#ff7e0e\"},\"line_alpha\":{\"value\":0.1},\"xs\":{\"field\":\"xs\"},\"ys\":{\"field\":\"ys\"}},\"id\":\"2015\",\"type\":\"MultiPolygons\"},{\"attributes\":{\"active_drag\":\"auto\",\"active_inspect\":\"auto\",\"active_multi\":null,\"active_scroll\":\"auto\",\"active_tap\":\"auto\",\"tools\":[{\"id\":\"1933\"},{\"id\":\"1934\"},{\"id\":\"1935\"},{\"id\":\"1965\"},{\"id\":\"1966\"}]},\"id\":\"1968\",\"type\":\"Toolbar\"},{\"attributes\":{\"axis_label\":\"Latitude\",\"bounds\":\"auto\",\"formatter\":{\"id\":\"1980\"},\"major_label_orientation\":\"horizontal\",\"ticker\":{\"id\":\"1979\"}},\"id\":\"1960\",\"type\":\"LinearAxis\"},{\"attributes\":{\"fill_alpha\":{\"value\":0.5},\"fill_color\":{\"value\":\"#1f77b3\"},\"line_alpha\":{\"value\":0.5},\"xs\":{\"field\":\"xs\"},\"ys\":{\"field\":\"ys\"}},\"id\":\"2000\",\"type\":\"MultiPolygons\"}],\"root_ids\":[\"1915\"]},\"title\":\"Bokeh Application\",\"version\":\"2.0.1\"}};\n",
       "  var render_items = [{\"docid\":\"3f7a5bfb-a6ec-43c2-a234-8abecdffbf6a\",\"root_ids\":[\"1915\"],\"roots\":{\"1915\":\"279ee919-2726-4533-be77-537b125b1739\"}}];\n",
       "  root.Bokeh.embed.embed_items_notebook(docs_json, render_items);\n",
       "  }\n",
       "if (root.Bokeh !== undefined) {\n",
       "    embed_document(root);\n",
       "  } else {\n",
       "    var attempts = 0;\n",
       "    var timer = setInterval(function(root) {\n",
       "      if (root.Bokeh !== undefined) {\n",
       "        clearInterval(timer);\n",
       "        embed_document(root);\n",
       "      } else if (document.readyState == \"complete\") {\n",
       "        attempts++;\n",
       "        if (attempts > 100) {\n",
       "          clearInterval(timer);\n",
       "          console.log(\"Bokeh: ERROR: Unable to run BokehJS code because BokehJS library is missing\");\n",
       "        }\n",
       "      }\n",
       "    }, 10, root)\n",
       "  }\n",
       "})(window);</script>"
      ],
      "text/plain": [
       ":Overlay\n",
       "   .NdOverlay.I :NdOverlay   [Element]\n",
       "      :Polygons   [Longitude,Latitude]\n",
       "   .WMTS.I      :WMTS   [Longitude,Latitude]\n",
       "   .Polygons.I  :Polygons   [Longitude,Latitude]\n",
       "   .Points.I    :Points   [x,y]"
      ]
     },
     "execution_count": 20,
     "metadata": {
      "application/vnd.holoviews_exec.v0+json": {
       "id": "1915"
      }
     },
     "output_type": "execute_result"
    }
   ],
   "source": [
    "# raised bug on hvplot issue tracker: https://github.com/holoviz/hvplot/issues/381\n",
    "import holoviews as hv\n",
    "gf_s1a = gdf.query('relativeOrbit == 156 and platform == \"Sentinel-1A\"')\n",
    "gf_s1b = gdf.query('relativeOrbit == 156 and platform == \"Sentinel-1B\"')\n",
    "overlays = hv.NdOverlay({'S1A':gf_s1a.hvplot(geo=True, alpha=0.5), \n",
    "                         'S1B':gf_s1b.hvplot(geo=True, alpha=0.1), \n",
    "                        })\n",
    "overlays.opts(title='Sentinel-1 Track 156') * tiles * aoi * utur "
   ]
  },
  {
   "cell_type": "code",
   "execution_count": null,
   "metadata": {},
   "outputs": [],
   "source": [
    "#Note that for track 156, we don't really need to include subswath 3 since it is very far west\n",
    "# Subswaths for region of interest Uturuncu+moat region:\n",
    "#156: 1,2\n",
    "#149: 2,3\n",
    "#76: 1,2\n",
    "#83: 2,3"
   ]
  }
 ],
 "metadata": {
  "kernelspec": {
   "display_name": "Python 3",
   "language": "python",
   "name": "python3"
  },
  "language_info": {
   "codemirror_mode": {
    "name": "ipython",
    "version": 3
   },
   "file_extension": ".py",
   "mimetype": "text/x-python",
   "name": "python",
   "nbconvert_exporter": "python",
   "pygments_lexer": "ipython3",
   "version": "3.8.2"
  }
 },
 "nbformat": 4,
 "nbformat_minor": 4
}
